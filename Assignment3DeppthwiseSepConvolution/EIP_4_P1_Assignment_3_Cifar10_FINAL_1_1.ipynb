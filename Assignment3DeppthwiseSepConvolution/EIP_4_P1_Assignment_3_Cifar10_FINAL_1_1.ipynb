{
  "nbformat": 4,
  "nbformat_minor": 0,
  "metadata": {
    "colab": {
      "name": "EIP_4_P1_Assignment_3_Cifar10_FINAL_1.1.ipynb",
      "provenance": [],
      "collapsed_sections": [
        "F7AQPKm1_Rtw",
        "knN8gURA-UMj",
        "4rp4Oc80Q25R",
        "2YOe_XEKQ-rr",
        "OjFGNFblbl_Q",
        "iWcSYpeO9o3C",
        "8raIm9uFp-rY",
        "BNy28cd8E-Ht"
      ]
    },
    "kernelspec": {
      "name": "python3",
      "display_name": "Python 3"
    },
    "accelerator": "GPU"
  },
  "cells": [
    {
      "cell_type": "markdown",
      "metadata": {
        "id": "F7AQPKm1_Rtw",
        "colab_type": "text"
      },
      "source": [
        "## Initial Setup"
      ]
    },
    {
      "cell_type": "markdown",
      "metadata": {
        "id": "ZPrtfYuoxT_l",
        "colab_type": "text"
      },
      "source": [
        "\n",
        "- Run this (Links to an external site.) network (base network) for 50 epochs, report Validation Accuracy after 50 epochs. \n",
        "- Add new cells at the bottom of the code, and write your own network such that:\n",
        "  - it uses depthwise separable convolution ONLY (no Conv2D)\n",
        "  - it uses BatchNormalization\n",
        "  - has less than 100,000 parameters\n",
        "  - it uses proper dropout values\n",
        "  - you've mentioned the output size for each layer\n",
        "  - you've mentioned the receptive field for each layer\n",
        "  - runs for 50 epochs\n",
        "  - beats the validation score within 50 epochs (at any epoch run, doesn't need to be final one)\n",
        "- Submit the github link \n",
        "- Your github links must have:\n",
        "   - Assignment 3.ipynb file with your code as well as logs for both the models\n",
        "            ReadMe.md which should have:\n",
        "            - Final Validation accuracy for Base Network\n",
        "            - Your model definition (model.add... ) with output channel size and receptive field\n",
        "            - Your 50 epoch logs\n"
      ]
    },
    {
      "cell_type": "code",
      "metadata": {
        "id": "KkwXnw9OfHZl",
        "colab_type": "code",
        "outputId": "b837cef8-068e-422f-aa10-9d796d28eb73",
        "colab": {
          "base_uri": "https://localhost:8080/",
          "height": 83
        }
      },
      "source": [
        "from keras import backend as K\n",
        "import time\n",
        "import matplotlib.pyplot as plt\n",
        "import numpy as np\n",
        "% matplotlib inline\n",
        "np.random.seed(2017) \n",
        "import keras.applications as  applications\n",
        "from keras.models import Sequential\n",
        "from keras.layers.convolutional import Convolution2D, MaxPooling2D, SeparableConv2D\n",
        "from keras.layers import Activation, Flatten, Dense, Dropout, Add, BatchNormalization, GlobalAveragePooling2D\n",
        "from keras.layers.normalization import BatchNormalization\n",
        "from keras.utils import np_utils"
      ],
      "execution_count": 1,
      "outputs": [
        {
          "output_type": "stream",
          "text": [
            "Using TensorFlow backend.\n"
          ],
          "name": "stderr"
        },
        {
          "output_type": "display_data",
          "data": {
            "text/html": [
              "<p style=\"color: red;\">\n",
              "The default version of TensorFlow in Colab will soon switch to TensorFlow 2.x.<br>\n",
              "We recommend you <a href=\"https://www.tensorflow.org/guide/migrate\" target=\"_blank\">upgrade</a> now \n",
              "or ensure your notebook will continue to use TensorFlow 1.x via the <code>%tensorflow_version 1.x</code> magic:\n",
              "<a href=\"https://colab.research.google.com/notebooks/tensorflow_version.ipynb\" target=\"_blank\">more info</a>.</p>\n"
            ],
            "text/plain": [
              "<IPython.core.display.HTML object>"
            ]
          },
          "metadata": {
            "tags": []
          }
        }
      ]
    },
    {
      "cell_type": "code",
      "metadata": {
        "id": "NHpnoCHZfO8g",
        "colab_type": "code",
        "outputId": "46d97112-5b8f-4b9b-821b-90977bc7df66",
        "colab": {
          "base_uri": "https://localhost:8080/",
          "height": 0
        }
      },
      "source": [
        "from keras.datasets import cifar10\n",
        "(train_features, train_labels), (test_features, test_labels) = cifar10.load_data()\n",
        "num_train, img_channels, img_rows, img_cols =  train_features.shape\n",
        "num_test, _, _, _ =  test_features.shape\n",
        "num_classes = len(np.unique(train_labels))"
      ],
      "execution_count": 2,
      "outputs": [
        {
          "output_type": "stream",
          "text": [
            "Downloading data from https://www.cs.toronto.edu/~kriz/cifar-10-python.tar.gz\n",
            "170500096/170498071 [==============================] - 2s 0us/step\n"
          ],
          "name": "stdout"
        }
      ]
    },
    {
      "cell_type": "code",
      "metadata": {
        "id": "14HyBUXdfS6G",
        "colab_type": "code",
        "outputId": "d25c4d40-6e70-4534-81ac-ca3b7594e162",
        "colab": {
          "base_uri": "https://localhost:8080/",
          "height": 0
        }
      },
      "source": [
        "class_names = ['airplane','automobile','bird','cat','deer',\n",
        "               'dog','frog','horse','ship','truck']\n",
        "fig = plt.figure(figsize=(8,3))\n",
        "for i in range(num_classes):\n",
        "    ax = fig.add_subplot(2, 5, 1 + i, xticks=[], yticks=[])\n",
        "    idx = np.where(train_labels[:]==i)[0]\n",
        "    features_idx = train_features[idx,::]\n",
        "    img_num = np.random.randint(features_idx.shape[0])\n",
        "    im = features_idx[img_num]\n",
        "    ax.set_title(class_names[i])\n",
        "    plt.imshow(im)\n",
        "plt.show()"
      ],
      "execution_count": 3,
      "outputs": [
        {
          "output_type": "display_data",
          "data": {
            "image/png": "[encoded data removed]",
            "text/plain": [
              "<Figure size 576x216 with 10 Axes>"
            ]
          },
          "metadata": {
            "tags": []
          }
        }
      ]
    },
    {
      "cell_type": "code",
      "metadata": {
        "id": "bmfsk76-fadV",
        "colab_type": "code",
        "colab": {}
      },
      "source": [
        "def plot_model_history(model_history):\n",
        "    fig, axs = plt.subplots(1,2,figsize=(15,5))\n",
        "    # summarize history for accuracy\n",
        "    axs[0].plot(range(1,len(model_history.history['acc'])+1),model_history.history['acc'])\n",
        "    axs[0].plot(range(1,len(model_history.history['val_acc'])+1),model_history.history['val_acc'])\n",
        "    axs[0].set_title('Model Accuracy')\n",
        "    axs[0].set_ylabel('Accuracy')\n",
        "    axs[0].set_xlabel('Epoch')\n",
        "    axs[0].set_xticks(np.arange(1,len(model_history.history['acc'])+1),len(model_history.history['acc'])/10)\n",
        "    axs[0].legend(['train', 'val'], loc='best')\n",
        "    # summarize history for loss\n",
        "    axs[1].plot(range(1,len(model_history.history['loss'])+1),model_history.history['loss'])\n",
        "    axs[1].plot(range(1,len(model_history.history['val_loss'])+1),model_history.history['val_loss'])\n",
        "    axs[1].set_title('Model Loss')\n",
        "    axs[1].set_ylabel('Loss')\n",
        "    axs[1].set_xlabel('Epoch')\n",
        "    axs[1].set_xticks(np.arange(1,len(model_history.history['loss'])+1),len(model_history.history['loss'])/10)\n",
        "    axs[1].legend(['train', 'val'], loc='best')\n",
        "    plt.show()"
      ],
      "execution_count": 0,
      "outputs": []
    },
    {
      "cell_type": "code",
      "metadata": {
        "id": "YJMT4rjgfdZz",
        "colab_type": "code",
        "colab": {}
      },
      "source": [
        "## Function gives the accuracy on test data\n",
        "def accuracy(test_x, test_y, model):\n",
        "    result = model.predict(test_x)\n",
        "    predicted_class = np.argmax(result, axis=1)\n",
        "    true_class = np.argmax(test_y, axis=1)\n",
        "    num_correct = np.sum(predicted_class == true_class) \n",
        "    accuracy = float(num_correct)/result.shape[0]\n",
        "    return (accuracy * 100)"
      ],
      "execution_count": 0,
      "outputs": []
    },
    {
      "cell_type": "code",
      "metadata": {
        "id": "T5c5nDvxm6zR",
        "colab_type": "code",
        "colab": {}
      },
      "source": [
        "train_features = train_features.astype('float32')/255\n",
        "test_features = test_features.astype('float32')/255\n",
        "# convert class labels to binary class labels\n",
        "train_labels = np_utils.to_categorical(train_labels, num_classes)\n",
        "test_labels = np_utils.to_categorical(test_labels, num_classes)"
      ],
      "execution_count": 0,
      "outputs": []
    },
    {
      "cell_type": "markdown",
      "metadata": {
        "colab_type": "text",
        "id": "knN8gURA-UMj"
      },
      "source": [
        "## Baseline Network with Convolution only"
      ]
    },
    {
      "cell_type": "code",
      "metadata": {
        "colab_type": "code",
        "outputId": "75fed0db-24b4-4b89-cc4a-cad98069eff2",
        "id": "3bgZIyKS-UYJ",
        "colab": {
          "base_uri": "https://localhost:8080/",
          "height": 255
        }
      },
      "source": [
        "# Define the model\n",
        "model = Sequential()\n",
        "model.add(Convolution2D(48, 3, 3, border_mode='same', input_shape=(32, 32, 3)))\n",
        "model.add(Activation('relu'))\n",
        "model.add(Convolution2D(48, 3, 3))\n",
        "model.add(Activation('relu'))\n",
        "model.add(MaxPooling2D(pool_size=(2, 2)))\n",
        "model.add(Dropout(0.25))\n",
        "model.add(Convolution2D(96, 3, 3, border_mode='same'))\n",
        "model.add(Activation('relu'))\n",
        "model.add(Convolution2D(96, 3, 3))\n",
        "model.add(Activation('relu'))\n",
        "model.add(MaxPooling2D(pool_size=(2, 2)))\n",
        "model.add(Dropout(0.25))\n",
        "model.add(Convolution2D(192, 3, 3, border_mode='same'))\n",
        "model.add(Activation('relu'))\n",
        "model.add(Convolution2D(192, 3, 3))\n",
        "model.add(Activation('relu'))\n",
        "model.add(MaxPooling2D(pool_size=(2, 2)))\n",
        "model.add(Dropout(0.25))\n",
        "model.add(Flatten())\n",
        "model.add(Dense(512))\n",
        "model.add(Activation('relu'))\n",
        "model.add(Dropout(0.5))\n",
        "model.add(Dense(256))\n",
        "model.add(Activation('relu'))\n",
        "model.add(Dropout(0.5))\n",
        "model.add(Dense(num_classes, activation='softmax'))\n",
        "# Compile the model\n",
        "model.compile(optimizer='adam', loss='categorical_crossentropy', metrics=['accuracy'])\n"
      ],
      "execution_count": 0,
      "outputs": [
        {
          "output_type": "stream",
          "text": [
            "/usr/local/lib/python3.6/dist-packages/ipykernel_launcher.py:2: UserWarning: Update your `Conv2D` call to the Keras 2 API: `Conv2D(48, (3, 3), input_shape=(32, 32, 3..., padding=\"same\")`\n",
            "  \n",
            "/usr/local/lib/python3.6/dist-packages/ipykernel_launcher.py:4: UserWarning: Update your `Conv2D` call to the Keras 2 API: `Conv2D(48, (3, 3))`\n",
            "  after removing the cwd from sys.path.\n",
            "/usr/local/lib/python3.6/dist-packages/ipykernel_launcher.py:8: UserWarning: Update your `Conv2D` call to the Keras 2 API: `Conv2D(96, (3, 3), padding=\"same\")`\n",
            "  \n",
            "/usr/local/lib/python3.6/dist-packages/ipykernel_launcher.py:10: UserWarning: Update your `Conv2D` call to the Keras 2 API: `Conv2D(96, (3, 3))`\n",
            "  # Remove the CWD from sys.path while we load stuff.\n",
            "/usr/local/lib/python3.6/dist-packages/ipykernel_launcher.py:14: UserWarning: Update your `Conv2D` call to the Keras 2 API: `Conv2D(192, (3, 3), padding=\"same\")`\n",
            "  \n",
            "/usr/local/lib/python3.6/dist-packages/ipykernel_launcher.py:16: UserWarning: Update your `Conv2D` call to the Keras 2 API: `Conv2D(192, (3, 3))`\n",
            "  app.launch_new_instance()\n"
          ],
          "name": "stderr"
        }
      ]
    },
    {
      "cell_type": "code",
      "metadata": {
        "colab_type": "code",
        "outputId": "35113797-14ff-4992-cf9a-7de8f770b97c",
        "id": "d7B9soNh-UYj",
        "colab": {
          "base_uri": "https://localhost:8080/",
          "height": 1000
        }
      },
      "source": [
        "model.summary()"
      ],
      "execution_count": 0,
      "outputs": [
        {
          "output_type": "stream",
          "text": [
            "Model: \"sequential_1\"\n",
            "_________________________________________________________________\n",
            "Layer (type)                 Output Shape              Param #   \n",
            "=================================================================\n",
            "conv2d_1 (Conv2D)            (None, 32, 32, 48)        1344      \n",
            "_________________________________________________________________\n",
            "activation_1 (Activation)    (None, 32, 32, 48)        0         \n",
            "_________________________________________________________________\n",
            "conv2d_2 (Conv2D)            (None, 30, 30, 48)        20784     \n",
            "_________________________________________________________________\n",
            "activation_2 (Activation)    (None, 30, 30, 48)        0         \n",
            "_________________________________________________________________\n",
            "max_pooling2d_1 (MaxPooling2 (None, 15, 15, 48)        0         \n",
            "_________________________________________________________________\n",
            "dropout_1 (Dropout)          (None, 15, 15, 48)        0         \n",
            "_________________________________________________________________\n",
            "conv2d_3 (Conv2D)            (None, 15, 15, 96)        41568     \n",
            "_________________________________________________________________\n",
            "activation_3 (Activation)    (None, 15, 15, 96)        0         \n",
            "_________________________________________________________________\n",
            "conv2d_4 (Conv2D)            (None, 13, 13, 96)        83040     \n",
            "_________________________________________________________________\n",
            "activation_4 (Activation)    (None, 13, 13, 96)        0         \n",
            "_________________________________________________________________\n",
            "max_pooling2d_2 (MaxPooling2 (None, 6, 6, 96)          0         \n",
            "_________________________________________________________________\n",
            "dropout_2 (Dropout)          (None, 6, 6, 96)          0         \n",
            "_________________________________________________________________\n",
            "conv2d_5 (Conv2D)            (None, 6, 6, 192)         166080    \n",
            "_________________________________________________________________\n",
            "activation_5 (Activation)    (None, 6, 6, 192)         0         \n",
            "_________________________________________________________________\n",
            "conv2d_6 (Conv2D)            (None, 4, 4, 192)         331968    \n",
            "_________________________________________________________________\n",
            "activation_6 (Activation)    (None, 4, 4, 192)         0         \n",
            "_________________________________________________________________\n",
            "max_pooling2d_3 (MaxPooling2 (None, 2, 2, 192)         0         \n",
            "_________________________________________________________________\n",
            "dropout_3 (Dropout)          (None, 2, 2, 192)         0         \n",
            "_________________________________________________________________\n",
            "flatten_1 (Flatten)          (None, 768)               0         \n",
            "_________________________________________________________________\n",
            "dense_1 (Dense)              (None, 512)               393728    \n",
            "_________________________________________________________________\n",
            "activation_7 (Activation)    (None, 512)               0         \n",
            "_________________________________________________________________\n",
            "dropout_4 (Dropout)          (None, 512)               0         \n",
            "_________________________________________________________________\n",
            "dense_2 (Dense)              (None, 256)               131328    \n",
            "_________________________________________________________________\n",
            "activation_8 (Activation)    (None, 256)               0         \n",
            "_________________________________________________________________\n",
            "dropout_5 (Dropout)          (None, 256)               0         \n",
            "_________________________________________________________________\n",
            "dense_3 (Dense)              (None, 10)                2570      \n",
            "=================================================================\n",
            "Total params: 1,172,410\n",
            "Trainable params: 1,172,410\n",
            "Non-trainable params: 0\n",
            "_________________________________________________________________\n"
          ],
          "name": "stdout"
        }
      ]
    },
    {
      "cell_type": "code",
      "metadata": {
        "colab_type": "code",
        "outputId": "1dc862ee-14d2-42c9-dec8-58ff9de700b0",
        "id": "gcOsEBpA-UZD",
        "colab": {
          "base_uri": "https://localhost:8080/",
          "height": 1000
        }
      },
      "source": [
        "from keras.preprocessing.image import ImageDataGenerator\n",
        "\n",
        "datagen = ImageDataGenerator(zoom_range=0.0, \n",
        "                             horizontal_flip=False)\n",
        "\n",
        "\n",
        "# train the model\n",
        "start = time.time()\n",
        "# Train the model\n",
        "model_info = model.fit_generator(datagen.flow(train_features, train_labels, batch_size = 128),\n",
        "                                 samples_per_epoch = train_features.shape[0], nb_epoch = 50, \n",
        "                                 validation_data = (test_features, test_labels), verbose=1)\n",
        "end = time.time()\n",
        "print (\"Model took %0.2f seconds to train\"%(end - start))\n",
        "# plot model history\n",
        "plot_model_history(model_info)\n",
        "# compute test accuracy\n",
        "print (\"Accuracy on test data is: %0.2f\"%accuracy(test_features, test_labels, model))"
      ],
      "execution_count": 0,
      "outputs": [
        {
          "output_type": "stream",
          "text": [
            "/usr/local/lib/python3.6/dist-packages/ipykernel_launcher.py:12: UserWarning: The semantics of the Keras 2 argument `steps_per_epoch` is not the same as the Keras 1 argument `samples_per_epoch`. `steps_per_epoch` is the number of batches to draw from the generator at each epoch. Basically steps_per_epoch = samples_per_epoch/batch_size. Similarly `nb_val_samples`->`validation_steps` and `val_samples`->`steps` arguments have changed. Update your method calls accordingly.\n",
            "  if sys.path[0] == '':\n",
            "/usr/local/lib/python3.6/dist-packages/ipykernel_launcher.py:12: UserWarning: Update your `fit_generator` call to the Keras 2 API: `fit_generator(<keras_pre..., validation_data=(array([[[..., verbose=1, steps_per_epoch=390, epochs=50)`\n",
            "  if sys.path[0] == '':\n"
          ],
          "name": "stderr"
        },
        {
          "output_type": "stream",
          "text": [
            "Epoch 1/50\n",
            "390/390 [==============================] - 19s 48ms/step - loss: 1.8634 - acc: 0.2853 - val_loss: 1.5148 - val_acc: 0.4386\n",
            "Epoch 2/50\n",
            "390/390 [==============================] - 8s 20ms/step - loss: 1.4027 - acc: 0.4860 - val_loss: 1.1998 - val_acc: 0.5703\n",
            "Epoch 3/50\n",
            "390/390 [==============================] - 8s 20ms/step - loss: 1.1777 - acc: 0.5821 - val_loss: 1.0308 - val_acc: 0.6368\n",
            "Epoch 4/50\n",
            "390/390 [==============================] - 8s 20ms/step - loss: 1.0224 - acc: 0.6439 - val_loss: 0.9538 - val_acc: 0.6636\n",
            "Epoch 5/50\n",
            "390/390 [==============================] - 8s 20ms/step - loss: 0.9232 - acc: 0.6780 - val_loss: 0.8299 - val_acc: 0.7131\n",
            "Epoch 6/50\n",
            "390/390 [==============================] - 8s 20ms/step - loss: 0.8387 - acc: 0.7097 - val_loss: 0.7559 - val_acc: 0.7405\n",
            "Epoch 7/50\n",
            "390/390 [==============================] - 8s 20ms/step - loss: 0.7815 - acc: 0.7312 - val_loss: 0.7509 - val_acc: 0.7439\n",
            "Epoch 8/50\n",
            "390/390 [==============================] - 8s 20ms/step - loss: 0.7299 - acc: 0.7499 - val_loss: 0.7800 - val_acc: 0.7348\n",
            "Epoch 9/50\n",
            "390/390 [==============================] - 8s 20ms/step - loss: 0.6847 - acc: 0.7657 - val_loss: 0.6620 - val_acc: 0.7753\n",
            "Epoch 10/50\n",
            "390/390 [==============================] - 8s 20ms/step - loss: 0.6507 - acc: 0.7784 - val_loss: 0.6480 - val_acc: 0.7784\n",
            "Epoch 11/50\n",
            "390/390 [==============================] - 8s 20ms/step - loss: 0.6238 - acc: 0.7868 - val_loss: 0.6286 - val_acc: 0.7855\n",
            "Epoch 12/50\n",
            "390/390 [==============================] - 8s 20ms/step - loss: 0.5974 - acc: 0.7971 - val_loss: 0.6494 - val_acc: 0.7803\n",
            "Epoch 13/50\n",
            "390/390 [==============================] - 8s 20ms/step - loss: 0.5776 - acc: 0.8040 - val_loss: 0.6414 - val_acc: 0.7827\n",
            "Epoch 14/50\n",
            "390/390 [==============================] - 8s 20ms/step - loss: 0.5521 - acc: 0.8128 - val_loss: 0.6094 - val_acc: 0.7939\n",
            "Epoch 15/50\n",
            "390/390 [==============================] - 8s 20ms/step - loss: 0.5355 - acc: 0.8184 - val_loss: 0.6295 - val_acc: 0.7898\n",
            "Epoch 16/50\n",
            "390/390 [==============================] - 8s 20ms/step - loss: 0.5220 - acc: 0.8227 - val_loss: 0.5882 - val_acc: 0.8042\n",
            "Epoch 17/50\n",
            "390/390 [==============================] - 8s 20ms/step - loss: 0.5126 - acc: 0.8254 - val_loss: 0.6110 - val_acc: 0.8006\n",
            "Epoch 18/50\n",
            "390/390 [==============================] - 8s 20ms/step - loss: 0.5016 - acc: 0.8281 - val_loss: 0.5853 - val_acc: 0.8075\n",
            "Epoch 19/50\n",
            "390/390 [==============================] - 8s 20ms/step - loss: 0.4856 - acc: 0.8341 - val_loss: 0.5924 - val_acc: 0.8031\n",
            "Epoch 20/50\n",
            "390/390 [==============================] - 8s 20ms/step - loss: 0.4783 - acc: 0.8362 - val_loss: 0.6104 - val_acc: 0.7990\n",
            "Epoch 21/50\n",
            "390/390 [==============================] - 8s 20ms/step - loss: 0.4623 - acc: 0.8409 - val_loss: 0.5820 - val_acc: 0.8179\n",
            "Epoch 22/50\n",
            "390/390 [==============================] - 8s 20ms/step - loss: 0.4410 - acc: 0.8501 - val_loss: 0.6177 - val_acc: 0.7998\n",
            "Epoch 23/50\n",
            "390/390 [==============================] - 8s 20ms/step - loss: 0.4361 - acc: 0.8518 - val_loss: 0.6214 - val_acc: 0.8003\n",
            "Epoch 24/50\n",
            "390/390 [==============================] - 8s 20ms/step - loss: 0.4356 - acc: 0.8501 - val_loss: 0.5838 - val_acc: 0.8172\n",
            "Epoch 25/50\n",
            "390/390 [==============================] - 8s 20ms/step - loss: 0.4196 - acc: 0.8556 - val_loss: 0.5560 - val_acc: 0.8205\n",
            "Epoch 26/50\n",
            "390/390 [==============================] - 8s 20ms/step - loss: 0.4189 - acc: 0.8593 - val_loss: 0.5949 - val_acc: 0.8096\n",
            "Epoch 27/50\n",
            "390/390 [==============================] - 8s 20ms/step - loss: 0.4156 - acc: 0.8577 - val_loss: 0.5723 - val_acc: 0.8159\n",
            "Epoch 28/50\n",
            "390/390 [==============================] - 8s 20ms/step - loss: 0.4066 - acc: 0.8609 - val_loss: 0.5921 - val_acc: 0.8166\n",
            "Epoch 29/50\n",
            "390/390 [==============================] - 8s 20ms/step - loss: 0.3957 - acc: 0.8656 - val_loss: 0.6035 - val_acc: 0.8090\n",
            "Epoch 30/50\n",
            "390/390 [==============================] - 8s 20ms/step - loss: 0.4018 - acc: 0.8642 - val_loss: 0.5739 - val_acc: 0.8190\n",
            "Epoch 31/50\n",
            "390/390 [==============================] - 8s 20ms/step - loss: 0.3839 - acc: 0.8695 - val_loss: 0.5889 - val_acc: 0.8191\n",
            "Epoch 32/50\n",
            "390/390 [==============================] - 8s 20ms/step - loss: 0.3805 - acc: 0.8712 - val_loss: 0.5799 - val_acc: 0.8186\n",
            "Epoch 33/50\n",
            "390/390 [==============================] - 8s 20ms/step - loss: 0.3822 - acc: 0.8702 - val_loss: 0.6240 - val_acc: 0.8064\n",
            "Epoch 34/50\n",
            "390/390 [==============================] - 8s 20ms/step - loss: 0.3721 - acc: 0.8746 - val_loss: 0.5895 - val_acc: 0.8147\n",
            "Epoch 35/50\n",
            "390/390 [==============================] - 8s 20ms/step - loss: 0.3662 - acc: 0.8755 - val_loss: 0.5635 - val_acc: 0.8210\n",
            "Epoch 36/50\n",
            "390/390 [==============================] - 8s 20ms/step - loss: 0.3686 - acc: 0.8746 - val_loss: 0.5714 - val_acc: 0.8220\n",
            "Epoch 37/50\n",
            "390/390 [==============================] - 8s 20ms/step - loss: 0.3608 - acc: 0.8780 - val_loss: 0.5979 - val_acc: 0.8131\n",
            "Epoch 38/50\n",
            "390/390 [==============================] - 8s 20ms/step - loss: 0.3636 - acc: 0.8788 - val_loss: 0.5871 - val_acc: 0.8206\n",
            "Epoch 39/50\n",
            "390/390 [==============================] - 8s 20ms/step - loss: 0.3508 - acc: 0.8825 - val_loss: 0.5780 - val_acc: 0.8211\n",
            "Epoch 40/50\n",
            "390/390 [==============================] - 8s 20ms/step - loss: 0.3564 - acc: 0.8813 - val_loss: 0.5899 - val_acc: 0.8223\n",
            "Epoch 41/50\n",
            "390/390 [==============================] - 8s 20ms/step - loss: 0.3425 - acc: 0.8834 - val_loss: 0.5839 - val_acc: 0.8201\n",
            "Epoch 42/50\n",
            "390/390 [==============================] - 8s 20ms/step - loss: 0.3473 - acc: 0.8834 - val_loss: 0.6109 - val_acc: 0.8123\n",
            "Epoch 43/50\n",
            "390/390 [==============================] - 8s 20ms/step - loss: 0.3377 - acc: 0.8845 - val_loss: 0.5778 - val_acc: 0.8230\n",
            "Epoch 44/50\n",
            "390/390 [==============================] - 8s 20ms/step - loss: 0.3347 - acc: 0.8877 - val_loss: 0.5740 - val_acc: 0.8203\n",
            "Epoch 45/50\n",
            "390/390 [==============================] - 8s 20ms/step - loss: 0.3378 - acc: 0.8870 - val_loss: 0.5794 - val_acc: 0.8287\n",
            "Epoch 46/50\n",
            "390/390 [==============================] - 8s 20ms/step - loss: 0.3301 - acc: 0.8886 - val_loss: 0.6280 - val_acc: 0.8116\n",
            "Epoch 47/50\n",
            "390/390 [==============================] - 8s 20ms/step - loss: 0.3321 - acc: 0.8891 - val_loss: 0.6077 - val_acc: 0.8185\n",
            "Epoch 48/50\n",
            "390/390 [==============================] - 8s 20ms/step - loss: 0.3244 - acc: 0.8927 - val_loss: 0.6317 - val_acc: 0.8179\n",
            "Epoch 49/50\n",
            "390/390 [==============================] - 8s 20ms/step - loss: 0.3293 - acc: 0.8896 - val_loss: 0.5761 - val_acc: 0.8254\n",
            "Epoch 50/50\n",
            "390/390 [==============================] - 8s 20ms/step - loss: 0.3232 - acc: 0.8919 - val_loss: 0.5906 - val_acc: 0.8245\n",
            "Model took 397.36 seconds to train\n"
          ],
          "name": "stdout"
        },
        {
          "output_type": "display_data",
          "data": {
            "image/png": "[encoded data removed]",
            "text/plain": [
              "<Figure size 1080x360 with 2 Axes>"
            ]
          },
          "metadata": {
            "tags": []
          }
        },
        {
          "output_type": "stream",
          "text": [
            "Accuracy on test data is: 82.45\n"
          ],
          "name": "stdout"
        }
      ]
    },
    {
      "cell_type": "code",
      "metadata": {
        "colab_type": "code",
        "id": "z8BPpDo2-UZT",
        "colab": {}
      },
      "source": [
        ""
      ],
      "execution_count": 0,
      "outputs": []
    },
    {
      "cell_type": "markdown",
      "metadata": {
        "id": "WXV3Sv7uyES8",
        "colab_type": "text"
      },
      "source": [
        "## Section -2 with Depthwise Separable Convolution"
      ]
    },
    {
      "cell_type": "markdown",
      "metadata": {
        "id": "0zMbXXfGAY4M",
        "colab_type": "text"
      },
      "source": [
        "Our Aim of thos section is to develop a model which will have accuracy on Test data more than what we got from baseline model **Accuracy on test data is: 82.40**.\n",
        "\n",
        "**Network Approach 5B is Final Network and process described in Session-2 has been followed here to arrive into Final architecture**\n",
        "\n",
        "*Have followed a methodical approach to do the network architecture and further finetune. All these network have gone though transformations as shown below and each of these \"Network Approach\" have their finetune strategy used w.r.t earlier one.*\n",
        "**Last architecture \"Network Approach:5\" is the final network which has achieved accuracy of 83.12% and without using any convolution & Dense Layers.*"
      ]
    },
    {
      "cell_type": "markdown",
      "metadata": {
        "id": "4rp4Oc80Q25R",
        "colab_type": "text"
      },
      "source": [
        "### Network Approach: 1"
      ]
    },
    {
      "cell_type": "code",
      "metadata": {
        "id": "cSOb2lkJfhVq",
        "colab_type": "code",
        "outputId": "0db70201-c5ce-4551-ef1b-73cdeff8fb2d",
        "colab": {
          "base_uri": "https://localhost:8080/",
          "height": 187
        }
      },
      "source": [
        "# # Define the model\n",
        "# model = Sequential()\n",
        "# model.add(SeparableConv2D(filters=48*2, kernel_size=(3, 3), dilation_rate=(2, 2), border_mode='valid', input_shape=(32, 32, 3)))\n",
        "# model.add(BatchNormalization())\n",
        "# model.add(Activation('relu'))\n",
        "\n",
        "# model.add(SeparableConv2D(filters=48*2, kernel_size=(3, 3),dilation_rate=(1, 1)))\n",
        "# model.add(BatchNormalization())\n",
        "# model.add(Activation('relu'))\n",
        "\n",
        "# # model.add(MaxPooling2D(pool_size=(2, 2)))\n",
        "# # model.add(Dropout(0.25))\n",
        "\n",
        "# model.add(SeparableConv2D(filters=96*2, kernel_size=(3, 3), dilation_rate=(2, 2),border_mode='valid'))\n",
        "# model.add(BatchNormalization())\n",
        "# model.add(Activation('relu'))\n",
        "\n",
        "# model.add(SeparableConv2D(filters=96*2, kernel_size=(3, 3),dilation_rate=(2, 2)))\n",
        "# model.add(BatchNormalization())\n",
        "# model.add(Activation('relu'))\n",
        "\n",
        "# # model.add(MaxPooling2D(pool_size=(2, 2)))\n",
        "# model.add(Dropout(0.25))\n",
        "\n",
        "# model.add(SeparableConv2D(filters=192*2, kernel_size=(3, 3), dilation_rate=(2, 2),border_mode='valid'))\n",
        "# model.add(BatchNormalization())\n",
        "# model.add(Activation('relu'))\n",
        "\n",
        "# model.add(SeparableConv2D(filters=192*2, kernel_size=(3, 3), dilation_rate=(2, 2),border_mode='valid'))\n",
        "# model.add(BatchNormalization())\n",
        "# model.add(Activation('relu'))\n",
        "# model.add(Dropout(0.25))\n",
        "\n",
        "# model.add(SeparableConv2D(filters=384*2, kernel_size=(3, 3), dilation_rate=(3, 3),border_mode='valid'))\n",
        "# model.add(BatchNormalization())\n",
        "# model.add(Activation('relu'))\n",
        "\n",
        "# # model.add(SeparableConv2D(filters=192, kernel_size=(3, 3),dilation_rate=(2, 2)))\n",
        "# # model.add(Activation('relu'))\n",
        "\n",
        "# # model.add(MaxPooling2D(pool_size=(2, 2)))\n",
        "# model.add(Dropout(0.35))\n",
        "\n",
        "# model.add(Flatten())\n",
        "\n",
        "# # model.add(Dense(512))\n",
        "# # model.add(Activation('relu'))\n",
        "# # model.add(Dropout(0.4))\n",
        "\n",
        "# model.add(Dense(256))\n",
        "# model.add(Activation('relu'))\n",
        "# # model.add(Dropout(0.2))\n",
        "\n",
        "# model.add(Dense(num_classes, activation='softmax'))\n",
        "# # Compile the model\n",
        "# model.compile(optimizer='adam',loss='categorical_crossentropy', metrics=['accuracy'])\n",
        "\n",
        "#####################################Network Version 2 ##########################\n",
        "###Performance Summary\n",
        "# Epoch 00040: val_acc did not improve from 0.77060\n",
        "# Epoch 41/50\n",
        "# 390/390 [==============================] - 120s 308ms/step - loss: 0.2048 - acc: 0.9265 - val_loss: 0.9640 - val_acc: 0.7687\n",
        "\n",
        "# Epoch 00041: val_acc did not improve from 0.77060\n",
        "# Epoch 42/50\n",
        "# 390/390 [==============================] - 120s 308ms/step - loss: 0.2004 - acc: 0.9281 - val_loss: 1.0073 - val_acc: 0.7643\n",
        "\n",
        "# Epoch 00042: val_acc did not improve from 0.77060\n",
        "###################\n",
        "# Define the model\n",
        "model = Sequential()\n",
        "model.add(SeparableConv2D(filters=24*2, kernel_size=(3, 3), dilation_rate=(2, 2), border_mode='valid', input_shape=(32, 32, 3)))\n",
        "model.add(BatchNormalization())\n",
        "model.add(Activation('relu'))\n",
        "\n",
        "model.add(SeparableConv2D(filters=48*2, kernel_size=(3, 3),dilation_rate=(1, 1)))\n",
        "model.add(BatchNormalization())\n",
        "model.add(Activation('relu'))\n",
        "\n",
        "# model.add(MaxPooling2D(pool_size=(2, 2)))\n",
        "# model.add(Dropout(0.25))\n",
        "\n",
        "model.add(SeparableConv2D(filters=96*2, kernel_size=(3, 3), dilation_rate=(2, 2),border_mode='valid'))\n",
        "model.add(BatchNormalization())\n",
        "model.add(Activation('relu'))\n",
        "\n",
        "model.add(SeparableConv2D(filters=192*2, kernel_size=(3, 3),dilation_rate=(2, 2)))\n",
        "model.add(BatchNormalization())\n",
        "model.add(Activation('relu'))\n",
        "\n",
        "# model.add(MaxPooling2D(pool_size=(2, 2)))\n",
        "model.add(Dropout(0.25))\n",
        "\n",
        "model.add(SeparableConv2D(filters=384*2, kernel_size=(3, 3), dilation_rate=(2, 2),border_mode='valid'))\n",
        "model.add(BatchNormalization())\n",
        "model.add(Activation('relu'))\n",
        "\n",
        "model.add(MaxPooling2D(pool_size=(2, 2)))\n",
        "\n",
        "model.add(SeparableConv2D(filters=48*2, kernel_size=(3, 3), dilation_rate=(2, 2),border_mode='same'))\n",
        "model.add(BatchNormalization())\n",
        "model.add(Activation('relu'))\n",
        "model.add(Dropout(0.25))\n",
        "\n",
        "\n",
        "model.add(SeparableConv2D(filters=96*2, kernel_size=(3, 3), dilation_rate=(2, 2),border_mode='same'))\n",
        "model.add(BatchNormalization())\n",
        "model.add(Activation('relu'))\n",
        "\n",
        "model.add(SeparableConv2D(filters=192*2, kernel_size=(3, 3), dilation_rate=(3, 3),border_mode='same'))\n",
        "model.add(BatchNormalization())\n",
        "\n",
        "# model.add(MaxPooling2D(pool_size=(2, 2)))\n",
        "model.add(Dropout(0.35))\n",
        "\n",
        "model.add(Flatten())\n",
        "\n",
        "# model.add(Dense(512))\n",
        "# model.add(Activation('relu'))\n",
        "# model.add(Dropout(0.4))\n",
        "\n",
        "model.add(Dense(256))\n",
        "model.add(Activation('relu'))\n",
        "# model.add(Dropout(0.2))\n",
        "\n",
        "model.add(Dense(num_classes, activation='softmax'))\n",
        "# Compile the model\n",
        "model.compile(optimizer='adam',loss='categorical_crossentropy', metrics=['accuracy'])\n"
      ],
      "execution_count": 0,
      "outputs": [
        {
          "output_type": "stream",
          "text": [
            "/usr/local/lib/python3.6/dist-packages/ipykernel_launcher.py:2: UserWarning: Update your `SeparableConv2D` call to the Keras 2 API: `SeparableConv2D(filters=48, kernel_size=(3, 3), dilation_rate=(2, 2), input_shape=(32, 32, 3..., padding=\"valid\")`\n",
            "  \n",
            "/usr/local/lib/python3.6/dist-packages/ipykernel_launcher.py:13: UserWarning: Update your `SeparableConv2D` call to the Keras 2 API: `SeparableConv2D(filters=192, kernel_size=(3, 3), dilation_rate=(2, 2), padding=\"valid\")`\n",
            "  del sys.path[0]\n",
            "/usr/local/lib/python3.6/dist-packages/ipykernel_launcher.py:24: UserWarning: Update your `SeparableConv2D` call to the Keras 2 API: `SeparableConv2D(filters=768, kernel_size=(3, 3), dilation_rate=(2, 2), padding=\"valid\")`\n",
            "/usr/local/lib/python3.6/dist-packages/ipykernel_launcher.py:30: UserWarning: Update your `SeparableConv2D` call to the Keras 2 API: `SeparableConv2D(filters=96, kernel_size=(3, 3), dilation_rate=(2, 2), padding=\"same\")`\n",
            "/usr/local/lib/python3.6/dist-packages/ipykernel_launcher.py:36: UserWarning: Update your `SeparableConv2D` call to the Keras 2 API: `SeparableConv2D(filters=192, kernel_size=(3, 3), dilation_rate=(2, 2), padding=\"same\")`\n",
            "/usr/local/lib/python3.6/dist-packages/ipykernel_launcher.py:40: UserWarning: Update your `SeparableConv2D` call to the Keras 2 API: `SeparableConv2D(filters=384, kernel_size=(3, 3), dilation_rate=(3, 3), padding=\"same\")`\n"
          ],
          "name": "stderr"
        }
      ]
    },
    {
      "cell_type": "code",
      "metadata": {
        "id": "wvVs5tC8mR6Q",
        "colab_type": "code",
        "outputId": "84f84cf5-084b-429b-8643-beba331221aa",
        "colab": {
          "base_uri": "https://localhost:8080/",
          "height": 1000
        }
      },
      "source": [
        "model.summary()"
      ],
      "execution_count": 0,
      "outputs": [
        {
          "output_type": "stream",
          "text": [
            "Model: \"sequential_4\"\n",
            "_________________________________________________________________\n",
            "Layer (type)                 Output Shape              Param #   \n",
            "=================================================================\n",
            "separable_conv2d_25 (Separab (None, 28, 28, 48)        219       \n",
            "_________________________________________________________________\n",
            "batch_normalization_25 (Batc (None, 28, 28, 48)        192       \n",
            "_________________________________________________________________\n",
            "activation_26 (Activation)   (None, 28, 28, 48)        0         \n",
            "_________________________________________________________________\n",
            "separable_conv2d_26 (Separab (None, 26, 26, 96)        5136      \n",
            "_________________________________________________________________\n",
            "batch_normalization_26 (Batc (None, 26, 26, 96)        384       \n",
            "_________________________________________________________________\n",
            "activation_27 (Activation)   (None, 26, 26, 96)        0         \n",
            "_________________________________________________________________\n",
            "separable_conv2d_27 (Separab (None, 22, 22, 192)       19488     \n",
            "_________________________________________________________________\n",
            "batch_normalization_27 (Batc (None, 22, 22, 192)       768       \n",
            "_________________________________________________________________\n",
            "activation_28 (Activation)   (None, 22, 22, 192)       0         \n",
            "_________________________________________________________________\n",
            "separable_conv2d_28 (Separab (None, 18, 18, 384)       75840     \n",
            "_________________________________________________________________\n",
            "batch_normalization_28 (Batc (None, 18, 18, 384)       1536      \n",
            "_________________________________________________________________\n",
            "activation_29 (Activation)   (None, 18, 18, 384)       0         \n",
            "_________________________________________________________________\n",
            "dropout_10 (Dropout)         (None, 18, 18, 384)       0         \n",
            "_________________________________________________________________\n",
            "separable_conv2d_29 (Separab (None, 14, 14, 768)       299136    \n",
            "_________________________________________________________________\n",
            "batch_normalization_29 (Batc (None, 14, 14, 768)       3072      \n",
            "_________________________________________________________________\n",
            "activation_30 (Activation)   (None, 14, 14, 768)       0         \n",
            "_________________________________________________________________\n",
            "max_pooling2d_4 (MaxPooling2 (None, 7, 7, 768)         0         \n",
            "_________________________________________________________________\n",
            "separable_conv2d_30 (Separab (None, 7, 7, 96)          80736     \n",
            "_________________________________________________________________\n",
            "batch_normalization_30 (Batc (None, 7, 7, 96)          384       \n",
            "_________________________________________________________________\n",
            "activation_31 (Activation)   (None, 7, 7, 96)          0         \n",
            "_________________________________________________________________\n",
            "dropout_11 (Dropout)         (None, 7, 7, 96)          0         \n",
            "_________________________________________________________________\n",
            "separable_conv2d_31 (Separab (None, 7, 7, 192)         19488     \n",
            "_________________________________________________________________\n",
            "batch_normalization_31 (Batc (None, 7, 7, 192)         768       \n",
            "_________________________________________________________________\n",
            "activation_32 (Activation)   (None, 7, 7, 192)         0         \n",
            "_________________________________________________________________\n",
            "separable_conv2d_32 (Separab (None, 7, 7, 384)         75840     \n",
            "_________________________________________________________________\n",
            "batch_normalization_32 (Batc (None, 7, 7, 384)         1536      \n",
            "_________________________________________________________________\n",
            "dropout_12 (Dropout)         (None, 7, 7, 384)         0         \n",
            "_________________________________________________________________\n",
            "flatten_4 (Flatten)          (None, 18816)             0         \n",
            "_________________________________________________________________\n",
            "dense_7 (Dense)              (None, 256)               4817152   \n",
            "_________________________________________________________________\n",
            "activation_33 (Activation)   (None, 256)               0         \n",
            "_________________________________________________________________\n",
            "dense_8 (Dense)              (None, 10)                2570      \n",
            "=================================================================\n",
            "Total params: 5,404,245\n",
            "Trainable params: 5,399,925\n",
            "Non-trainable params: 4,320\n",
            "_________________________________________________________________\n"
          ],
          "name": "stdout"
        }
      ]
    },
    {
      "cell_type": "code",
      "metadata": {
        "id": "rN9RtUc0kzve",
        "colab_type": "code",
        "colab": {}
      },
      "source": [
        "from keras.callbacks import LearningRateScheduler\n",
        "from keras.callbacks import ModelCheckpoint\n",
        "from keras.callbacks import ReduceLROnPlateau\n",
        "\n",
        "# def scheduler(epoch, lr):\n",
        "#   return round(0.0032 * 1/(1 + 0.219 * epoch), 10)\n",
        "\n",
        "# keras.callbacks.callbacks.ReduceLROnPlateau(monitor='val_loss', factor=0.1, patience=10, verbose=0, mode='auto', min_delta=0.0001, cooldown=0, min_lr=0)\n",
        "reduce_lr = ReduceLROnPlateau(monitor='val_loss', factor=0.02,\n",
        "                              patience=2, min_lr=0.0001)\n",
        "\n",
        "filepath=\"weights_a3.best.hdf5\"\n",
        "checkpoint = ModelCheckpoint(filepath, monitor='val_acc', verbose=1, save_best_only=True, mode='max')\n",
        "# callbacks_list = [checkpoint]\n"
      ],
      "execution_count": 0,
      "outputs": []
    },
    {
      "cell_type": "code",
      "metadata": {
        "id": "5oK_V7WyfsXX",
        "colab_type": "code",
        "outputId": "3b8f671f-de3d-408c-ed48-5b8408eda860",
        "colab": {
          "base_uri": "https://localhost:8080/",
          "height": 1000
        }
      },
      "source": [
        "from keras.preprocessing.image import ImageDataGenerator\n",
        "\n",
        "datagen = ImageDataGenerator(zoom_range=0.2, \n",
        "                             horizontal_flip=False,\n",
        "                             vertical_flip=False)\n",
        "\n",
        "\n",
        "# train the model\n",
        "start = time.time()\n",
        "# Train the model\n",
        "model_info = model.fit_generator(datagen.flow(train_features, train_labels, batch_size = 128),\n",
        "                                 samples_per_epoch = train_features.shape[0], nb_epoch = 50,\n",
        "                                 callbacks=[checkpoint,reduce_lr],\n",
        "                                #  callbacks=[checkpoint, LearningRateScheduler(scheduler, verbose=1)], \n",
        "                                 validation_data = (test_features, test_labels), verbose=1)\n",
        "end = time.time()\n",
        "print (\"Model took %0.2f seconds to train\"%(end - start))\n",
        "# plot model history\n",
        "plot_model_history(model_info)\n",
        "# compute test accuracy\n",
        "print (\"Accuracy on test data is: %0.2f\"%accuracy(test_features, test_labels, model))"
      ],
      "execution_count": 0,
      "outputs": [
        {
          "output_type": "stream",
          "text": [
            "WARNING:tensorflow:From /usr/local/lib/python3.6/dist-packages/tensorflow_core/python/ops/math_grad.py:1424: where (from tensorflow.python.ops.array_ops) is deprecated and will be removed in a future version.\n",
            "Instructions for updating:\n",
            "Use tf.where in 2.0, which has the same broadcast rule as np.where\n"
          ],
          "name": "stdout"
        },
        {
          "output_type": "stream",
          "text": [
            "/usr/local/lib/python3.6/dist-packages/ipykernel_launcher.py:15: UserWarning: The semantics of the Keras 2 argument `steps_per_epoch` is not the same as the Keras 1 argument `samples_per_epoch`. `steps_per_epoch` is the number of batches to draw from the generator at each epoch. Basically steps_per_epoch = samples_per_epoch/batch_size. Similarly `nb_val_samples`->`validation_steps` and `val_samples`->`steps` arguments have changed. Update your method calls accordingly.\n",
            "  from ipykernel import kernelapp as app\n",
            "/usr/local/lib/python3.6/dist-packages/ipykernel_launcher.py:15: UserWarning: Update your `fit_generator` call to the Keras 2 API: `fit_generator(<keras_pre..., callbacks=[<keras.ca..., validation_data=(array([[[..., verbose=1, steps_per_epoch=390, epochs=50)`\n",
            "  from ipykernel import kernelapp as app\n"
          ],
          "name": "stderr"
        },
        {
          "output_type": "stream",
          "text": [
            "WARNING:tensorflow:From /usr/local/lib/python3.6/dist-packages/keras/backend/tensorflow_backend.py:1033: The name tf.assign_add is deprecated. Please use tf.compat.v1.assign_add instead.\n",
            "\n",
            "WARNING:tensorflow:From /usr/local/lib/python3.6/dist-packages/keras/backend/tensorflow_backend.py:1020: The name tf.assign is deprecated. Please use tf.compat.v1.assign instead.\n",
            "\n",
            "Epoch 1/50\n",
            "390/390 [==============================] - 131s 336ms/step - loss: 1.7926 - acc: 0.3719 - val_loss: 1.7544 - val_acc: 0.4214\n",
            "\n",
            "Epoch 00001: val_acc improved from -inf to 0.42140, saving model to weights_a3.best.hdf5\n",
            "Epoch 2/50\n",
            "390/390 [==============================] - 121s 310ms/step - loss: 1.3155 - acc: 0.5304 - val_loss: 1.3492 - val_acc: 0.5173\n",
            "\n",
            "Epoch 00002: val_acc improved from 0.42140 to 0.51730, saving model to weights_a3.best.hdf5\n",
            "Epoch 3/50\n",
            "390/390 [==============================] - 121s 310ms/step - loss: 1.1411 - acc: 0.5965 - val_loss: 1.1542 - val_acc: 0.6029\n",
            "\n",
            "Epoch 00003: val_acc improved from 0.51730 to 0.60290, saving model to weights_a3.best.hdf5\n",
            "Epoch 4/50\n",
            "390/390 [==============================] - 121s 309ms/step - loss: 1.0116 - acc: 0.6431 - val_loss: 1.0602 - val_acc: 0.6434\n",
            "\n",
            "Epoch 00004: val_acc improved from 0.60290 to 0.64340, saving model to weights_a3.best.hdf5\n",
            "Epoch 5/50\n",
            "390/390 [==============================] - 121s 310ms/step - loss: 0.9217 - acc: 0.6763 - val_loss: 1.4830 - val_acc: 0.5315\n",
            "\n",
            "Epoch 00005: val_acc did not improve from 0.64340\n",
            "Epoch 6/50\n",
            "390/390 [==============================] - 121s 310ms/step - loss: 0.8459 - acc: 0.7043 - val_loss: 1.2016 - val_acc: 0.6171\n",
            "\n",
            "Epoch 00006: val_acc did not improve from 0.64340\n",
            "Epoch 7/50\n",
            "390/390 [==============================] - 121s 309ms/step - loss: 0.6709 - acc: 0.7655 - val_loss: 0.7554 - val_acc: 0.7422\n",
            "\n",
            "Epoch 00007: val_acc improved from 0.64340 to 0.74220, saving model to weights_a3.best.hdf5\n",
            "Epoch 8/50\n",
            "390/390 [==============================] - 121s 310ms/step - loss: 0.6180 - acc: 0.7837 - val_loss: 0.7634 - val_acc: 0.7422\n",
            "\n",
            "Epoch 00008: val_acc did not improve from 0.74220\n",
            "Epoch 9/50\n",
            "390/390 [==============================] - 121s 310ms/step - loss: 0.5972 - acc: 0.7914 - val_loss: 0.7563 - val_acc: 0.7467\n",
            "\n",
            "Epoch 00009: val_acc improved from 0.74220 to 0.74670, saving model to weights_a3.best.hdf5\n",
            "Epoch 10/50\n",
            "390/390 [==============================] - 121s 309ms/step - loss: 0.5747 - acc: 0.7981 - val_loss: 0.7361 - val_acc: 0.7538\n",
            "\n",
            "Epoch 00010: val_acc improved from 0.74670 to 0.75380, saving model to weights_a3.best.hdf5\n",
            "Epoch 11/50\n",
            "390/390 [==============================] - 121s 310ms/step - loss: 0.5534 - acc: 0.8047 - val_loss: 0.7567 - val_acc: 0.7521\n",
            "\n",
            "Epoch 00011: val_acc did not improve from 0.75380\n",
            "Epoch 12/50\n",
            "390/390 [==============================] - 121s 309ms/step - loss: 0.5362 - acc: 0.8110 - val_loss: 0.7597 - val_acc: 0.7538\n",
            "\n",
            "Epoch 00012: val_acc did not improve from 0.75380\n",
            "Epoch 13/50\n",
            "390/390 [==============================] - 121s 310ms/step - loss: 0.5232 - acc: 0.8155 - val_loss: 0.7567 - val_acc: 0.7548\n",
            "\n",
            "Epoch 00013: val_acc improved from 0.75380 to 0.75480, saving model to weights_a3.best.hdf5\n",
            "Epoch 14/50\n",
            "390/390 [==============================] - 121s 309ms/step - loss: 0.5075 - acc: 0.8197 - val_loss: 0.7439 - val_acc: 0.7591\n",
            "\n",
            "Epoch 00014: val_acc improved from 0.75480 to 0.75910, saving model to weights_a3.best.hdf5\n",
            "Epoch 15/50\n",
            "390/390 [==============================] - 121s 309ms/step - loss: 0.4922 - acc: 0.8262 - val_loss: 0.8283 - val_acc: 0.7425\n",
            "\n",
            "Epoch 00015: val_acc did not improve from 0.75910\n",
            "Epoch 16/50\n",
            "390/390 [==============================] - 121s 309ms/step - loss: 0.4736 - acc: 0.8321 - val_loss: 0.7792 - val_acc: 0.7532\n",
            "\n",
            "Epoch 00016: val_acc did not improve from 0.75910\n",
            "Epoch 17/50\n",
            "390/390 [==============================] - 121s 310ms/step - loss: 0.4617 - acc: 0.8375 - val_loss: 0.7911 - val_acc: 0.7529\n",
            "\n",
            "Epoch 00017: val_acc did not improve from 0.75910\n",
            "Epoch 18/50\n",
            "390/390 [==============================] - 121s 310ms/step - loss: 0.4454 - acc: 0.8438 - val_loss: 0.7665 - val_acc: 0.7611\n",
            "\n",
            "Epoch 00018: val_acc improved from 0.75910 to 0.76110, saving model to weights_a3.best.hdf5\n",
            "Epoch 19/50\n",
            "390/390 [==============================] - 121s 309ms/step - loss: 0.4346 - acc: 0.8465 - val_loss: 0.8002 - val_acc: 0.7538\n",
            "\n",
            "Epoch 00019: val_acc did not improve from 0.76110\n",
            "Epoch 20/50\n",
            "390/390 [==============================] - 120s 309ms/step - loss: 0.4170 - acc: 0.8519 - val_loss: 0.8013 - val_acc: 0.7621\n",
            "\n",
            "Epoch 00020: val_acc improved from 0.76110 to 0.76210, saving model to weights_a3.best.hdf5\n",
            "Epoch 21/50\n",
            "390/390 [==============================] - 121s 309ms/step - loss: 0.4024 - acc: 0.8567 - val_loss: 0.7918 - val_acc: 0.7612\n",
            "\n",
            "Epoch 00021: val_acc did not improve from 0.76210\n",
            "Epoch 22/50\n",
            "390/390 [==============================] - 120s 309ms/step - loss: 0.3877 - acc: 0.8626 - val_loss: 0.8033 - val_acc: 0.7645\n",
            "\n",
            "Epoch 00022: val_acc improved from 0.76210 to 0.76450, saving model to weights_a3.best.hdf5\n",
            "Epoch 23/50\n",
            "390/390 [==============================] - 121s 310ms/step - loss: 0.3752 - acc: 0.8675 - val_loss: 0.8265 - val_acc: 0.7595\n",
            "\n",
            "Epoch 00023: val_acc did not improve from 0.76450\n",
            "Epoch 24/50\n",
            "390/390 [==============================] - 121s 310ms/step - loss: 0.3668 - acc: 0.8705 - val_loss: 0.8358 - val_acc: 0.7601\n",
            "\n",
            "Epoch 00024: val_acc did not improve from 0.76450\n",
            "Epoch 25/50\n",
            "390/390 [==============================] - 121s 309ms/step - loss: 0.3527 - acc: 0.8736 - val_loss: 0.8501 - val_acc: 0.7563\n",
            "\n",
            "Epoch 00025: val_acc did not improve from 0.76450\n",
            "Epoch 26/50\n",
            "390/390 [==============================] - 121s 310ms/step - loss: 0.3411 - acc: 0.8784 - val_loss: 0.8261 - val_acc: 0.7678\n",
            "\n",
            "Epoch 00026: val_acc improved from 0.76450 to 0.76780, saving model to weights_a3.best.hdf5\n",
            "Epoch 27/50\n",
            "390/390 [==============================] - 121s 309ms/step - loss: 0.3322 - acc: 0.8813 - val_loss: 0.8491 - val_acc: 0.7647\n",
            "\n",
            "Epoch 00027: val_acc did not improve from 0.76780\n",
            "Epoch 28/50\n",
            "390/390 [==============================] - 121s 309ms/step - loss: 0.3198 - acc: 0.8867 - val_loss: 0.8451 - val_acc: 0.7644\n",
            "\n",
            "Epoch 00028: val_acc did not improve from 0.76780\n",
            "Epoch 29/50\n",
            "390/390 [==============================] - 121s 310ms/step - loss: 0.3075 - acc: 0.8912 - val_loss: 0.8703 - val_acc: 0.7600\n",
            "\n",
            "Epoch 00029: val_acc did not improve from 0.76780\n",
            "Epoch 30/50\n",
            "390/390 [==============================] - 121s 309ms/step - loss: 0.3019 - acc: 0.8926 - val_loss: 0.9085 - val_acc: 0.7569\n",
            "\n",
            "Epoch 00030: val_acc did not improve from 0.76780\n",
            "Epoch 31/50\n",
            "390/390 [==============================] - 120s 308ms/step - loss: 0.2868 - acc: 0.8971 - val_loss: 0.8535 - val_acc: 0.7705\n",
            "\n",
            "Epoch 00031: val_acc improved from 0.76780 to 0.77050, saving model to weights_a3.best.hdf5\n",
            "Epoch 32/50\n",
            "390/390 [==============================] - 120s 308ms/step - loss: 0.2802 - acc: 0.9008 - val_loss: 0.8897 - val_acc: 0.7635\n",
            "\n",
            "Epoch 00032: val_acc did not improve from 0.77050\n",
            "Epoch 33/50\n",
            "390/390 [==============================] - 120s 308ms/step - loss: 0.2710 - acc: 0.9040 - val_loss: 0.8839 - val_acc: 0.7665\n",
            "\n",
            "Epoch 00033: val_acc did not improve from 0.77050\n",
            "Epoch 34/50\n",
            "390/390 [==============================] - 120s 308ms/step - loss: 0.2607 - acc: 0.9061 - val_loss: 0.8947 - val_acc: 0.7692\n",
            "\n",
            "Epoch 00034: val_acc did not improve from 0.77050\n",
            "Epoch 35/50\n",
            "390/390 [==============================] - 120s 308ms/step - loss: 0.2473 - acc: 0.9117 - val_loss: 0.9572 - val_acc: 0.7603\n",
            "\n",
            "Epoch 00035: val_acc did not improve from 0.77050\n",
            "Epoch 36/50\n",
            "390/390 [==============================] - 120s 308ms/step - loss: 0.2449 - acc: 0.9124 - val_loss: 0.8918 - val_acc: 0.7706\n",
            "\n",
            "Epoch 00036: val_acc improved from 0.77050 to 0.77060, saving model to weights_a3.best.hdf5\n",
            "Epoch 37/50\n",
            "390/390 [==============================] - 120s 308ms/step - loss: 0.2367 - acc: 0.9151 - val_loss: 0.9736 - val_acc: 0.7605\n",
            "\n",
            "Epoch 00037: val_acc did not improve from 0.77060\n",
            "Epoch 38/50\n",
            "390/390 [==============================] - 120s 308ms/step - loss: 0.2310 - acc: 0.9174 - val_loss: 0.9073 - val_acc: 0.7703\n",
            "\n",
            "Epoch 00038: val_acc did not improve from 0.77060\n",
            "Epoch 39/50\n",
            "390/390 [==============================] - 120s 309ms/step - loss: 0.2226 - acc: 0.9212 - val_loss: 1.0053 - val_acc: 0.7537\n",
            "\n",
            "Epoch 00039: val_acc did not improve from 0.77060\n",
            "Epoch 40/50\n",
            "390/390 [==============================] - 120s 308ms/step - loss: 0.2149 - acc: 0.9224 - val_loss: 0.9509 - val_acc: 0.7659\n",
            "\n",
            "Epoch 00040: val_acc did not improve from 0.77060\n",
            "Epoch 41/50\n",
            "390/390 [==============================] - 120s 308ms/step - loss: 0.2048 - acc: 0.9265 - val_loss: 0.9640 - val_acc: 0.7687\n",
            "\n",
            "Epoch 00041: val_acc did not improve from 0.77060\n",
            "Epoch 42/50\n",
            "390/390 [==============================] - 120s 308ms/step - loss: 0.2004 - acc: 0.9281 - val_loss: 1.0073 - val_acc: 0.7643\n",
            "\n",
            "Epoch 00042: val_acc did not improve from 0.77060\n",
            "Epoch 43/50\n",
            "390/390 [==============================] - 120s 308ms/step - loss: 0.1958 - acc: 0.9300 - val_loss: 1.0586 - val_acc: 0.7600\n",
            "\n",
            "Epoch 00043: val_acc did not improve from 0.77060\n",
            "Epoch 44/50\n",
            "390/390 [==============================] - 120s 308ms/step - loss: 0.1907 - acc: 0.9327 - val_loss: 0.9505 - val_acc: 0.7734\n",
            "\n",
            "Epoch 00044: val_acc improved from 0.77060 to 0.77340, saving model to weights_a3.best.hdf5\n",
            "Epoch 45/50\n",
            "390/390 [==============================] - 120s 309ms/step - loss: 0.1881 - acc: 0.9323 - val_loss: 1.0246 - val_acc: 0.7620\n",
            "\n",
            "Epoch 00045: val_acc did not improve from 0.77340\n",
            "Epoch 46/50\n",
            "390/390 [==============================] - 120s 308ms/step - loss: 0.1798 - acc: 0.9363 - val_loss: 1.0738 - val_acc: 0.7576\n",
            "\n",
            "Epoch 00046: val_acc did not improve from 0.77340\n",
            "Epoch 47/50\n",
            "390/390 [==============================] - 120s 308ms/step - loss: 0.1763 - acc: 0.9365 - val_loss: 1.0895 - val_acc: 0.7530\n",
            "\n",
            "Epoch 00047: val_acc did not improve from 0.77340\n",
            "Epoch 48/50\n",
            "390/390 [==============================] - 120s 309ms/step - loss: 0.1713 - acc: 0.9377 - val_loss: 0.9764 - val_acc: 0.7712\n",
            "\n",
            "Epoch 00048: val_acc did not improve from 0.77340\n",
            "Epoch 49/50\n",
            "390/390 [==============================] - 120s 308ms/step - loss: 0.1647 - acc: 0.9418 - val_loss: 1.0743 - val_acc: 0.7625\n",
            "\n",
            "Epoch 00049: val_acc did not improve from 0.77340\n",
            "Epoch 50/50\n",
            "390/390 [==============================] - 120s 309ms/step - loss: 0.1620 - acc: 0.9422 - val_loss: 1.0124 - val_acc: 0.7705\n",
            "\n",
            "Epoch 00050: val_acc did not improve from 0.77340\n",
            "Model took 6047.40 seconds to train\n"
          ],
          "name": "stdout"
        },
        {
          "output_type": "display_data",
          "data": {
            "image/png": "[encoded data removed]",
            "text/plain": [
              "<Figure size 1080x360 with 2 Axes>"
            ]
          },
          "metadata": {
            "tags": []
          }
        },
        {
          "output_type": "stream",
          "text": [
            "Accuracy on test data is: 77.05\n"
          ],
          "name": "stdout"
        }
      ]
    },
    {
      "cell_type": "code",
      "metadata": {
        "id": "tp9nYQdFyKg1",
        "colab_type": "code",
        "colab": {}
      },
      "source": [
        ""
      ],
      "execution_count": 0,
      "outputs": []
    },
    {
      "cell_type": "markdown",
      "metadata": {
        "colab_type": "text",
        "id": "2YOe_XEKQ-rr"
      },
      "source": [
        "### Network Approach: 2"
      ]
    },
    {
      "cell_type": "code",
      "metadata": {
        "colab_type": "code",
        "outputId": "6af718c1-b388-45f4-b74a-e7adcddf8704",
        "id": "kpjDyi_rQ-rx",
        "colab": {
          "base_uri": "https://localhost:8080/",
          "height": 205
        }
      },
      "source": [
        "# Define the model\n",
        "model = Sequential()\n",
        "model.add(SeparableConv2D(filters=24*2, kernel_size=(3, 3), dilation_rate=(2, 2), border_mode='valid', input_shape=(32, 32, 3)))\n",
        "model.add(BatchNormalization())\n",
        "model.add(Activation('relu'))\n",
        "\n",
        "model.add(SeparableConv2D(filters=48*2, kernel_size=(3, 3),dilation_rate=(2, 2)))\n",
        "model.add(BatchNormalization())\n",
        "model.add(Activation('relu'))\n",
        "\n",
        "# model.add(MaxPooling2D(pool_size=(2, 2)))\n",
        "# model.add(Dropout(0.25))\n",
        "\n",
        "model.add(SeparableConv2D(filters=96*2, kernel_size=(3, 3), dilation_rate=(2, 2),border_mode='valid'))\n",
        "model.add(BatchNormalization())\n",
        "model.add(Activation('relu'))\n",
        "\n",
        "model.add(SeparableConv2D(filters=192*2, kernel_size=(3, 3),dilation_rate=(2, 2)))\n",
        "model.add(BatchNormalization())\n",
        "model.add(Activation('relu'))\n",
        "\n",
        "# model.add(MaxPooling2D(pool_size=(2, 2)))\n",
        "model.add(Dropout(0.25))\n",
        "\n",
        "model.add(SeparableConv2D(filters=384*2, kernel_size=(3, 3), dilation_rate=(2, 2),border_mode='valid'))\n",
        "model.add(BatchNormalization())\n",
        "model.add(Activation('relu'))\n",
        "\n",
        "model.add(MaxPooling2D(pool_size=(2, 2)))\n",
        "\n",
        "model.add(SeparableConv2D(filters=48*2, kernel_size=(3, 3), dilation_rate=(2, 2),border_mode='same'))\n",
        "model.add(BatchNormalization())\n",
        "model.add(Activation('relu'))\n",
        "model.add(Dropout(0.25))\n",
        "\n",
        "\n",
        "model.add(SeparableConv2D(filters=96*2, kernel_size=(3, 3), dilation_rate=(2, 2),border_mode='same'))\n",
        "model.add(BatchNormalization())\n",
        "model.add(Activation('relu'))\n",
        "\n",
        "model.add(SeparableConv2D(filters=192*2, kernel_size=(3, 3), dilation_rate=(3, 3),border_mode='same'))\n",
        "model.add(BatchNormalization())\n",
        "\n",
        "# model.add(MaxPooling2D(pool_size=(2, 2)))\n",
        "model.add(Dropout(0.35))\n",
        "\n",
        "model.add(SeparableConv2D(filters=48*2, kernel_size=(1, 1), dilation_rate=(2, 2),border_mode='same'))\n",
        "model.add(BatchNormalization())\n",
        "\n",
        "model.add(Flatten())\n",
        "\n",
        "# model.add(Dense(512))\n",
        "# model.add(Activation('relu'))\n",
        "# model.add(Dropout(0.4))\n",
        "\n",
        "model.add(Dense(256))\n",
        "model.add(Activation('relu'))\n",
        "# model.add(Dropout(0.2))\n",
        "\n",
        "model.add(Dense(num_classes, activation='softmax'))\n",
        "# Compile the model\n",
        "model.compile(optimizer='adam',loss='categorical_crossentropy', metrics=['accuracy'])\n"
      ],
      "execution_count": 0,
      "outputs": [
        {
          "output_type": "stream",
          "text": [
            "/usr/local/lib/python3.6/dist-packages/ipykernel_launcher.py:2: UserWarning: Update your `SeparableConv2D` call to the Keras 2 API: `SeparableConv2D(filters=48, kernel_size=(3, 3), dilation_rate=(2, 2), input_shape=(32, 32, 3..., padding=\"valid\")`\n",
            "  \n",
            "/usr/local/lib/python3.6/dist-packages/ipykernel_launcher.py:13: UserWarning: Update your `SeparableConv2D` call to the Keras 2 API: `SeparableConv2D(filters=192, kernel_size=(3, 3), dilation_rate=(2, 2), padding=\"valid\")`\n",
            "  del sys.path[0]\n",
            "/usr/local/lib/python3.6/dist-packages/ipykernel_launcher.py:24: UserWarning: Update your `SeparableConv2D` call to the Keras 2 API: `SeparableConv2D(filters=768, kernel_size=(3, 3), dilation_rate=(2, 2), padding=\"valid\")`\n",
            "/usr/local/lib/python3.6/dist-packages/ipykernel_launcher.py:30: UserWarning: Update your `SeparableConv2D` call to the Keras 2 API: `SeparableConv2D(filters=96, kernel_size=(3, 3), dilation_rate=(2, 2), padding=\"same\")`\n",
            "/usr/local/lib/python3.6/dist-packages/ipykernel_launcher.py:36: UserWarning: Update your `SeparableConv2D` call to the Keras 2 API: `SeparableConv2D(filters=192, kernel_size=(3, 3), dilation_rate=(2, 2), padding=\"same\")`\n",
            "/usr/local/lib/python3.6/dist-packages/ipykernel_launcher.py:40: UserWarning: Update your `SeparableConv2D` call to the Keras 2 API: `SeparableConv2D(filters=384, kernel_size=(3, 3), dilation_rate=(3, 3), padding=\"same\")`\n",
            "/usr/local/lib/python3.6/dist-packages/ipykernel_launcher.py:46: UserWarning: Update your `SeparableConv2D` call to the Keras 2 API: `SeparableConv2D(filters=96, kernel_size=(1, 1), dilation_rate=(2, 2), padding=\"same\")`\n"
          ],
          "name": "stderr"
        }
      ]
    },
    {
      "cell_type": "code",
      "metadata": {
        "colab_type": "code",
        "outputId": "cb81e675-1e1a-42fa-d6f2-2aabf51733da",
        "id": "oDBklRz7Q-sO",
        "colab": {
          "base_uri": "https://localhost:8080/",
          "height": 1000
        }
      },
      "source": [
        "model.summary()"
      ],
      "execution_count": 0,
      "outputs": [
        {
          "output_type": "stream",
          "text": [
            "Model: \"sequential_5\"\n",
            "_________________________________________________________________\n",
            "Layer (type)                 Output Shape              Param #   \n",
            "=================================================================\n",
            "separable_conv2d_33 (Separab (None, 28, 28, 48)        219       \n",
            "_________________________________________________________________\n",
            "batch_normalization_33 (Batc (None, 28, 28, 48)        192       \n",
            "_________________________________________________________________\n",
            "activation_34 (Activation)   (None, 28, 28, 48)        0         \n",
            "_________________________________________________________________\n",
            "separable_conv2d_34 (Separab (None, 24, 24, 96)        5136      \n",
            "_________________________________________________________________\n",
            "batch_normalization_34 (Batc (None, 24, 24, 96)        384       \n",
            "_________________________________________________________________\n",
            "activation_35 (Activation)   (None, 24, 24, 96)        0         \n",
            "_________________________________________________________________\n",
            "separable_conv2d_35 (Separab (None, 20, 20, 192)       19488     \n",
            "_________________________________________________________________\n",
            "batch_normalization_35 (Batc (None, 20, 20, 192)       768       \n",
            "_________________________________________________________________\n",
            "activation_36 (Activation)   (None, 20, 20, 192)       0         \n",
            "_________________________________________________________________\n",
            "separable_conv2d_36 (Separab (None, 16, 16, 384)       75840     \n",
            "_________________________________________________________________\n",
            "batch_normalization_36 (Batc (None, 16, 16, 384)       1536      \n",
            "_________________________________________________________________\n",
            "activation_37 (Activation)   (None, 16, 16, 384)       0         \n",
            "_________________________________________________________________\n",
            "dropout_13 (Dropout)         (None, 16, 16, 384)       0         \n",
            "_________________________________________________________________\n",
            "separable_conv2d_37 (Separab (None, 12, 12, 768)       299136    \n",
            "_________________________________________________________________\n",
            "batch_normalization_37 (Batc (None, 12, 12, 768)       3072      \n",
            "_________________________________________________________________\n",
            "activation_38 (Activation)   (None, 12, 12, 768)       0         \n",
            "_________________________________________________________________\n",
            "max_pooling2d_5 (MaxPooling2 (None, 6, 6, 768)         0         \n",
            "_________________________________________________________________\n",
            "separable_conv2d_38 (Separab (None, 6, 6, 96)          80736     \n",
            "_________________________________________________________________\n",
            "batch_normalization_38 (Batc (None, 6, 6, 96)          384       \n",
            "_________________________________________________________________\n",
            "activation_39 (Activation)   (None, 6, 6, 96)          0         \n",
            "_________________________________________________________________\n",
            "dropout_14 (Dropout)         (None, 6, 6, 96)          0         \n",
            "_________________________________________________________________\n",
            "separable_conv2d_39 (Separab (None, 6, 6, 192)         19488     \n",
            "_________________________________________________________________\n",
            "batch_normalization_39 (Batc (None, 6, 6, 192)         768       \n",
            "_________________________________________________________________\n",
            "activation_40 (Activation)   (None, 6, 6, 192)         0         \n",
            "_________________________________________________________________\n",
            "separable_conv2d_40 (Separab (None, 6, 6, 384)         75840     \n",
            "_________________________________________________________________\n",
            "batch_normalization_40 (Batc (None, 6, 6, 384)         1536      \n",
            "_________________________________________________________________\n",
            "dropout_15 (Dropout)         (None, 6, 6, 384)         0         \n",
            "_________________________________________________________________\n",
            "separable_conv2d_41 (Separab (None, 6, 6, 96)          37344     \n",
            "_________________________________________________________________\n",
            "batch_normalization_41 (Batc (None, 6, 6, 96)          384       \n",
            "_________________________________________________________________\n",
            "flatten_5 (Flatten)          (None, 3456)              0         \n",
            "_________________________________________________________________\n",
            "dense_9 (Dense)              (None, 256)               884992    \n",
            "_________________________________________________________________\n",
            "activation_41 (Activation)   (None, 256)               0         \n",
            "_________________________________________________________________\n",
            "dense_10 (Dense)             (None, 10)                2570      \n",
            "=================================================================\n",
            "Total params: 1,509,813\n",
            "Trainable params: 1,505,301\n",
            "Non-trainable params: 4,512\n",
            "_________________________________________________________________\n"
          ],
          "name": "stdout"
        }
      ]
    },
    {
      "cell_type": "code",
      "metadata": {
        "colab_type": "code",
        "id": "mIEcDzVmQ-sf",
        "colab": {}
      },
      "source": [
        "from keras.callbacks import LearningRateScheduler\n",
        "from keras.callbacks import ModelCheckpoint\n",
        "from keras.callbacks import ReduceLROnPlateau\n",
        "\n",
        "# def scheduler(epoch, lr):\n",
        "#   return round(0.0032 * 1/(1 + 0.219 * epoch), 10)\n",
        "\n",
        "# keras.callbacks.callbacks.ReduceLROnPlateau(monitor='val_loss', factor=0.1, patience=10, verbose=0, mode='auto', min_delta=0.0001, cooldown=0, min_lr=0)\n",
        "reduce_lr = ReduceLROnPlateau(monitor='val_loss', factor=0.015,\n",
        "                              patience=1, verbose=1, min_lr=0.0001)\n",
        "## Adam(lr=0.001,decay=0, beta_1=0.9, beta_2=0.999, epsilon=1e-08)\n",
        "filepath=\"weights_a3_2.best.hdf5\"\n",
        "checkpoint = ModelCheckpoint(filepath, monitor='val_acc', verbose=1, save_best_only=True, mode='max')\n",
        "# callbacks_list = [checkpoint]\n"
      ],
      "execution_count": 0,
      "outputs": []
    },
    {
      "cell_type": "code",
      "metadata": {
        "colab_type": "code",
        "outputId": "c09881ef-63a9-49ec-8bcb-b7c284fa6b1e",
        "id": "nKHn2RWBQ-sz",
        "colab": {
          "base_uri": "https://localhost:8080/",
          "height": 1000
        }
      },
      "source": [
        "from keras.preprocessing.image import ImageDataGenerator\n",
        "\n",
        "datagen = ImageDataGenerator(zoom_range=0.2, \n",
        "                             horizontal_flip=False,\n",
        "                             vertical_flip=False)\n",
        "\n",
        "\n",
        "# train the model\n",
        "start = time.time()\n",
        "# Train the model\n",
        "model_info = model.fit_generator(datagen.flow(train_features, train_labels, batch_size = 128),\n",
        "                                 samples_per_epoch = train_features.shape[0], nb_epoch = 50,\n",
        "                                 callbacks=[checkpoint,reduce_lr],\n",
        "                                #  callbacks=[checkpoint, LearningRateScheduler(scheduler, verbose=1)], \n",
        "                                 validation_data = (test_features, test_labels), verbose=1)\n",
        "end = time.time()\n",
        "print (\"Model took %0.2f seconds to train\"%(end - start))\n",
        "# plot model history\n",
        "plot_model_history(model_info)\n",
        "# compute test accuracy\n",
        "print (\"Accuracy on test data is: %0.2f\"%accuracy(test_features, test_labels, model))"
      ],
      "execution_count": 0,
      "outputs": [
        {
          "output_type": "stream",
          "text": [
            "/usr/local/lib/python3.6/dist-packages/ipykernel_launcher.py:15: UserWarning: The semantics of the Keras 2 argument `steps_per_epoch` is not the same as the Keras 1 argument `samples_per_epoch`. `steps_per_epoch` is the number of batches to draw from the generator at each epoch. Basically steps_per_epoch = samples_per_epoch/batch_size. Similarly `nb_val_samples`->`validation_steps` and `val_samples`->`steps` arguments have changed. Update your method calls accordingly.\n",
            "  from ipykernel import kernelapp as app\n",
            "/usr/local/lib/python3.6/dist-packages/ipykernel_launcher.py:15: UserWarning: Update your `fit_generator` call to the Keras 2 API: `fit_generator(<keras_pre..., callbacks=[<keras.ca..., validation_data=(array([[[..., verbose=1, steps_per_epoch=390, epochs=50)`\n",
            "  from ipykernel import kernelapp as app\n"
          ],
          "name": "stderr"
        },
        {
          "output_type": "stream",
          "text": [
            "Epoch 1/50\n",
            "390/390 [==============================] - 102s 261ms/step - loss: 1.6365 - acc: 0.4060 - val_loss: 1.5579 - val_acc: 0.4682\n",
            "\n",
            "Epoch 00001: val_acc improved from -inf to 0.46820, saving model to weights_a3_2.best.hdf5\n",
            "Epoch 2/50\n",
            "390/390 [==============================] - 97s 249ms/step - loss: 1.2996 - acc: 0.5353 - val_loss: 1.3646 - val_acc: 0.5447\n",
            "\n",
            "Epoch 00002: val_acc improved from 0.46820 to 0.54470, saving model to weights_a3_2.best.hdf5\n",
            "Epoch 3/50\n",
            "390/390 [==============================] - 97s 248ms/step - loss: 1.1490 - acc: 0.5937 - val_loss: 1.2118 - val_acc: 0.5786\n",
            "\n",
            "Epoch 00003: val_acc improved from 0.54470 to 0.57860, saving model to weights_a3_2.best.hdf5\n",
            "Epoch 4/50\n",
            "390/390 [==============================] - 97s 248ms/step - loss: 1.0540 - acc: 0.6270 - val_loss: 1.1007 - val_acc: 0.6171\n",
            "\n",
            "Epoch 00004: val_acc improved from 0.57860 to 0.61710, saving model to weights_a3_2.best.hdf5\n",
            "Epoch 5/50\n",
            "390/390 [==============================] - 97s 248ms/step - loss: 0.9771 - acc: 0.6559 - val_loss: 1.1434 - val_acc: 0.6084\n",
            "\n",
            "Epoch 00005: val_acc did not improve from 0.61710\n",
            "Epoch 6/50\n",
            "390/390 [==============================] - 97s 249ms/step - loss: 0.8121 - acc: 0.7156 - val_loss: 0.8407 - val_acc: 0.7063\n",
            "\n",
            "Epoch 00006: val_acc improved from 0.61710 to 0.70630, saving model to weights_a3_2.best.hdf5\n",
            "Epoch 7/50\n",
            "390/390 [==============================] - 97s 248ms/step - loss: 0.7626 - acc: 0.7302 - val_loss: 0.8505 - val_acc: 0.7063\n",
            "\n",
            "Epoch 00007: val_acc did not improve from 0.70630\n",
            "Epoch 8/50\n",
            "390/390 [==============================] - 97s 248ms/step - loss: 0.7324 - acc: 0.7435 - val_loss: 0.8660 - val_acc: 0.7037\n",
            "\n",
            "Epoch 00008: val_acc did not improve from 0.70630\n",
            "Epoch 9/50\n",
            "390/390 [==============================] - 97s 249ms/step - loss: 0.7132 - acc: 0.7495 - val_loss: 0.8346 - val_acc: 0.7112\n",
            "\n",
            "Epoch 00009: val_acc improved from 0.70630 to 0.71120, saving model to weights_a3_2.best.hdf5\n",
            "Epoch 10/50\n",
            "390/390 [==============================] - 97s 249ms/step - loss: 0.6925 - acc: 0.7571 - val_loss: 0.8532 - val_acc: 0.7042\n",
            "\n",
            "Epoch 00010: val_acc did not improve from 0.71120\n",
            "Epoch 11/50\n",
            "390/390 [==============================] - 97s 249ms/step - loss: 0.6774 - acc: 0.7614 - val_loss: 0.8413 - val_acc: 0.7111\n",
            "\n",
            "Epoch 00011: val_acc did not improve from 0.71120\n",
            "Epoch 12/50\n",
            "390/390 [==============================] - 97s 249ms/step - loss: 0.6571 - acc: 0.7681 - val_loss: 0.8426 - val_acc: 0.7116\n",
            "\n",
            "Epoch 00012: val_acc improved from 0.71120 to 0.71160, saving model to weights_a3_2.best.hdf5\n",
            "Epoch 13/50\n",
            "390/390 [==============================] - 97s 249ms/step - loss: 0.6421 - acc: 0.7731 - val_loss: 0.8298 - val_acc: 0.7204\n",
            "\n",
            "Epoch 00013: val_acc improved from 0.71160 to 0.72040, saving model to weights_a3_2.best.hdf5\n",
            "Epoch 14/50\n",
            "390/390 [==============================] - 97s 248ms/step - loss: 0.6286 - acc: 0.7776 - val_loss: 0.8609 - val_acc: 0.7096\n",
            "\n",
            "Epoch 00014: val_acc did not improve from 0.72040\n",
            "Epoch 15/50\n",
            "390/390 [==============================] - 97s 249ms/step - loss: 0.6082 - acc: 0.7857 - val_loss: 0.8922 - val_acc: 0.7098\n",
            "\n",
            "Epoch 00015: val_acc did not improve from 0.72040\n",
            "Epoch 16/50\n",
            "390/390 [==============================] - 97s 248ms/step - loss: 0.5938 - acc: 0.7896 - val_loss: 0.8558 - val_acc: 0.7172\n",
            "\n",
            "Epoch 00016: val_acc did not improve from 0.72040\n",
            "Epoch 17/50\n",
            "390/390 [==============================] - 97s 248ms/step - loss: 0.5842 - acc: 0.7947 - val_loss: 0.8517 - val_acc: 0.7242\n",
            "\n",
            "Epoch 00017: val_acc improved from 0.72040 to 0.72420, saving model to weights_a3_2.best.hdf5\n",
            "Epoch 18/50\n",
            "390/390 [==============================] - 97s 249ms/step - loss: 0.5695 - acc: 0.7990 - val_loss: 0.8620 - val_acc: 0.7212\n",
            "\n",
            "Epoch 00018: val_acc did not improve from 0.72420\n",
            "Epoch 19/50\n",
            "390/390 [==============================] - 97s 249ms/step - loss: 0.5526 - acc: 0.8050 - val_loss: 0.8437 - val_acc: 0.7260\n",
            "\n",
            "Epoch 00019: val_acc improved from 0.72420 to 0.72600, saving model to weights_a3_2.best.hdf5\n",
            "Epoch 20/50\n",
            "390/390 [==============================] - 97s 248ms/step - loss: 0.5425 - acc: 0.8089 - val_loss: 0.8600 - val_acc: 0.7229\n",
            "\n",
            "Epoch 00020: val_acc did not improve from 0.72600\n",
            "Epoch 21/50\n",
            "390/390 [==============================] - 97s 248ms/step - loss: 0.5266 - acc: 0.8116 - val_loss: 0.8618 - val_acc: 0.7228\n",
            "\n",
            "Epoch 00021: val_acc did not improve from 0.72600\n",
            "Epoch 22/50\n",
            "390/390 [==============================] - 97s 249ms/step - loss: 0.5137 - acc: 0.8177 - val_loss: 0.9045 - val_acc: 0.7228\n",
            "\n",
            "Epoch 00022: val_acc did not improve from 0.72600\n",
            "Epoch 23/50\n",
            "390/390 [==============================] - 97s 248ms/step - loss: 0.5061 - acc: 0.8229 - val_loss: 0.8954 - val_acc: 0.7206\n",
            "\n",
            "Epoch 00023: val_acc did not improve from 0.72600\n",
            "Epoch 24/50\n",
            "390/390 [==============================] - 97s 248ms/step - loss: 0.4926 - acc: 0.8254 - val_loss: 0.9505 - val_acc: 0.7125\n",
            "\n",
            "Epoch 00024: val_acc did not improve from 0.72600\n",
            "Epoch 25/50\n",
            "390/390 [==============================] - 97s 248ms/step - loss: 0.4767 - acc: 0.8326 - val_loss: 0.8800 - val_acc: 0.7274\n",
            "\n",
            "Epoch 00025: val_acc improved from 0.72600 to 0.72740, saving model to weights_a3_2.best.hdf5\n",
            "Epoch 26/50\n",
            "390/390 [==============================] - 97s 248ms/step - loss: 0.4749 - acc: 0.8328 - val_loss: 0.9480 - val_acc: 0.7093\n",
            "\n",
            "Epoch 00026: val_acc did not improve from 0.72740\n",
            "Epoch 27/50\n",
            "390/390 [==============================] - 97s 249ms/step - loss: 0.4486 - acc: 0.8417 - val_loss: 0.9589 - val_acc: 0.7197\n",
            "\n",
            "Epoch 00027: val_acc did not improve from 0.72740\n",
            "Epoch 28/50\n",
            "390/390 [==============================] - 97s 248ms/step - loss: 0.4497 - acc: 0.8420 - val_loss: 0.8702 - val_acc: 0.7314\n",
            "\n",
            "Epoch 00028: val_acc improved from 0.72740 to 0.73140, saving model to weights_a3_2.best.hdf5\n",
            "Epoch 29/50\n",
            "390/390 [==============================] - 97s 249ms/step - loss: 0.4395 - acc: 0.8444 - val_loss: 0.8917 - val_acc: 0.7295\n",
            "\n",
            "Epoch 00029: val_acc did not improve from 0.73140\n",
            "Epoch 30/50\n",
            "390/390 [==============================] - 97s 249ms/step - loss: 0.4259 - acc: 0.8475 - val_loss: 0.9156 - val_acc: 0.7253\n",
            "\n",
            "Epoch 00030: val_acc did not improve from 0.73140\n",
            "Epoch 31/50\n",
            "390/390 [==============================] - 97s 249ms/step - loss: 0.4162 - acc: 0.8522 - val_loss: 0.9111 - val_acc: 0.7298\n",
            "\n",
            "Epoch 00031: val_acc did not improve from 0.73140\n",
            "Epoch 32/50\n",
            "390/390 [==============================] - 97s 249ms/step - loss: 0.4056 - acc: 0.8544 - val_loss: 0.9674 - val_acc: 0.7225\n",
            "\n",
            "Epoch 00032: val_acc did not improve from 0.73140\n",
            "Epoch 33/50\n",
            "390/390 [==============================] - 97s 248ms/step - loss: 0.3967 - acc: 0.8585 - val_loss: 0.9227 - val_acc: 0.7280\n",
            "\n",
            "Epoch 00033: val_acc did not improve from 0.73140\n",
            "Epoch 34/50\n",
            "390/390 [==============================] - 97s 248ms/step - loss: 0.3863 - acc: 0.8625 - val_loss: 0.9710 - val_acc: 0.7224\n",
            "\n",
            "Epoch 00034: val_acc did not improve from 0.73140\n",
            "Epoch 35/50\n",
            "390/390 [==============================] - 97s 248ms/step - loss: 0.3834 - acc: 0.8619 - val_loss: 0.9628 - val_acc: 0.7236\n",
            "\n",
            "Epoch 00035: val_acc did not improve from 0.73140\n",
            "Epoch 36/50\n",
            "390/390 [==============================] - 97s 249ms/step - loss: 0.3723 - acc: 0.8663 - val_loss: 0.9308 - val_acc: 0.7302\n",
            "\n",
            "Epoch 00036: val_acc did not improve from 0.73140\n",
            "Epoch 37/50\n",
            "390/390 [==============================] - 97s 250ms/step - loss: 0.3665 - acc: 0.8698 - val_loss: 0.9963 - val_acc: 0.7214\n",
            "\n",
            "Epoch 00037: val_acc did not improve from 0.73140\n",
            "Epoch 38/50\n",
            "390/390 [==============================] - 97s 249ms/step - loss: 0.3541 - acc: 0.8734 - val_loss: 0.9768 - val_acc: 0.7274\n",
            "\n",
            "Epoch 00038: val_acc did not improve from 0.73140\n",
            "Epoch 39/50\n",
            "390/390 [==============================] - 97s 249ms/step - loss: 0.3508 - acc: 0.8743 - val_loss: 1.0177 - val_acc: 0.7135\n",
            "\n",
            "Epoch 00039: val_acc did not improve from 0.73140\n",
            "Epoch 40/50\n",
            "390/390 [==============================] - 97s 249ms/step - loss: 0.3393 - acc: 0.8785 - val_loss: 1.0734 - val_acc: 0.7088\n",
            "\n",
            "Epoch 00040: val_acc did not improve from 0.73140\n",
            "Epoch 41/50\n",
            "390/390 [==============================] - 97s 249ms/step - loss: 0.3357 - acc: 0.8813 - val_loss: 1.0329 - val_acc: 0.7213\n",
            "\n",
            "Epoch 00041: val_acc did not improve from 0.73140\n",
            "Epoch 42/50\n",
            "390/390 [==============================] - 97s 249ms/step - loss: 0.3245 - acc: 0.8835 - val_loss: 1.0631 - val_acc: 0.7174\n",
            "\n",
            "Epoch 00042: val_acc did not improve from 0.73140\n",
            "Epoch 43/50\n",
            "390/390 [==============================] - 97s 249ms/step - loss: 0.3198 - acc: 0.8855 - val_loss: 1.0447 - val_acc: 0.7214\n",
            "\n",
            "Epoch 00043: val_acc did not improve from 0.73140\n",
            "Epoch 44/50\n",
            "390/390 [==============================] - 97s 249ms/step - loss: 0.3139 - acc: 0.8879 - val_loss: 1.1471 - val_acc: 0.7096\n",
            "\n",
            "Epoch 00044: val_acc did not improve from 0.73140\n",
            "Epoch 45/50\n",
            "390/390 [==============================] - 97s 249ms/step - loss: 0.3067 - acc: 0.8898 - val_loss: 1.0747 - val_acc: 0.7127\n",
            "\n",
            "Epoch 00045: val_acc did not improve from 0.73140\n",
            "Epoch 46/50\n",
            "390/390 [==============================] - 97s 249ms/step - loss: 0.3037 - acc: 0.8909 - val_loss: 1.1225 - val_acc: 0.7168\n",
            "\n",
            "Epoch 00046: val_acc did not improve from 0.73140\n",
            "Epoch 47/50\n",
            "390/390 [==============================] - 97s 249ms/step - loss: 0.2869 - acc: 0.8976 - val_loss: 1.0084 - val_acc: 0.7300\n",
            "\n",
            "Epoch 00047: val_acc did not improve from 0.73140\n",
            "Epoch 48/50\n",
            "390/390 [==============================] - 97s 249ms/step - loss: 0.2871 - acc: 0.8973 - val_loss: 1.1041 - val_acc: 0.7175\n",
            "\n",
            "Epoch 00048: val_acc did not improve from 0.73140\n",
            "Epoch 49/50\n",
            "390/390 [==============================] - 97s 249ms/step - loss: 0.2914 - acc: 0.8970 - val_loss: 1.0450 - val_acc: 0.7274\n",
            "\n",
            "Epoch 00049: val_acc did not improve from 0.73140\n",
            "Epoch 50/50\n",
            "390/390 [==============================] - 97s 249ms/step - loss: 0.2755 - acc: 0.9027 - val_loss: 1.1289 - val_acc: 0.7168\n",
            "\n",
            "Epoch 00050: val_acc did not improve from 0.73140\n",
            "Model took 4866.61 seconds to train\n"
          ],
          "name": "stdout"
        },
        {
          "output_type": "display_data",
          "data": {
            "image/png": "[encoded data removed]",
            "text/plain": [
              "<Figure size 1080x360 with 2 Axes>"
            ]
          },
          "metadata": {
            "tags": []
          }
        },
        {
          "output_type": "stream",
          "text": [
            "Accuracy on test data is: 71.68\n"
          ],
          "name": "stdout"
        }
      ]
    },
    {
      "cell_type": "code",
      "metadata": {
        "id": "JMf0qPpXVYpb",
        "colab_type": "code",
        "colab": {}
      },
      "source": [
        "model. load_weights('weights_a3_2.best.hdf5')\n",
        "print (\"Accuracy on test data is: %0.2f\"%accuracy(test_features, test_labels, model))"
      ],
      "execution_count": 0,
      "outputs": []
    },
    {
      "cell_type": "code",
      "metadata": {
        "colab_type": "code",
        "id": "YQPcbzhNQ-tB",
        "colab": {}
      },
      "source": [
        ""
      ],
      "execution_count": 0,
      "outputs": []
    },
    {
      "cell_type": "markdown",
      "metadata": {
        "colab_type": "text",
        "id": "OjFGNFblbl_Q"
      },
      "source": [
        "### Network Approach: 3"
      ]
    },
    {
      "cell_type": "markdown",
      "metadata": {
        "id": "3H5TGJF39udi",
        "colab_type": "text"
      },
      "source": [
        "- First Layer Dilation rate has been increased from (2,2) to (3,3)\n",
        "- Removed the Flatten and Added GlobalAveragePooling\n",
        "- Removed 1x1 Depthwiseseparable convolution"
      ]
    },
    {
      "cell_type": "code",
      "metadata": {
        "colab_type": "code",
        "outputId": "8946f00f-1028-4fe0-bed3-8c58e0fbc282",
        "id": "lQNiAn7ibl_d",
        "colab": {
          "base_uri": "https://localhost:8080/",
          "height": 183
        }
      },
      "source": [
        "# Define the model\n",
        "model = Sequential()\n",
        "model.add(SeparableConv2D(filters=24*2, kernel_size=(3, 3), dilation_rate=(3, 3), border_mode='valid', input_shape=(32, 32, 3)))\n",
        "model.add(BatchNormalization())\n",
        "model.add(Activation('relu'))\n",
        "\n",
        "model.add(SeparableConv2D(filters=48*2, kernel_size=(3, 3),dilation_rate=(2, 2)))\n",
        "model.add(BatchNormalization())\n",
        "model.add(Activation('relu'))\n",
        "\n",
        "# model.add(MaxPooling2D(pool_size=(2, 2)))\n",
        "# model.add(Dropout(0.25))\n",
        "\n",
        "model.add(SeparableConv2D(filters=96*2, kernel_size=(3, 3), dilation_rate=(2, 2),border_mode='valid'))\n",
        "model.add(BatchNormalization())\n",
        "model.add(Activation('relu'))\n",
        "\n",
        "model.add(SeparableConv2D(filters=192*2, kernel_size=(3, 3),dilation_rate=(2, 2)))\n",
        "model.add(BatchNormalization())\n",
        "model.add(Activation('relu'))\n",
        "\n",
        "# model.add(MaxPooling2D(pool_size=(2, 2)))\n",
        "model.add(Dropout(0.25))\n",
        "\n",
        "model.add(SeparableConv2D(filters=384*2, kernel_size=(3, 3), dilation_rate=(2, 2),border_mode='valid'))\n",
        "model.add(BatchNormalization())\n",
        "model.add(Activation('relu'))\n",
        "\n",
        "model.add(MaxPooling2D(pool_size=(2, 2)))\n",
        "\n",
        "model.add(SeparableConv2D(filters=48*2, kernel_size=(3, 3), dilation_rate=(2, 2),border_mode='same'))\n",
        "model.add(BatchNormalization())\n",
        "model.add(Activation('relu'))\n",
        "model.add(Dropout(0.25))\n",
        "\n",
        "\n",
        "model.add(SeparableConv2D(filters=96*2, kernel_size=(3, 3), dilation_rate=(2, 2),border_mode='same'))\n",
        "model.add(BatchNormalization())\n",
        "model.add(Activation('relu'))\n",
        "\n",
        "model.add(SeparableConv2D(filters=192*2, kernel_size=(3, 3), dilation_rate=(3, 3),border_mode='same'))\n",
        "model.add(BatchNormalization())\n",
        "\n",
        "# model.add(MaxPooling2D(pool_size=(2, 2)))\n",
        "model.add(Dropout(0.35))\n",
        "\n",
        "# model.add(SeparableConv2D(filters=96*2, kernel_size=(1, 1), dilation_rate=(2, 2),border_mode='same'))\n",
        "# model.add(BatchNormalization())\n",
        "\n",
        "# model.add(Flatten())\n",
        "\n",
        "model.add(GlobalAveragePooling2D())\n",
        "\n",
        "model.add(Dense(512))\n",
        "model.add(Activation('relu'))\n",
        "model.add(Dropout(0.35))\n",
        "\n",
        "# model.add(Dense(128))\n",
        "# model.add(Activation('relu'))\n",
        "# model.add(Dropout(0.2))\n",
        "\n",
        "model.add(Dense(num_classes, activation='softmax'))\n",
        "# Compile the model\n",
        "model.compile(optimizer='adam',loss='categorical_crossentropy', metrics=['accuracy'])\n",
        "# Compile the model\n",
        "# model.compile(optimizer=Adam(lr=0.001,decay=0, beta_1=0.9, beta_2=0.999, epsilon=1e-08),loss='categorical_crossentropy', metrics=['accuracy'])\n"
      ],
      "execution_count": 0,
      "outputs": [
        {
          "output_type": "stream",
          "text": [
            "/usr/local/lib/python3.6/dist-packages/ipykernel_launcher.py:2: UserWarning: Update your `SeparableConv2D` call to the Keras 2 API: `SeparableConv2D(filters=48, kernel_size=(3, 3), dilation_rate=(3, 3), input_shape=(32, 32, 3..., padding=\"valid\")`\n",
            "  \n",
            "/usr/local/lib/python3.6/dist-packages/ipykernel_launcher.py:13: UserWarning: Update your `SeparableConv2D` call to the Keras 2 API: `SeparableConv2D(filters=192, kernel_size=(3, 3), dilation_rate=(2, 2), padding=\"valid\")`\n",
            "  del sys.path[0]\n",
            "/usr/local/lib/python3.6/dist-packages/ipykernel_launcher.py:24: UserWarning: Update your `SeparableConv2D` call to the Keras 2 API: `SeparableConv2D(filters=768, kernel_size=(3, 3), dilation_rate=(2, 2), padding=\"valid\")`\n",
            "/usr/local/lib/python3.6/dist-packages/ipykernel_launcher.py:30: UserWarning: Update your `SeparableConv2D` call to the Keras 2 API: `SeparableConv2D(filters=96, kernel_size=(3, 3), dilation_rate=(2, 2), padding=\"same\")`\n",
            "/usr/local/lib/python3.6/dist-packages/ipykernel_launcher.py:36: UserWarning: Update your `SeparableConv2D` call to the Keras 2 API: `SeparableConv2D(filters=192, kernel_size=(3, 3), dilation_rate=(2, 2), padding=\"same\")`\n",
            "/usr/local/lib/python3.6/dist-packages/ipykernel_launcher.py:40: UserWarning: Update your `SeparableConv2D` call to the Keras 2 API: `SeparableConv2D(filters=384, kernel_size=(3, 3), dilation_rate=(3, 3), padding=\"same\")`\n"
          ],
          "name": "stderr"
        }
      ]
    },
    {
      "cell_type": "code",
      "metadata": {
        "id": "wlV3f89mWY2q",
        "colab_type": "code",
        "outputId": "e89cd38a-f42e-4e51-d70a-dd27079d5bb3",
        "colab": {
          "base_uri": "https://localhost:8080/",
          "height": 126
        }
      },
      "source": [
        "model.optimizer.get_config()"
      ],
      "execution_count": 0,
      "outputs": [
        {
          "output_type": "execute_result",
          "data": {
            "text/plain": [
              "{'amsgrad': False,\n",
              " 'beta_1': 0.8999999761581421,\n",
              " 'beta_2': 0.9990000128746033,\n",
              " 'decay': 0.0,\n",
              " 'epsilon': 1e-07,\n",
              " 'lr': 0.0010000000474974513}"
            ]
          },
          "metadata": {
            "tags": []
          },
          "execution_count": 78
        }
      ]
    },
    {
      "cell_type": "code",
      "metadata": {
        "colab_type": "code",
        "outputId": "e6b6f544-b0bc-4cbb-9e09-ccbd2762386d",
        "id": "4KtCG3uNbl_2",
        "colab": {
          "base_uri": "https://localhost:8080/",
          "height": 1000
        }
      },
      "source": [
        "model.summary()"
      ],
      "execution_count": 0,
      "outputs": [
        {
          "output_type": "stream",
          "text": [
            "Model: \"sequential_19\"\n",
            "_________________________________________________________________\n",
            "Layer (type)                 Output Shape              Param #   \n",
            "=================================================================\n",
            "separable_conv2d_162 (Separa (None, 26, 26, 48)        219       \n",
            "_________________________________________________________________\n",
            "batch_normalization_162 (Bat (None, 26, 26, 48)        192       \n",
            "_________________________________________________________________\n",
            "activation_149 (Activation)  (None, 26, 26, 48)        0         \n",
            "_________________________________________________________________\n",
            "separable_conv2d_163 (Separa (None, 22, 22, 96)        5136      \n",
            "_________________________________________________________________\n",
            "batch_normalization_163 (Bat (None, 22, 22, 96)        384       \n",
            "_________________________________________________________________\n",
            "activation_150 (Activation)  (None, 22, 22, 96)        0         \n",
            "_________________________________________________________________\n",
            "separable_conv2d_164 (Separa (None, 18, 18, 192)       19488     \n",
            "_________________________________________________________________\n",
            "batch_normalization_164 (Bat (None, 18, 18, 192)       768       \n",
            "_________________________________________________________________\n",
            "activation_151 (Activation)  (None, 18, 18, 192)       0         \n",
            "_________________________________________________________________\n",
            "separable_conv2d_165 (Separa (None, 14, 14, 384)       75840     \n",
            "_________________________________________________________________\n",
            "batch_normalization_165 (Bat (None, 14, 14, 384)       1536      \n",
            "_________________________________________________________________\n",
            "activation_152 (Activation)  (None, 14, 14, 384)       0         \n",
            "_________________________________________________________________\n",
            "dropout_71 (Dropout)         (None, 14, 14, 384)       0         \n",
            "_________________________________________________________________\n",
            "separable_conv2d_166 (Separa (None, 10, 10, 768)       299136    \n",
            "_________________________________________________________________\n",
            "batch_normalization_166 (Bat (None, 10, 10, 768)       3072      \n",
            "_________________________________________________________________\n",
            "activation_153 (Activation)  (None, 10, 10, 768)       0         \n",
            "_________________________________________________________________\n",
            "max_pooling2d_19 (MaxPooling (None, 5, 5, 768)         0         \n",
            "_________________________________________________________________\n",
            "separable_conv2d_167 (Separa (None, 5, 5, 96)          80736     \n",
            "_________________________________________________________________\n",
            "batch_normalization_167 (Bat (None, 5, 5, 96)          384       \n",
            "_________________________________________________________________\n",
            "activation_154 (Activation)  (None, 5, 5, 96)          0         \n",
            "_________________________________________________________________\n",
            "dropout_72 (Dropout)         (None, 5, 5, 96)          0         \n",
            "_________________________________________________________________\n",
            "separable_conv2d_168 (Separa (None, 5, 5, 192)         19488     \n",
            "_________________________________________________________________\n",
            "batch_normalization_168 (Bat (None, 5, 5, 192)         768       \n",
            "_________________________________________________________________\n",
            "activation_155 (Activation)  (None, 5, 5, 192)         0         \n",
            "_________________________________________________________________\n",
            "separable_conv2d_169 (Separa (None, 5, 5, 384)         75840     \n",
            "_________________________________________________________________\n",
            "batch_normalization_169 (Bat (None, 5, 5, 384)         1536      \n",
            "_________________________________________________________________\n",
            "dropout_73 (Dropout)         (None, 5, 5, 384)         0         \n",
            "_________________________________________________________________\n",
            "global_average_pooling2d_3 ( (None, 384)               0         \n",
            "_________________________________________________________________\n",
            "dense_39 (Dense)             (None, 512)               197120    \n",
            "_________________________________________________________________\n",
            "activation_156 (Activation)  (None, 512)               0         \n",
            "_________________________________________________________________\n",
            "dropout_74 (Dropout)         (None, 512)               0         \n",
            "_________________________________________________________________\n",
            "dense_40 (Dense)             (None, 10)                5130      \n",
            "=================================================================\n",
            "Total params: 786,773\n",
            "Trainable params: 782,453\n",
            "Non-trainable params: 4,320\n",
            "_________________________________________________________________\n"
          ],
          "name": "stdout"
        }
      ]
    },
    {
      "cell_type": "code",
      "metadata": {
        "colab_type": "code",
        "id": "4VTKmI8TbmAJ",
        "colab": {}
      },
      "source": [
        "from keras.callbacks import LearningRateScheduler\n",
        "from keras.callbacks import ModelCheckpoint\n",
        "from keras.callbacks import ReduceLROnPlateau\n",
        "\n",
        "def scheduler(epoch, lr):\n",
        "  return round(0.0032 * 1/(1 + 0.219 * epoch), 10)\n",
        "\n",
        "# keras.callbacks.callbacks.ReduceLROnPlateau(monitor='val_loss', factor=0.1, patience=10, verbose=0, mode='auto', min_delta=0.0001, cooldown=0, min_lr=0)\n",
        "reduce_lr = ReduceLROnPlateau(monitor='val_loss', factor=0.005,\n",
        "                              patience=1, cooldown =1, min_lr=0.0001)\n",
        "## Adam(lr=0.001,decay=0, beta_1=0.9, beta_2=0.999, epsilon=1e-08)\n",
        "filepath=\"weights_a3_3.best.hdf5\"\n",
        "checkpoint = ModelCheckpoint(filepath, monitor='val_acc', verbose=1, save_best_only=True, mode='max')\n",
        "# callbacks_list = [checkpoint]\n"
      ],
      "execution_count": 0,
      "outputs": []
    },
    {
      "cell_type": "code",
      "metadata": {
        "colab_type": "code",
        "id": "IJyKXsUDbmAW",
        "colab": {}
      },
      "source": [
        "from keras.preprocessing.image import ImageDataGenerator\n",
        "\n",
        "# datagen = ImageDataGenerator(zoom_range=0.0,rotation_range=15, width_shift_range=0.1,height_shift_range=0.1,\n",
        "#                              horizontal_flip=True,\n",
        "#                              vertical_flip=False)\n",
        "\n",
        "datagen = ImageDataGenerator(zoom_range=0.2,rotation_range=0, \n",
        "                             horizontal_flip=False,\n",
        "                             vertical_flip=False)"
      ],
      "execution_count": 0,
      "outputs": []
    },
    {
      "cell_type": "code",
      "metadata": {
        "id": "-0viboDvcIDd",
        "colab_type": "code",
        "outputId": "6b5c287b-1024-44e8-ff9e-feada9cefd5b",
        "colab": {
          "base_uri": "https://localhost:8080/",
          "height": 268
        }
      },
      "source": [
        "## see example augmentation images\n",
        "for X_batch, y_batch in datagen.flow(train_features, train_labels, batch_size=9):\n",
        "    for i in range(0, 9):\n",
        "        plt.subplot(330 + 1 + i)\n",
        "        plt.imshow(X_batch[i].astype(np.uint8))\n",
        "    plt.show()\n",
        "    break"
      ],
      "execution_count": 0,
      "outputs": [
        {
          "output_type": "display_data",
          "data": {
            "image/png": "[encoded data removed]",
            "text/plain": [
              "<Figure size 432x288 with 9 Axes>"
            ]
          },
          "metadata": {
            "tags": []
          }
        }
      ]
    },
    {
      "cell_type": "code",
      "metadata": {
        "id": "ZiEAWWnHcLRp",
        "colab_type": "code",
        "outputId": "4c2419e0-79ee-418b-bbbd-de4ddb4b86e7",
        "colab": {
          "base_uri": "https://localhost:8080/",
          "height": 1000
        }
      },
      "source": [
        "# train the model\n",
        "start = time.time()\n",
        "# Train the model\n",
        "model_info = model.fit_generator(datagen.flow(train_features, train_labels, batch_size = 128),\n",
        "                                 samples_per_epoch = train_features.shape[0], nb_epoch = 50,\n",
        "                                 callbacks=[checkpoint,LearningRateScheduler(scheduler, verbose=1)],\n",
        "                                #  callbacks=[checkpoint, LearningRateScheduler(scheduler, verbose=1)], \n",
        "                                 validation_data = (test_features, test_labels), verbose=1)\n",
        "end = time.time()\n",
        "print (\"Model took %0.2f seconds to train\"%(end - start))\n",
        "# plot model history\n",
        "plot_model_history(model_info)\n",
        "# compute test accuracy\n",
        "print (\"Accuracy on test data is: %0.2f\"%accuracy(test_features, test_labels, model))"
      ],
      "execution_count": 0,
      "outputs": [
        {
          "output_type": "stream",
          "text": [
            "/usr/local/lib/python3.6/dist-packages/ipykernel_launcher.py:7: UserWarning: The semantics of the Keras 2 argument `steps_per_epoch` is not the same as the Keras 1 argument `samples_per_epoch`. `steps_per_epoch` is the number of batches to draw from the generator at each epoch. Basically steps_per_epoch = samples_per_epoch/batch_size. Similarly `nb_val_samples`->`validation_steps` and `val_samples`->`steps` arguments have changed. Update your method calls accordingly.\n",
            "  import sys\n",
            "/usr/local/lib/python3.6/dist-packages/ipykernel_launcher.py:7: UserWarning: Update your `fit_generator` call to the Keras 2 API: `fit_generator(<keras_pre..., callbacks=[<keras.ca..., validation_data=(array([[[..., verbose=1, steps_per_epoch=390, epochs=50)`\n",
            "  import sys\n"
          ],
          "name": "stderr"
        },
        {
          "output_type": "stream",
          "text": [
            "Epoch 1/50\n",
            "\n",
            "Epoch 00001: LearningRateScheduler setting learning rate to 0.0032.\n",
            "390/390 [==============================] - 41s 104ms/step - loss: 1.6329 - acc: 0.4043 - val_loss: 2.0890 - val_acc: 0.4162\n",
            "\n",
            "Epoch 00001: val_acc improved from -inf to 0.41620, saving model to weights_a3_3.best.hdf5\n",
            "Epoch 2/50\n",
            "\n",
            "Epoch 00002: LearningRateScheduler setting learning rate to 0.0026251025.\n",
            "390/390 [==============================] - 31s 79ms/step - loss: 1.3201 - acc: 0.5318 - val_loss: 1.7656 - val_acc: 0.4839\n",
            "\n",
            "Epoch 00002: val_acc improved from 0.41620 to 0.48390, saving model to weights_a3_3.best.hdf5\n",
            "Epoch 3/50\n",
            "\n",
            "Epoch 00003: LearningRateScheduler setting learning rate to 0.0022253129.\n",
            "390/390 [==============================] - 31s 79ms/step - loss: 1.1625 - acc: 0.5904 - val_loss: 1.4042 - val_acc: 0.5471\n",
            "\n",
            "Epoch 00003: val_acc improved from 0.48390 to 0.54710, saving model to weights_a3_3.best.hdf5\n",
            "Epoch 4/50\n",
            "\n",
            "Epoch 00004: LearningRateScheduler setting learning rate to 0.001931201.\n",
            "390/390 [==============================] - 31s 79ms/step - loss: 1.0428 - acc: 0.6344 - val_loss: 1.0448 - val_acc: 0.6356\n",
            "\n",
            "Epoch 00004: val_acc improved from 0.54710 to 0.63560, saving model to weights_a3_3.best.hdf5\n",
            "Epoch 5/50\n",
            "\n",
            "Epoch 00005: LearningRateScheduler setting learning rate to 0.0017057569.\n",
            "390/390 [==============================] - 31s 79ms/step - loss: 0.9525 - acc: 0.6662 - val_loss: 0.9622 - val_acc: 0.6624\n",
            "\n",
            "Epoch 00005: val_acc improved from 0.63560 to 0.66240, saving model to weights_a3_3.best.hdf5\n",
            "Epoch 6/50\n",
            "\n",
            "Epoch 00006: LearningRateScheduler setting learning rate to 0.0015274463.\n",
            "390/390 [==============================] - 31s 80ms/step - loss: 0.8690 - acc: 0.6974 - val_loss: 0.9007 - val_acc: 0.6870\n",
            "\n",
            "Epoch 00006: val_acc improved from 0.66240 to 0.68700, saving model to weights_a3_3.best.hdf5\n",
            "Epoch 7/50\n",
            "\n",
            "Epoch 00007: LearningRateScheduler setting learning rate to 0.0013828868.\n",
            "390/390 [==============================] - 31s 79ms/step - loss: 0.8019 - acc: 0.7195 - val_loss: 0.9109 - val_acc: 0.6865\n",
            "\n",
            "Epoch 00007: val_acc did not improve from 0.68700\n",
            "Epoch 8/50\n",
            "\n",
            "Epoch 00008: LearningRateScheduler setting learning rate to 0.0012633241.\n",
            "390/390 [==============================] - 31s 79ms/step - loss: 0.7391 - acc: 0.7426 - val_loss: 0.9415 - val_acc: 0.6873\n",
            "\n",
            "Epoch 00008: val_acc improved from 0.68700 to 0.68730, saving model to weights_a3_3.best.hdf5\n",
            "Epoch 9/50\n",
            "\n",
            "Epoch 00009: LearningRateScheduler setting learning rate to 0.0011627907.\n",
            "390/390 [==============================] - 31s 79ms/step - loss: 0.6885 - acc: 0.7604 - val_loss: 0.8738 - val_acc: 0.7148\n",
            "\n",
            "Epoch 00009: val_acc improved from 0.68730 to 0.71480, saving model to weights_a3_3.best.hdf5\n",
            "Epoch 10/50\n",
            "\n",
            "Epoch 00010: LearningRateScheduler setting learning rate to 0.0010770784.\n",
            "390/390 [==============================] - 31s 79ms/step - loss: 0.6356 - acc: 0.7788 - val_loss: 0.8602 - val_acc: 0.7176\n",
            "\n",
            "Epoch 00010: val_acc improved from 0.71480 to 0.71760, saving model to weights_a3_3.best.hdf5\n",
            "Epoch 11/50\n",
            "\n",
            "Epoch 00011: LearningRateScheduler setting learning rate to 0.0010031348.\n",
            "390/390 [==============================] - 31s 79ms/step - loss: 0.5949 - acc: 0.7948 - val_loss: 0.8911 - val_acc: 0.7062\n",
            "\n",
            "Epoch 00011: val_acc did not improve from 0.71760\n",
            "Epoch 12/50\n",
            "\n",
            "Epoch 00012: LearningRateScheduler setting learning rate to 0.0009386917.\n",
            "390/390 [==============================] - 31s 79ms/step - loss: 0.5500 - acc: 0.8076 - val_loss: 0.8391 - val_acc: 0.7217\n",
            "\n",
            "Epoch 00012: val_acc improved from 0.71760 to 0.72170, saving model to weights_a3_3.best.hdf5\n",
            "Epoch 13/50\n",
            "\n",
            "Epoch 00013: LearningRateScheduler setting learning rate to 0.0008820287.\n",
            "390/390 [==============================] - 31s 79ms/step - loss: 0.5091 - acc: 0.8227 - val_loss: 0.9658 - val_acc: 0.7089\n",
            "\n",
            "Epoch 00013: val_acc did not improve from 0.72170\n",
            "Epoch 14/50\n",
            "\n",
            "Epoch 00014: LearningRateScheduler setting learning rate to 0.000831817.\n",
            "390/390 [==============================] - 31s 79ms/step - loss: 0.4751 - acc: 0.8331 - val_loss: 0.8541 - val_acc: 0.7319\n",
            "\n",
            "Epoch 00014: val_acc improved from 0.72170 to 0.73190, saving model to weights_a3_3.best.hdf5\n",
            "Epoch 15/50\n",
            "\n",
            "Epoch 00015: LearningRateScheduler setting learning rate to 0.0007870143.\n",
            "390/390 [==============================] - 31s 79ms/step - loss: 0.4366 - acc: 0.8484 - val_loss: 0.8665 - val_acc: 0.7348\n",
            "\n",
            "Epoch 00015: val_acc improved from 0.73190 to 0.73480, saving model to weights_a3_3.best.hdf5\n",
            "Epoch 16/50\n",
            "\n",
            "Epoch 00016: LearningRateScheduler setting learning rate to 0.0007467911.\n",
            "390/390 [==============================] - 31s 80ms/step - loss: 0.4134 - acc: 0.8553 - val_loss: 0.8978 - val_acc: 0.7268\n",
            "\n",
            "Epoch 00016: val_acc did not improve from 0.73480\n",
            "Epoch 17/50\n",
            "\n",
            "Epoch 00017: LearningRateScheduler setting learning rate to 0.0007104796.\n",
            "390/390 [==============================] - 31s 79ms/step - loss: 0.3857 - acc: 0.8642 - val_loss: 0.9482 - val_acc: 0.7278\n",
            "\n",
            "Epoch 00017: val_acc did not improve from 0.73480\n",
            "Epoch 18/50\n",
            "\n",
            "Epoch 00018: LearningRateScheduler setting learning rate to 0.0006775355.\n",
            "390/390 [==============================] - 31s 79ms/step - loss: 0.3621 - acc: 0.8717 - val_loss: 0.9477 - val_acc: 0.7298\n",
            "\n",
            "Epoch 00018: val_acc did not improve from 0.73480\n",
            "Epoch 19/50\n",
            "\n",
            "Epoch 00019: LearningRateScheduler setting learning rate to 0.0006475111.\n",
            "390/390 [==============================] - 31s 79ms/step - loss: 0.3410 - acc: 0.8793 - val_loss: 0.9683 - val_acc: 0.7309\n",
            "\n",
            "Epoch 00019: val_acc did not improve from 0.73480\n",
            "Epoch 20/50\n",
            "\n",
            "Epoch 00020: LearningRateScheduler setting learning rate to 0.0006200349.\n",
            "390/390 [==============================] - 31s 79ms/step - loss: 0.3197 - acc: 0.8869 - val_loss: 0.9794 - val_acc: 0.7336\n",
            "\n",
            "Epoch 00020: val_acc did not improve from 0.73480\n",
            "Epoch 21/50\n",
            "\n",
            "Epoch 00021: LearningRateScheduler setting learning rate to 0.0005947955.\n",
            "390/390 [==============================] - 31s 79ms/step - loss: 0.2944 - acc: 0.8970 - val_loss: 1.0358 - val_acc: 0.7302\n",
            "\n",
            "Epoch 00021: val_acc did not improve from 0.73480\n",
            "Epoch 22/50\n",
            "\n",
            "Epoch 00022: LearningRateScheduler setting learning rate to 0.0005715306.\n",
            "390/390 [==============================] - 31s 79ms/step - loss: 0.2805 - acc: 0.9001 - val_loss: 1.0664 - val_acc: 0.7321\n",
            "\n",
            "Epoch 00022: val_acc did not improve from 0.73480\n",
            "Epoch 23/50\n",
            "\n",
            "Epoch 00023: LearningRateScheduler setting learning rate to 0.0005500172.\n",
            "390/390 [==============================] - 31s 79ms/step - loss: 0.2611 - acc: 0.9076 - val_loss: 1.0480 - val_acc: 0.7411\n",
            "\n",
            "Epoch 00023: val_acc improved from 0.73480 to 0.74110, saving model to weights_a3_3.best.hdf5\n",
            "Epoch 24/50\n",
            "\n",
            "Epoch 00024: LearningRateScheduler setting learning rate to 0.0005300646.\n",
            "390/390 [==============================] - 31s 79ms/step - loss: 0.2519 - acc: 0.9100 - val_loss: 1.0608 - val_acc: 0.7349\n",
            "\n",
            "Epoch 00024: val_acc did not improve from 0.74110\n",
            "Epoch 25/50\n",
            "\n",
            "Epoch 00025: LearningRateScheduler setting learning rate to 0.000511509.\n",
            "390/390 [==============================] - 31s 79ms/step - loss: 0.2433 - acc: 0.9139 - val_loss: 1.0203 - val_acc: 0.7399\n",
            "\n",
            "Epoch 00025: val_acc did not improve from 0.74110\n",
            "Epoch 26/50\n",
            "\n",
            "Epoch 00026: LearningRateScheduler setting learning rate to 0.0004942085.\n",
            "390/390 [==============================] - 31s 79ms/step - loss: 0.2264 - acc: 0.9215 - val_loss: 1.1610 - val_acc: 0.7304\n",
            "\n",
            "Epoch 00026: val_acc did not improve from 0.74110\n",
            "Epoch 27/50\n",
            "\n",
            "Epoch 00027: LearningRateScheduler setting learning rate to 0.00047804.\n",
            "390/390 [==============================] - 31s 79ms/step - loss: 0.2155 - acc: 0.9245 - val_loss: 1.0462 - val_acc: 0.7443\n",
            "\n",
            "Epoch 00027: val_acc improved from 0.74110 to 0.74430, saving model to weights_a3_3.best.hdf5\n",
            "Epoch 28/50\n",
            "\n",
            "Epoch 00028: LearningRateScheduler setting learning rate to 0.000462896.\n",
            "390/390 [==============================] - 31s 79ms/step - loss: 0.2068 - acc: 0.9268 - val_loss: 1.1450 - val_acc: 0.7375\n",
            "\n",
            "Epoch 00028: val_acc did not improve from 0.74430\n",
            "Epoch 29/50\n",
            "\n",
            "Epoch 00029: LearningRateScheduler setting learning rate to 0.000448682.\n",
            "390/390 [==============================] - 31s 79ms/step - loss: 0.1942 - acc: 0.9319 - val_loss: 1.1207 - val_acc: 0.7408\n",
            "\n",
            "Epoch 00029: val_acc did not improve from 0.74430\n",
            "Epoch 30/50\n",
            "\n",
            "Epoch 00030: LearningRateScheduler setting learning rate to 0.0004353149.\n",
            "390/390 [==============================] - 31s 79ms/step - loss: 0.1890 - acc: 0.9340 - val_loss: 1.2401 - val_acc: 0.7188\n",
            "\n",
            "Epoch 00030: val_acc did not improve from 0.74430\n",
            "Epoch 31/50\n",
            "\n",
            "Epoch 00031: LearningRateScheduler setting learning rate to 0.0004227213.\n",
            "390/390 [==============================] - 31s 79ms/step - loss: 0.1825 - acc: 0.9355 - val_loss: 1.1566 - val_acc: 0.7376\n",
            "\n",
            "Epoch 00031: val_acc did not improve from 0.74430\n",
            "Epoch 32/50\n",
            "\n",
            "Epoch 00032: LearningRateScheduler setting learning rate to 0.0004108358.\n",
            "390/390 [==============================] - 31s 79ms/step - loss: 0.1693 - acc: 0.9405 - val_loss: 1.2502 - val_acc: 0.7301\n",
            "\n",
            "Epoch 00032: val_acc did not improve from 0.74430\n",
            "Epoch 33/50\n",
            "\n",
            "Epoch 00033: LearningRateScheduler setting learning rate to 0.0003996004.\n",
            "390/390 [==============================] - 31s 79ms/step - loss: 0.1611 - acc: 0.9434 - val_loss: 1.2205 - val_acc: 0.7341\n",
            "\n",
            "Epoch 00033: val_acc did not improve from 0.74430\n",
            "Epoch 34/50\n",
            "\n",
            "Epoch 00034: LearningRateScheduler setting learning rate to 0.0003889632.\n",
            "390/390 [==============================] - 31s 79ms/step - loss: 0.1629 - acc: 0.9431 - val_loss: 1.1670 - val_acc: 0.7454\n",
            "\n",
            "Epoch 00034: val_acc improved from 0.74430 to 0.74540, saving model to weights_a3_3.best.hdf5\n",
            "Epoch 35/50\n",
            "\n",
            "Epoch 00035: LearningRateScheduler setting learning rate to 0.0003788776.\n",
            "390/390 [==============================] - 31s 79ms/step - loss: 0.1501 - acc: 0.9474 - val_loss: 1.2173 - val_acc: 0.7382\n",
            "\n",
            "Epoch 00035: val_acc did not improve from 0.74540\n",
            "Epoch 36/50\n",
            "\n",
            "Epoch 00036: LearningRateScheduler setting learning rate to 0.0003693018.\n",
            "390/390 [==============================] - 31s 80ms/step - loss: 0.1478 - acc: 0.9483 - val_loss: 1.1982 - val_acc: 0.7429\n",
            "\n",
            "Epoch 00036: val_acc did not improve from 0.74540\n",
            "Epoch 37/50\n",
            "\n",
            "Epoch 00037: LearningRateScheduler setting learning rate to 0.0003601981.\n",
            "390/390 [==============================] - 31s 80ms/step - loss: 0.1491 - acc: 0.9482 - val_loss: 1.2445 - val_acc: 0.7331\n",
            "\n",
            "Epoch 00037: val_acc did not improve from 0.74540\n",
            "Epoch 38/50\n",
            "\n",
            "Epoch 00038: LearningRateScheduler setting learning rate to 0.0003515325.\n",
            "390/390 [==============================] - 31s 80ms/step - loss: 0.1432 - acc: 0.9495 - val_loss: 1.2197 - val_acc: 0.7443\n",
            "\n",
            "Epoch 00038: val_acc did not improve from 0.74540\n",
            "Epoch 39/50\n",
            "\n",
            "Epoch 00039: LearningRateScheduler setting learning rate to 0.000343274.\n",
            "390/390 [==============================] - 31s 80ms/step - loss: 0.1328 - acc: 0.9533 - val_loss: 1.2684 - val_acc: 0.7419\n",
            "\n",
            "Epoch 00039: val_acc did not improve from 0.74540\n",
            "Epoch 40/50\n",
            "\n",
            "Epoch 00040: LearningRateScheduler setting learning rate to 0.0003353946.\n",
            "390/390 [==============================] - 31s 79ms/step - loss: 0.1264 - acc: 0.9561 - val_loss: 1.2461 - val_acc: 0.7449\n",
            "\n",
            "Epoch 00040: val_acc did not improve from 0.74540\n",
            "Epoch 41/50\n",
            "\n",
            "Epoch 00041: LearningRateScheduler setting learning rate to 0.0003278689.\n",
            "390/390 [==============================] - 31s 79ms/step - loss: 0.1288 - acc: 0.9554 - val_loss: 1.2925 - val_acc: 0.7394\n",
            "\n",
            "Epoch 00041: val_acc did not improve from 0.74540\n",
            "Epoch 42/50\n",
            "\n",
            "Epoch 00042: LearningRateScheduler setting learning rate to 0.0003206734.\n",
            "390/390 [==============================] - 31s 79ms/step - loss: 0.1202 - acc: 0.9579 - val_loss: 1.2769 - val_acc: 0.7420\n",
            "\n",
            "Epoch 00042: val_acc did not improve from 0.74540\n",
            "Epoch 43/50\n",
            "\n",
            "Epoch 00043: LearningRateScheduler setting learning rate to 0.000313787.\n",
            "390/390 [==============================] - 31s 79ms/step - loss: 0.1195 - acc: 0.9584 - val_loss: 1.3008 - val_acc: 0.7426\n",
            "\n",
            "Epoch 00043: val_acc did not improve from 0.74540\n",
            "Epoch 44/50\n",
            "\n",
            "Epoch 00044: LearningRateScheduler setting learning rate to 0.0003071902.\n",
            "390/390 [==============================] - 31s 79ms/step - loss: 0.1181 - acc: 0.9586 - val_loss: 1.3349 - val_acc: 0.7364\n",
            "\n",
            "Epoch 00044: val_acc did not improve from 0.74540\n",
            "Epoch 45/50\n",
            "\n",
            "Epoch 00045: LearningRateScheduler setting learning rate to 0.000300865.\n",
            "390/390 [==============================] - 31s 79ms/step - loss: 0.1128 - acc: 0.9596 - val_loss: 1.3012 - val_acc: 0.7391\n",
            "\n",
            "Epoch 00045: val_acc did not improve from 0.74540\n",
            "Epoch 46/50\n",
            "\n",
            "Epoch 00046: LearningRateScheduler setting learning rate to 0.000294795.\n",
            "390/390 [==============================] - 31s 79ms/step - loss: 0.1089 - acc: 0.9624 - val_loss: 1.3567 - val_acc: 0.7371\n",
            "\n",
            "Epoch 00046: val_acc did not improve from 0.74540\n",
            "Epoch 47/50\n",
            "\n",
            "Epoch 00047: LearningRateScheduler setting learning rate to 0.0002889651.\n",
            "390/390 [==============================] - 31s 79ms/step - loss: 0.1077 - acc: 0.9632 - val_loss: 1.3651 - val_acc: 0.7404\n",
            "\n",
            "Epoch 00047: val_acc did not improve from 0.74540\n",
            "Epoch 48/50\n",
            "\n",
            "Epoch 00048: LearningRateScheduler setting learning rate to 0.0002833614.\n",
            "390/390 [==============================] - 30s 78ms/step - loss: 0.1052 - acc: 0.9632 - val_loss: 1.3189 - val_acc: 0.7446\n",
            "\n",
            "Epoch 00048: val_acc did not improve from 0.74540\n",
            "Epoch 49/50\n",
            "\n",
            "Epoch 00049: LearningRateScheduler setting learning rate to 0.0002779708.\n",
            "390/390 [==============================] - 30s 78ms/step - loss: 0.0989 - acc: 0.9655 - val_loss: 1.3632 - val_acc: 0.7426\n",
            "\n",
            "Epoch 00049: val_acc did not improve from 0.74540\n",
            "Epoch 50/50\n",
            "\n",
            "Epoch 00050: LearningRateScheduler setting learning rate to 0.0002727815.\n",
            "390/390 [==============================] - 31s 78ms/step - loss: 0.0980 - acc: 0.9664 - val_loss: 1.3243 - val_acc: 0.7472\n",
            "\n",
            "Epoch 00050: val_acc improved from 0.74540 to 0.74720, saving model to weights_a3_3.best.hdf5\n",
            "Model took 1574.59 seconds to train\n"
          ],
          "name": "stdout"
        },
        {
          "output_type": "display_data",
          "data": {
            "image/png": "[encoded data removed]",
            "text/plain": [
              "<Figure size 1080x360 with 2 Axes>"
            ]
          },
          "metadata": {
            "tags": []
          }
        },
        {
          "output_type": "stream",
          "text": [
            "Accuracy on test data is: 74.72\n"
          ],
          "name": "stdout"
        }
      ]
    },
    {
      "cell_type": "code",
      "metadata": {
        "id": "-0l6lr55jlrd",
        "colab_type": "code",
        "outputId": "6a25288d-252e-4f9c-f8c7-1087a74b1dd3",
        "colab": {
          "base_uri": "https://localhost:8080/",
          "height": 35
        }
      },
      "source": [
        "model. load_weights('weights_a3_3.best.hdf5')\n",
        "print (\"Accuracy on test data is: %0.2f\"%accuracy(test_features, test_labels, model))"
      ],
      "execution_count": 0,
      "outputs": [
        {
          "output_type": "stream",
          "text": [
            "Accuracy on test data is: 74.72\n"
          ],
          "name": "stdout"
        }
      ]
    },
    {
      "cell_type": "code",
      "metadata": {
        "id": "AqhFiraw9oez",
        "colab_type": "code",
        "colab": {}
      },
      "source": [
        ""
      ],
      "execution_count": 0,
      "outputs": []
    },
    {
      "cell_type": "markdown",
      "metadata": {
        "colab_type": "text",
        "id": "iWcSYpeO9o3C"
      },
      "source": [
        "### Network Approach: 4"
      ]
    },
    {
      "cell_type": "markdown",
      "metadata": {
        "id": "dAQcJJuh-Hmx",
        "colab_type": "text"
      },
      "source": [
        "**Strategy Used**:\n",
        "\n",
        "- First Layer border mode has been changed to Same\n",
        "- 2nd layer dilation rate has been increased from (2,2) to (3,3)\n",
        "- Have used Learning Rate Scheduler\n",
        "- First Ran 20 epochs with minial image augemnattion which had only zoom. This gave accuracy of 80.03%\n",
        "- Then again Ran with further image augmennation as shared below for 30 epoch further and this gave highest accuracy of 83.12% which gave more than baseline accuracy of 82.54% \n",
        "\n",
        "zoom_range=0.25,rotation_range=5,width_shift_range=0.1,height_shift_range=0.1"
      ]
    },
    {
      "cell_type": "code",
      "metadata": {
        "colab_type": "code",
        "outputId": "4a103bae-a223-4538-c629-152c1a51d257",
        "id": "66hRxGGB9o3O",
        "colab": {
          "base_uri": "https://localhost:8080/",
          "height": 183
        }
      },
      "source": [
        "# Define the model\n",
        "model = Sequential()\n",
        "model.add(SeparableConv2D(filters=24*2*2, kernel_size=(3, 3), dilation_rate=(3, 3), input_shape=(32, 32, 3),border_mode='same'))\n",
        "model.add(BatchNormalization())\n",
        "model.add(Activation('relu'))\n",
        "\n",
        "model.add(SeparableConv2D(filters=48*2*2, kernel_size=(3, 3),dilation_rate=(3, 3)))\n",
        "model.add(BatchNormalization())\n",
        "model.add(Activation('relu'))\n",
        "\n",
        "# model.add(MaxPooling2D(pool_size=(2, 2)))\n",
        "# model.add(Dropout(0.25))\n",
        "\n",
        "model.add(SeparableConv2D(filters=96*2*2, kernel_size=(3, 3), dilation_rate=(2, 2),border_mode='valid'))\n",
        "model.add(BatchNormalization())\n",
        "model.add(Activation('relu'))\n",
        "\n",
        "model.add(SeparableConv2D(filters=192*2*2, kernel_size=(3, 3),dilation_rate=(2, 2)))\n",
        "model.add(BatchNormalization())\n",
        "model.add(Activation('relu'))\n",
        "\n",
        "# model.add(MaxPooling2D(pool_size=(2, 2)))\n",
        "model.add(Dropout(0.25))\n",
        "\n",
        "model.add(SeparableConv2D(filters=384*2*2, kernel_size=(3, 3), dilation_rate=(2, 2),border_mode='valid'))\n",
        "model.add(BatchNormalization())\n",
        "model.add(Activation('relu'))\n",
        "\n",
        "model.add(MaxPooling2D(pool_size=(2, 2)))\n",
        "\n",
        "model.add(SeparableConv2D(filters=48*2*2, kernel_size=(3, 3), dilation_rate=(3, 3),border_mode='same'))\n",
        "model.add(BatchNormalization())\n",
        "model.add(Activation('relu'))\n",
        "model.add(Dropout(0.25))\n",
        "\n",
        "\n",
        "model.add(SeparableConv2D(filters=96*2*2, kernel_size=(3, 3), dilation_rate=(3, 3),border_mode='same'))\n",
        "model.add(BatchNormalization())\n",
        "model.add(Activation('relu'))\n",
        "\n",
        "model.add(SeparableConv2D(filters=192*2*2, kernel_size=(3, 3), dilation_rate=(3, 3),border_mode='same'))\n",
        "model.add(BatchNormalization())\n",
        "\n",
        "# model.add(MaxPooling2D(pool_size=(2, 2)))\n",
        "model.add(Dropout(0.35))\n",
        "\n",
        "# model.add(SeparableConv2D(filters=96*2, kernel_size=(1, 1), dilation_rate=(2, 2),border_mode='same'))\n",
        "# model.add(BatchNormalization())\n",
        "\n",
        "# model.add(Flatten())\n",
        "\n",
        "model.add(GlobalAveragePooling2D())\n",
        "\n",
        "model.add(Dense(512))\n",
        "model.add(Activation('relu'))\n",
        "model.add(Dropout(0.35))\n",
        "\n",
        "# model.add(Dense(128))\n",
        "# model.add(Activation('relu'))\n",
        "# model.add(Dropout(0.2))\n",
        "\n",
        "model.add(Dense(num_classes, activation='softmax'))\n",
        "# Compile the model\n",
        "model.compile(optimizer='adam',loss='categorical_crossentropy', metrics=['accuracy'])\n",
        "# Compile the model\n",
        "# model.compile(optimizer=Adam(lr=0.001,decay=0, beta_1=0.9, beta_2=0.999, epsilon=1e-08),loss='categorical_crossentropy', metrics=['accuracy'])\n"
      ],
      "execution_count": 0,
      "outputs": [
        {
          "output_type": "stream",
          "text": [
            "/usr/local/lib/python3.6/dist-packages/ipykernel_launcher.py:2: UserWarning: Update your `SeparableConv2D` call to the Keras 2 API: `SeparableConv2D(filters=96, kernel_size=(3, 3), dilation_rate=(3, 3), input_shape=(32, 32, 3..., padding=\"same\")`\n",
            "  \n",
            "/usr/local/lib/python3.6/dist-packages/ipykernel_launcher.py:13: UserWarning: Update your `SeparableConv2D` call to the Keras 2 API: `SeparableConv2D(filters=384, kernel_size=(3, 3), dilation_rate=(2, 2), padding=\"valid\")`\n",
            "  del sys.path[0]\n",
            "/usr/local/lib/python3.6/dist-packages/ipykernel_launcher.py:24: UserWarning: Update your `SeparableConv2D` call to the Keras 2 API: `SeparableConv2D(filters=1536, kernel_size=(3, 3), dilation_rate=(2, 2), padding=\"valid\")`\n",
            "/usr/local/lib/python3.6/dist-packages/ipykernel_launcher.py:30: UserWarning: Update your `SeparableConv2D` call to the Keras 2 API: `SeparableConv2D(filters=192, kernel_size=(3, 3), dilation_rate=(3, 3), padding=\"same\")`\n",
            "/usr/local/lib/python3.6/dist-packages/ipykernel_launcher.py:36: UserWarning: Update your `SeparableConv2D` call to the Keras 2 API: `SeparableConv2D(filters=384, kernel_size=(3, 3), dilation_rate=(3, 3), padding=\"same\")`\n",
            "/usr/local/lib/python3.6/dist-packages/ipykernel_launcher.py:40: UserWarning: Update your `SeparableConv2D` call to the Keras 2 API: `SeparableConv2D(filters=768, kernel_size=(3, 3), dilation_rate=(3, 3), padding=\"same\")`\n"
          ],
          "name": "stderr"
        }
      ]
    },
    {
      "cell_type": "code",
      "metadata": {
        "colab_type": "code",
        "outputId": "29458b57-9556-4a97-e537-f8cda9818421",
        "id": "OJaZxNyi9o3d",
        "colab": {
          "base_uri": "https://localhost:8080/",
          "height": 126
        }
      },
      "source": [
        "model.optimizer.get_config()"
      ],
      "execution_count": 0,
      "outputs": [
        {
          "output_type": "execute_result",
          "data": {
            "text/plain": [
              "{'amsgrad': False,\n",
              " 'beta_1': 0.8999999761581421,\n",
              " 'beta_2': 0.9990000128746033,\n",
              " 'decay': 0.0,\n",
              " 'epsilon': 1e-07,\n",
              " 'lr': 0.0010000000474974513}"
            ]
          },
          "metadata": {
            "tags": []
          },
          "execution_count": 88
        }
      ]
    },
    {
      "cell_type": "code",
      "metadata": {
        "colab_type": "code",
        "outputId": "033625db-305d-4b65-8919-ba730aa01a90",
        "id": "wd1VXh9Z9o3n",
        "colab": {
          "base_uri": "https://localhost:8080/",
          "height": 1000
        }
      },
      "source": [
        "model.summary()"
      ],
      "execution_count": 0,
      "outputs": [
        {
          "output_type": "stream",
          "text": [
            "Model: \"sequential_23\"\n",
            "_________________________________________________________________\n",
            "Layer (type)                 Output Shape              Param #   \n",
            "=================================================================\n",
            "separable_conv2d_194 (Separa (None, 32, 32, 96)        411       \n",
            "_________________________________________________________________\n",
            "batch_normalization_194 (Bat (None, 32, 32, 96)        384       \n",
            "_________________________________________________________________\n",
            "activation_181 (Activation)  (None, 32, 32, 96)        0         \n",
            "_________________________________________________________________\n",
            "separable_conv2d_195 (Separa (None, 26, 26, 192)       19488     \n",
            "_________________________________________________________________\n",
            "batch_normalization_195 (Bat (None, 26, 26, 192)       768       \n",
            "_________________________________________________________________\n",
            "activation_182 (Activation)  (None, 26, 26, 192)       0         \n",
            "_________________________________________________________________\n",
            "separable_conv2d_196 (Separa (None, 22, 22, 384)       75840     \n",
            "_________________________________________________________________\n",
            "batch_normalization_196 (Bat (None, 22, 22, 384)       1536      \n",
            "_________________________________________________________________\n",
            "activation_183 (Activation)  (None, 22, 22, 384)       0         \n",
            "_________________________________________________________________\n",
            "separable_conv2d_197 (Separa (None, 18, 18, 768)       299136    \n",
            "_________________________________________________________________\n",
            "batch_normalization_197 (Bat (None, 18, 18, 768)       3072      \n",
            "_________________________________________________________________\n",
            "activation_184 (Activation)  (None, 18, 18, 768)       0         \n",
            "_________________________________________________________________\n",
            "dropout_87 (Dropout)         (None, 18, 18, 768)       0         \n",
            "_________________________________________________________________\n",
            "separable_conv2d_198 (Separa (None, 14, 14, 1536)      1188096   \n",
            "_________________________________________________________________\n",
            "batch_normalization_198 (Bat (None, 14, 14, 1536)      6144      \n",
            "_________________________________________________________________\n",
            "activation_185 (Activation)  (None, 14, 14, 1536)      0         \n",
            "_________________________________________________________________\n",
            "max_pooling2d_23 (MaxPooling (None, 7, 7, 1536)        0         \n",
            "_________________________________________________________________\n",
            "separable_conv2d_199 (Separa (None, 7, 7, 192)         308928    \n",
            "_________________________________________________________________\n",
            "batch_normalization_199 (Bat (None, 7, 7, 192)         768       \n",
            "_________________________________________________________________\n",
            "activation_186 (Activation)  (None, 7, 7, 192)         0         \n",
            "_________________________________________________________________\n",
            "dropout_88 (Dropout)         (None, 7, 7, 192)         0         \n",
            "_________________________________________________________________\n",
            "separable_conv2d_200 (Separa (None, 7, 7, 384)         75840     \n",
            "_________________________________________________________________\n",
            "batch_normalization_200 (Bat (None, 7, 7, 384)         1536      \n",
            "_________________________________________________________________\n",
            "activation_187 (Activation)  (None, 7, 7, 384)         0         \n",
            "_________________________________________________________________\n",
            "separable_conv2d_201 (Separa (None, 7, 7, 768)         299136    \n",
            "_________________________________________________________________\n",
            "batch_normalization_201 (Bat (None, 7, 7, 768)         3072      \n",
            "_________________________________________________________________\n",
            "dropout_89 (Dropout)         (None, 7, 7, 768)         0         \n",
            "_________________________________________________________________\n",
            "global_average_pooling2d_7 ( (None, 768)               0         \n",
            "_________________________________________________________________\n",
            "dense_47 (Dense)             (None, 512)               393728    \n",
            "_________________________________________________________________\n",
            "activation_188 (Activation)  (None, 512)               0         \n",
            "_________________________________________________________________\n",
            "dropout_90 (Dropout)         (None, 512)               0         \n",
            "_________________________________________________________________\n",
            "dense_48 (Dense)             (None, 10)                5130      \n",
            "=================================================================\n",
            "Total params: 2,683,013\n",
            "Trainable params: 2,674,373\n",
            "Non-trainable params: 8,640\n",
            "_________________________________________________________________\n"
          ],
          "name": "stdout"
        }
      ]
    },
    {
      "cell_type": "code",
      "metadata": {
        "colab_type": "code",
        "id": "Y90Kptac9o32",
        "colab": {}
      },
      "source": [
        "from keras.callbacks import LearningRateScheduler\n",
        "from keras.callbacks import ModelCheckpoint\n",
        "from keras.callbacks import ReduceLROnPlateau\n",
        "\n",
        "def scheduler(epoch, lr):\n",
        "  return round(0.0032 * 1/(1 + 0.219 * epoch), 10)\n",
        "\n",
        "# keras.callbacks.callbacks.ReduceLROnPlateau(monitor='val_loss', factor=0.1, patience=10, verbose=0, mode='auto', min_delta=0.0001, cooldown=0, min_lr=0)\n",
        "reduce_lr = ReduceLROnPlateau(monitor='val_loss', factor=0.005,\n",
        "                              patience=1, cooldown =1, min_lr=0.0001)\n",
        "## Adam(lr=0.001,decay=0, beta_1=0.9, beta_2=0.999, epsilon=1e-08)\n",
        "filepath=\"weights_a3_4.best.hdf5\"\n",
        "checkpoint = ModelCheckpoint(filepath, monitor='val_acc', verbose=1, save_best_only=True, mode='max')\n",
        "# callbacks_list = [checkpoint]\n"
      ],
      "execution_count": 0,
      "outputs": []
    },
    {
      "cell_type": "code",
      "metadata": {
        "colab_type": "code",
        "id": "vqVpynmd9o4C",
        "colab": {}
      },
      "source": [
        "from keras.preprocessing.image import ImageDataGenerator\n",
        "\n",
        "# datagen = ImageDataGenerator(zoom_range=0.0,rotation_range=15, width_shift_range=0.1,height_shift_range=0.1,\n",
        "#                              horizontal_flip=True,\n",
        "#                              vertical_flip=False)\n",
        "\n",
        "datagen = ImageDataGenerator(zoom_range=0.25,rotation_range=0, \n",
        "                             horizontal_flip=False,\n",
        "                             vertical_flip=False)"
      ],
      "execution_count": 0,
      "outputs": []
    },
    {
      "cell_type": "code",
      "metadata": {
        "colab_type": "code",
        "outputId": "18297925-5c5b-45f7-c054-a31630ab2caf",
        "id": "EZM3iOPx9o4H",
        "colab": {
          "base_uri": "https://localhost:8080/",
          "height": 268
        }
      },
      "source": [
        "## see example augmentation images\n",
        "for X_batch, y_batch in datagen.flow(train_features, train_labels, batch_size=9):\n",
        "    for i in range(0, 9):\n",
        "        plt.subplot(330 + 1 + i)\n",
        "        plt.imshow(X_batch[i].astype(np.uint8))\n",
        "    plt.show()\n",
        "    break"
      ],
      "execution_count": 0,
      "outputs": [
        {
          "output_type": "display_data",
          "data": {
            "image/png": "[encoded data removed]",
            "text/plain": [
              "<Figure size 432x288 with 9 Axes>"
            ]
          },
          "metadata": {
            "tags": []
          }
        }
      ]
    },
    {
      "cell_type": "code",
      "metadata": {
        "colab_type": "code",
        "outputId": "4359f180-8f0f-44ff-97f2-4650162aa7ce",
        "id": "IUQ6wUkR9o4U",
        "colab": {
          "base_uri": "https://localhost:8080/",
          "height": 1000
        }
      },
      "source": [
        "# train the model\n",
        "start = time.time()\n",
        "# Train the model\n",
        "model_info = model.fit_generator(datagen.flow(train_features, train_labels, batch_size = 128),\n",
        "                                 samples_per_epoch = train_features.shape[0], nb_epoch = 20,\n",
        "                                 callbacks=[checkpoint,LearningRateScheduler(scheduler, verbose=1)],\n",
        "                                #  callbacks=[checkpoint, LearningRateScheduler(scheduler, verbose=1)], \n",
        "                                 validation_data = (test_features, test_labels), verbose=1)\n",
        "end = time.time()\n",
        "print (\"Model took %0.2f seconds to train\"%(end - start))\n",
        "# plot model history\n",
        "plot_model_history(model_info)\n",
        "# compute test accuracy\n",
        "print (\"Accuracy on test data is: %0.2f\"%accuracy(test_features, test_labels, model))"
      ],
      "execution_count": 0,
      "outputs": [
        {
          "output_type": "stream",
          "text": [
            "/usr/local/lib/python3.6/dist-packages/ipykernel_launcher.py:7: UserWarning: The semantics of the Keras 2 argument `steps_per_epoch` is not the same as the Keras 1 argument `samples_per_epoch`. `steps_per_epoch` is the number of batches to draw from the generator at each epoch. Basically steps_per_epoch = samples_per_epoch/batch_size. Similarly `nb_val_samples`->`validation_steps` and `val_samples`->`steps` arguments have changed. Update your method calls accordingly.\n",
            "  import sys\n",
            "/usr/local/lib/python3.6/dist-packages/ipykernel_launcher.py:7: UserWarning: Update your `fit_generator` call to the Keras 2 API: `fit_generator(<keras_pre..., callbacks=[<keras.ca..., validation_data=(array([[[..., verbose=1, steps_per_epoch=390, epochs=20)`\n",
            "  import sys\n"
          ],
          "name": "stderr"
        },
        {
          "output_type": "stream",
          "text": [
            "Epoch 1/20\n",
            "\n",
            "Epoch 00001: LearningRateScheduler setting learning rate to 0.0032.\n",
            "390/390 [==============================] - 100s 257ms/step - loss: 1.5532 - acc: 0.4402 - val_loss: 3.3957 - val_acc: 0.3295\n",
            "\n",
            "Epoch 00001: val_acc improved from -inf to 0.32950, saving model to weights_a3_4.best.hdf5\n",
            "Epoch 2/20\n",
            "\n",
            "Epoch 00002: LearningRateScheduler setting learning rate to 0.0026251025.\n",
            "390/390 [==============================] - 85s 219ms/step - loss: 1.1983 - acc: 0.5766 - val_loss: 1.9439 - val_acc: 0.4932\n",
            "\n",
            "Epoch 00002: val_acc improved from 0.32950 to 0.49320, saving model to weights_a3_4.best.hdf5\n",
            "Epoch 3/20\n",
            "\n",
            "Epoch 00003: LearningRateScheduler setting learning rate to 0.0022253129.\n",
            "390/390 [==============================] - 85s 219ms/step - loss: 1.0236 - acc: 0.6422 - val_loss: 1.3714 - val_acc: 0.5987\n",
            "\n",
            "Epoch 00003: val_acc improved from 0.49320 to 0.59870, saving model to weights_a3_4.best.hdf5\n",
            "Epoch 4/20\n",
            "\n",
            "Epoch 00004: LearningRateScheduler setting learning rate to 0.001931201.\n",
            "390/390 [==============================] - 85s 219ms/step - loss: 0.8982 - acc: 0.6891 - val_loss: 0.9369 - val_acc: 0.6803\n",
            "\n",
            "Epoch 00004: val_acc improved from 0.59870 to 0.68030, saving model to weights_a3_4.best.hdf5\n",
            "Epoch 5/20\n",
            "\n",
            "Epoch 00005: LearningRateScheduler setting learning rate to 0.0017057569.\n",
            "390/390 [==============================] - 85s 219ms/step - loss: 0.8037 - acc: 0.7224 - val_loss: 0.9257 - val_acc: 0.6892\n",
            "\n",
            "Epoch 00005: val_acc improved from 0.68030 to 0.68920, saving model to weights_a3_4.best.hdf5\n",
            "Epoch 6/20\n",
            "\n",
            "Epoch 00006: LearningRateScheduler setting learning rate to 0.0015274463.\n",
            "390/390 [==============================] - 85s 219ms/step - loss: 0.7191 - acc: 0.7514 - val_loss: 1.1643 - val_acc: 0.6461\n",
            "\n",
            "Epoch 00006: val_acc did not improve from 0.68920\n",
            "Epoch 7/20\n",
            "\n",
            "Epoch 00007: LearningRateScheduler setting learning rate to 0.0013828868.\n",
            "390/390 [==============================] - 86s 220ms/step - loss: 0.6520 - acc: 0.7733 - val_loss: 0.8133 - val_acc: 0.7296\n",
            "\n",
            "Epoch 00007: val_acc improved from 0.68920 to 0.72960, saving model to weights_a3_4.best.hdf5\n",
            "Epoch 8/20\n",
            "\n",
            "Epoch 00008: LearningRateScheduler setting learning rate to 0.0012633241.\n",
            "390/390 [==============================] - 86s 220ms/step - loss: 0.5864 - acc: 0.7973 - val_loss: 0.8585 - val_acc: 0.7251\n",
            "\n",
            "Epoch 00008: val_acc did not improve from 0.72960\n",
            "Epoch 9/20\n",
            "\n",
            "Epoch 00009: LearningRateScheduler setting learning rate to 0.0011627907.\n",
            "390/390 [==============================] - 86s 220ms/step - loss: 0.5315 - acc: 0.8171 - val_loss: 0.9658 - val_acc: 0.7088\n",
            "\n",
            "Epoch 00009: val_acc did not improve from 0.72960\n",
            "Epoch 10/20\n",
            "\n",
            "Epoch 00010: LearningRateScheduler setting learning rate to 0.0010770784.\n",
            "390/390 [==============================] - 86s 220ms/step - loss: 0.4830 - acc: 0.8335 - val_loss: 0.9536 - val_acc: 0.7119\n",
            "\n",
            "Epoch 00010: val_acc did not improve from 0.72960\n",
            "Epoch 11/20\n",
            "\n",
            "Epoch 00011: LearningRateScheduler setting learning rate to 0.0010031348.\n",
            "390/390 [==============================] - 86s 220ms/step - loss: 0.4349 - acc: 0.8494 - val_loss: 0.7505 - val_acc: 0.7629\n",
            "\n",
            "Epoch 00011: val_acc improved from 0.72960 to 0.76290, saving model to weights_a3_4.best.hdf5\n",
            "Epoch 12/20\n",
            "\n",
            "Epoch 00012: LearningRateScheduler setting learning rate to 0.0009386917.\n",
            "390/390 [==============================] - 86s 220ms/step - loss: 0.3862 - acc: 0.8659 - val_loss: 0.7420 - val_acc: 0.7764\n",
            "\n",
            "Epoch 00012: val_acc improved from 0.76290 to 0.77640, saving model to weights_a3_4.best.hdf5\n",
            "Epoch 13/20\n",
            "\n",
            "Epoch 00013: LearningRateScheduler setting learning rate to 0.0008820287.\n",
            "390/390 [==============================] - 86s 220ms/step - loss: 0.3492 - acc: 0.8791 - val_loss: 0.7566 - val_acc: 0.7790\n",
            "\n",
            "Epoch 00013: val_acc improved from 0.77640 to 0.77900, saving model to weights_a3_4.best.hdf5\n",
            "Epoch 14/20\n",
            "\n",
            "Epoch 00014: LearningRateScheduler setting learning rate to 0.000831817.\n",
            "390/390 [==============================] - 86s 220ms/step - loss: 0.3108 - acc: 0.8910 - val_loss: 0.7687 - val_acc: 0.7865\n",
            "\n",
            "Epoch 00014: val_acc improved from 0.77900 to 0.78650, saving model to weights_a3_4.best.hdf5\n",
            "Epoch 15/20\n",
            "\n",
            "Epoch 00015: LearningRateScheduler setting learning rate to 0.0007870143.\n",
            "390/390 [==============================] - 86s 220ms/step - loss: 0.2794 - acc: 0.9032 - val_loss: 0.7940 - val_acc: 0.7835\n",
            "\n",
            "Epoch 00015: val_acc did not improve from 0.78650\n",
            "Epoch 16/20\n",
            "\n",
            "Epoch 00016: LearningRateScheduler setting learning rate to 0.0007467911.\n",
            "390/390 [==============================] - 86s 220ms/step - loss: 0.2472 - acc: 0.9130 - val_loss: 0.8536 - val_acc: 0.7811\n",
            "\n",
            "Epoch 00016: val_acc did not improve from 0.78650\n",
            "Epoch 17/20\n",
            "\n",
            "Epoch 00017: LearningRateScheduler setting learning rate to 0.0007104796.\n",
            "390/390 [==============================] - 86s 220ms/step - loss: 0.2258 - acc: 0.9219 - val_loss: 0.8106 - val_acc: 0.7890\n",
            "\n",
            "Epoch 00017: val_acc improved from 0.78650 to 0.78900, saving model to weights_a3_4.best.hdf5\n",
            "Epoch 18/20\n",
            "\n",
            "Epoch 00018: LearningRateScheduler setting learning rate to 0.0006775355.\n",
            "390/390 [==============================] - 86s 220ms/step - loss: 0.2019 - acc: 0.9297 - val_loss: 0.8606 - val_acc: 0.7892\n",
            "\n",
            "Epoch 00018: val_acc improved from 0.78900 to 0.78920, saving model to weights_a3_4.best.hdf5\n",
            "Epoch 19/20\n",
            "\n",
            "Epoch 00019: LearningRateScheduler setting learning rate to 0.0006475111.\n",
            "390/390 [==============================] - 86s 220ms/step - loss: 0.1822 - acc: 0.9370 - val_loss: 0.8413 - val_acc: 0.8003\n",
            "\n",
            "Epoch 00019: val_acc improved from 0.78920 to 0.80030, saving model to weights_a3_4.best.hdf5\n",
            "Epoch 20/20\n",
            "\n",
            "Epoch 00020: LearningRateScheduler setting learning rate to 0.0006200349.\n",
            "390/390 [==============================] - 86s 220ms/step - loss: 0.1627 - acc: 0.9436 - val_loss: 0.8748 - val_acc: 0.7950\n",
            "\n",
            "Epoch 00020: val_acc did not improve from 0.80030\n",
            "Model took 1756.62 seconds to train\n"
          ],
          "name": "stdout"
        },
        {
          "output_type": "display_data",
          "data": {
            "image/png": "[encoded data removed]",
            "text/plain": [
              "<Figure size 1080x360 with 2 Axes>"
            ]
          },
          "metadata": {
            "tags": []
          }
        },
        {
          "output_type": "stream",
          "text": [
            "Accuracy on test data is: 79.50\n"
          ],
          "name": "stdout"
        }
      ]
    },
    {
      "cell_type": "code",
      "metadata": {
        "colab_type": "code",
        "outputId": "67d3b54d-ee09-4c9a-96c7-a70165010ef9",
        "id": "oPTUb_Bq9o4f",
        "colab": {
          "base_uri": "https://localhost:8080/",
          "height": 35
        }
      },
      "source": [
        "model.load_weights('weights_a3_4.best.hdf5')\n",
        "print (\"Accuracy on test data is: %0.2f\"%accuracy(test_features, test_labels, model))"
      ],
      "execution_count": 0,
      "outputs": [
        {
          "output_type": "stream",
          "text": [
            "Accuracy on test data is: 80.03\n"
          ],
          "name": "stdout"
        }
      ]
    },
    {
      "cell_type": "code",
      "metadata": {
        "id": "Bh7tlpwCOP8E",
        "colab_type": "code",
        "colab": {}
      },
      "source": [
        "from keras.preprocessing.image import ImageDataGenerator\n",
        "\n",
        "# datagen = ImageDataGenerator(zoom_range=0.0,rotation_range=15, width_shift_range=0.1,height_shift_range=0.1,\n",
        "#                              horizontal_flip=True,\n",
        "#                              vertical_flip=False)\n",
        "\n",
        "datagen = ImageDataGenerator(zoom_range=0.25,rotation_range=5,width_shift_range=0.1,height_shift_range=0.1, \n",
        "                             horizontal_flip=False,\n",
        "                             vertical_flip=False)"
      ],
      "execution_count": 0,
      "outputs": []
    },
    {
      "cell_type": "code",
      "metadata": {
        "id": "wSyhFIuCOWgy",
        "colab_type": "code",
        "outputId": "d2033d0b-d42e-4175-899f-557cb90d2dab",
        "colab": {
          "base_uri": "https://localhost:8080/",
          "height": 1000
        }
      },
      "source": [
        "# train the model\n",
        "start = time.time()\n",
        "# Train the model\n",
        "model_info = model.fit_generator(datagen.flow(train_features, train_labels, batch_size = 128),\n",
        "                                 samples_per_epoch = train_features.shape[0], initial_epoch = 20, nb_epoch = 50,\n",
        "                                 callbacks=[checkpoint,LearningRateScheduler(scheduler, verbose=1)],\n",
        "                                #  callbacks=[checkpoint, LearningRateScheduler(scheduler, verbose=1)], \n",
        "                                 validation_data = (test_features, test_labels), verbose=1)\n",
        "end = time.time()\n",
        "print (\"Model took %0.2f seconds to train\"%(end - start))\n",
        "# plot model history\n",
        "plot_model_history(model_info)\n",
        "# compute test accuracy\n",
        "print (\"Accuracy on test data is: %0.2f\"%accuracy(test_features, test_labels, model))"
      ],
      "execution_count": 0,
      "outputs": [
        {
          "output_type": "stream",
          "text": [
            "/usr/local/lib/python3.6/dist-packages/ipykernel_launcher.py:7: UserWarning: The semantics of the Keras 2 argument `steps_per_epoch` is not the same as the Keras 1 argument `samples_per_epoch`. `steps_per_epoch` is the number of batches to draw from the generator at each epoch. Basically steps_per_epoch = samples_per_epoch/batch_size. Similarly `nb_val_samples`->`validation_steps` and `val_samples`->`steps` arguments have changed. Update your method calls accordingly.\n",
            "  import sys\n",
            "/usr/local/lib/python3.6/dist-packages/ipykernel_launcher.py:7: UserWarning: Update your `fit_generator` call to the Keras 2 API: `fit_generator(<keras_pre..., initial_epoch=20, callbacks=[<keras.ca..., validation_data=(array([[[..., verbose=1, steps_per_epoch=390, epochs=50)`\n",
            "  import sys\n"
          ],
          "name": "stderr"
        },
        {
          "output_type": "stream",
          "text": [
            "Epoch 21/50\n",
            "\n",
            "Epoch 00021: LearningRateScheduler setting learning rate to 0.0005947955.\n",
            "390/390 [==============================] - 86s 220ms/step - loss: 0.3765 - acc: 0.8712 - val_loss: 0.6502 - val_acc: 0.8072\n",
            "\n",
            "Epoch 00021: val_acc improved from 0.80030 to 0.80720, saving model to weights_a3_4.best.hdf5\n",
            "Epoch 22/50\n",
            "\n",
            "Epoch 00022: LearningRateScheduler setting learning rate to 0.0005715306.\n",
            "390/390 [==============================] - 86s 221ms/step - loss: 0.3433 - acc: 0.8811 - val_loss: 0.7335 - val_acc: 0.7933\n",
            "\n",
            "Epoch 00022: val_acc did not improve from 0.80720\n",
            "Epoch 23/50\n",
            "\n",
            "Epoch 00023: LearningRateScheduler setting learning rate to 0.0005500172.\n",
            "390/390 [==============================] - 86s 221ms/step - loss: 0.3257 - acc: 0.8872 - val_loss: 0.6822 - val_acc: 0.8088\n",
            "\n",
            "Epoch 00023: val_acc improved from 0.80720 to 0.80880, saving model to weights_a3_4.best.hdf5\n",
            "Epoch 24/50\n",
            "\n",
            "Epoch 00024: LearningRateScheduler setting learning rate to 0.0005300646.\n",
            "390/390 [==============================] - 86s 220ms/step - loss: 0.3126 - acc: 0.8927 - val_loss: 0.6565 - val_acc: 0.8117\n",
            "\n",
            "Epoch 00024: val_acc improved from 0.80880 to 0.81170, saving model to weights_a3_4.best.hdf5\n",
            "Epoch 25/50\n",
            "\n",
            "Epoch 00025: LearningRateScheduler setting learning rate to 0.000511509.\n",
            "390/390 [==============================] - 86s 220ms/step - loss: 0.2930 - acc: 0.8985 - val_loss: 0.6857 - val_acc: 0.8087\n",
            "\n",
            "Epoch 00025: val_acc did not improve from 0.81170\n",
            "Epoch 26/50\n",
            "\n",
            "Epoch 00026: LearningRateScheduler setting learning rate to 0.0004942085.\n",
            "390/390 [==============================] - 86s 220ms/step - loss: 0.2861 - acc: 0.9017 - val_loss: 0.6951 - val_acc: 0.8097\n",
            "\n",
            "Epoch 00026: val_acc did not improve from 0.81170\n",
            "Epoch 27/50\n",
            "\n",
            "Epoch 00027: LearningRateScheduler setting learning rate to 0.00047804.\n",
            "390/390 [==============================] - 86s 220ms/step - loss: 0.2662 - acc: 0.9094 - val_loss: 0.7359 - val_acc: 0.8084\n",
            "\n",
            "Epoch 00027: val_acc did not improve from 0.81170\n",
            "Epoch 28/50\n",
            "\n",
            "Epoch 00028: LearningRateScheduler setting learning rate to 0.000462896.\n",
            "390/390 [==============================] - 86s 220ms/step - loss: 0.2574 - acc: 0.9105 - val_loss: 0.7022 - val_acc: 0.8087\n",
            "\n",
            "Epoch 00028: val_acc did not improve from 0.81170\n",
            "Epoch 29/50\n",
            "\n",
            "Epoch 00029: LearningRateScheduler setting learning rate to 0.000448682.\n",
            "390/390 [==============================] - 86s 220ms/step - loss: 0.2452 - acc: 0.9156 - val_loss: 0.7407 - val_acc: 0.8115\n",
            "\n",
            "Epoch 00029: val_acc did not improve from 0.81170\n",
            "Epoch 30/50\n",
            "\n",
            "Epoch 00030: LearningRateScheduler setting learning rate to 0.0004353149.\n",
            "390/390 [==============================] - 86s 220ms/step - loss: 0.2363 - acc: 0.9181 - val_loss: 0.6891 - val_acc: 0.8149\n",
            "\n",
            "Epoch 00030: val_acc improved from 0.81170 to 0.81490, saving model to weights_a3_4.best.hdf5\n",
            "Epoch 31/50\n",
            "\n",
            "Epoch 00031: LearningRateScheduler setting learning rate to 0.0004227213.\n",
            "390/390 [==============================] - 86s 220ms/step - loss: 0.2301 - acc: 0.9206 - val_loss: 0.7216 - val_acc: 0.8105\n",
            "\n",
            "Epoch 00031: val_acc did not improve from 0.81490\n",
            "Epoch 32/50\n",
            "\n",
            "Epoch 00032: LearningRateScheduler setting learning rate to 0.0004108358.\n",
            "390/390 [==============================] - 86s 220ms/step - loss: 0.2144 - acc: 0.9261 - val_loss: 0.7126 - val_acc: 0.8150\n",
            "\n",
            "Epoch 00032: val_acc improved from 0.81490 to 0.81500, saving model to weights_a3_4.best.hdf5\n",
            "Epoch 33/50\n",
            "\n",
            "Epoch 00033: LearningRateScheduler setting learning rate to 0.0003996004.\n",
            "390/390 [==============================] - 86s 220ms/step - loss: 0.2118 - acc: 0.9273 - val_loss: 0.7959 - val_acc: 0.8080\n",
            "\n",
            "Epoch 00033: val_acc did not improve from 0.81500\n",
            "Epoch 34/50\n",
            "\n",
            "Epoch 00034: LearningRateScheduler setting learning rate to 0.0003889632.\n",
            "390/390 [==============================] - 86s 220ms/step - loss: 0.2035 - acc: 0.9293 - val_loss: 0.7030 - val_acc: 0.8217\n",
            "\n",
            "Epoch 00034: val_acc improved from 0.81500 to 0.82170, saving model to weights_a3_4.best.hdf5\n",
            "Epoch 35/50\n",
            "\n",
            "Epoch 00035: LearningRateScheduler setting learning rate to 0.0003788776.\n",
            "390/390 [==============================] - 86s 220ms/step - loss: 0.1964 - acc: 0.9328 - val_loss: 0.7849 - val_acc: 0.8134\n",
            "\n",
            "Epoch 00035: val_acc did not improve from 0.82170\n",
            "Epoch 36/50\n",
            "\n",
            "Epoch 00036: LearningRateScheduler setting learning rate to 0.0003693018.\n",
            "390/390 [==============================] - 86s 220ms/step - loss: 0.1927 - acc: 0.9342 - val_loss: 0.7585 - val_acc: 0.8113\n",
            "\n",
            "Epoch 00036: val_acc did not improve from 0.82170\n",
            "Epoch 37/50\n",
            "\n",
            "Epoch 00037: LearningRateScheduler setting learning rate to 0.0003601981.\n",
            "390/390 [==============================] - 86s 219ms/step - loss: 0.1834 - acc: 0.9374 - val_loss: 0.7559 - val_acc: 0.8199\n",
            "\n",
            "Epoch 00037: val_acc did not improve from 0.82170\n",
            "Epoch 38/50\n",
            "\n",
            "Epoch 00038: LearningRateScheduler setting learning rate to 0.0003515325.\n",
            "390/390 [==============================] - 86s 220ms/step - loss: 0.1798 - acc: 0.9374 - val_loss: 0.7670 - val_acc: 0.8159\n",
            "\n",
            "Epoch 00038: val_acc did not improve from 0.82170\n",
            "Epoch 39/50\n",
            "\n",
            "Epoch 00039: LearningRateScheduler setting learning rate to 0.000343274.\n",
            "390/390 [==============================] - 86s 220ms/step - loss: 0.1719 - acc: 0.9408 - val_loss: 0.7451 - val_acc: 0.8206\n",
            "\n",
            "Epoch 00039: val_acc did not improve from 0.82170\n",
            "Epoch 40/50\n",
            "\n",
            "Epoch 00040: LearningRateScheduler setting learning rate to 0.0003353946.\n",
            "390/390 [==============================] - 86s 222ms/step - loss: 0.1664 - acc: 0.9421 - val_loss: 0.7379 - val_acc: 0.8218\n",
            "\n",
            "Epoch 00040: val_acc improved from 0.82170 to 0.82180, saving model to weights_a3_4.best.hdf5\n",
            "Epoch 41/50\n",
            "\n",
            "Epoch 00041: LearningRateScheduler setting learning rate to 0.0003278689.\n",
            "390/390 [==============================] - 87s 222ms/step - loss: 0.1591 - acc: 0.9443 - val_loss: 0.7436 - val_acc: 0.8230\n",
            "\n",
            "Epoch 00041: val_acc improved from 0.82180 to 0.82300, saving model to weights_a3_4.best.hdf5\n",
            "Epoch 42/50\n",
            "\n",
            "Epoch 00042: LearningRateScheduler setting learning rate to 0.0003206734.\n",
            "390/390 [==============================] - 86s 220ms/step - loss: 0.1561 - acc: 0.9464 - val_loss: 0.7210 - val_acc: 0.8280\n",
            "\n",
            "Epoch 00042: val_acc improved from 0.82300 to 0.82800, saving model to weights_a3_4.best.hdf5\n",
            "Epoch 43/50\n",
            "\n",
            "Epoch 00043: LearningRateScheduler setting learning rate to 0.000313787.\n",
            "390/390 [==============================] - 86s 220ms/step - loss: 0.1518 - acc: 0.9483 - val_loss: 0.8226 - val_acc: 0.8156\n",
            "\n",
            "Epoch 00043: val_acc did not improve from 0.82800\n",
            "Epoch 44/50\n",
            "\n",
            "Epoch 00044: LearningRateScheduler setting learning rate to 0.0003071902.\n",
            "390/390 [==============================] - 86s 219ms/step - loss: 0.1541 - acc: 0.9484 - val_loss: 0.8028 - val_acc: 0.8148\n",
            "\n",
            "Epoch 00044: val_acc did not improve from 0.82800\n",
            "Epoch 45/50\n",
            "\n",
            "Epoch 00045: LearningRateScheduler setting learning rate to 0.000300865.\n",
            "390/390 [==============================] - 86s 220ms/step - loss: 0.1459 - acc: 0.9494 - val_loss: 0.7754 - val_acc: 0.8198\n",
            "\n",
            "Epoch 00045: val_acc did not improve from 0.82800\n",
            "Epoch 46/50\n",
            "\n",
            "Epoch 00046: LearningRateScheduler setting learning rate to 0.000294795.\n",
            "390/390 [==============================] - 86s 220ms/step - loss: 0.1390 - acc: 0.9513 - val_loss: 0.8036 - val_acc: 0.8194\n",
            "\n",
            "Epoch 00046: val_acc did not improve from 0.82800\n",
            "Epoch 47/50\n",
            "\n",
            "Epoch 00047: LearningRateScheduler setting learning rate to 0.0002889651.\n",
            "390/390 [==============================] - 86s 220ms/step - loss: 0.1368 - acc: 0.9523 - val_loss: 0.7847 - val_acc: 0.8243\n",
            "\n",
            "Epoch 00047: val_acc did not improve from 0.82800\n",
            "Epoch 48/50\n",
            "\n",
            "Epoch 00048: LearningRateScheduler setting learning rate to 0.0002833614.\n",
            "390/390 [==============================] - 86s 220ms/step - loss: 0.1295 - acc: 0.9558 - val_loss: 0.8804 - val_acc: 0.8104\n",
            "\n",
            "Epoch 00048: val_acc did not improve from 0.82800\n",
            "Epoch 49/50\n",
            "\n",
            "Epoch 00049: LearningRateScheduler setting learning rate to 0.0002779708.\n",
            "390/390 [==============================] - 86s 220ms/step - loss: 0.1270 - acc: 0.9560 - val_loss: 0.7909 - val_acc: 0.8243\n",
            "\n",
            "Epoch 00049: val_acc did not improve from 0.82800\n",
            "Epoch 50/50\n",
            "\n",
            "Epoch 00050: LearningRateScheduler setting learning rate to 0.0002727815.\n",
            "390/390 [==============================] - 86s 220ms/step - loss: 0.1246 - acc: 0.9582 - val_loss: 0.8705 - val_acc: 0.8179\n",
            "\n",
            "Epoch 00050: val_acc did not improve from 0.82800\n",
            "Model took 2576.18 seconds to train\n"
          ],
          "name": "stdout"
        },
        {
          "output_type": "display_data",
          "data": {
            "image/png": "[encoded data removed]",
            "text/plain": [
              "<Figure size 1080x360 with 2 Axes>"
            ]
          },
          "metadata": {
            "tags": []
          }
        },
        {
          "output_type": "stream",
          "text": [
            "Accuracy on test data is: 81.79\n"
          ],
          "name": "stdout"
        }
      ]
    },
    {
      "cell_type": "code",
      "metadata": {
        "id": "nH_RD-C-YmNF",
        "colab_type": "code",
        "outputId": "222e12c5-3849-4a0b-98a9-6c309e08babd",
        "colab": {
          "base_uri": "https://localhost:8080/",
          "height": 35
        }
      },
      "source": [
        "model.load_weights('weights_a3_4.best.hdf5')\n",
        "print (\"Accuracy on test data is: %0.2f\"%accuracy(test_features, test_labels, model))"
      ],
      "execution_count": 0,
      "outputs": [
        {
          "output_type": "stream",
          "text": [
            "Accuracy on test data is: 82.80\n"
          ],
          "name": "stdout"
        }
      ]
    },
    {
      "cell_type": "code",
      "metadata": {
        "id": "j0qB7Us2YsuO",
        "colab_type": "code",
        "colab": {}
      },
      "source": [
        "from keras.preprocessing.image import ImageDataGenerator\n",
        "\n",
        "# datagen = ImageDataGenerator(zoom_range=0.0,rotation_range=15, width_shift_range=0.1,height_shift_range=0.1,\n",
        "#                              horizontal_flip=True,\n",
        "#                              vertical_flip=False)\n",
        "\n",
        "datagen = ImageDataGenerator(zoom_range=0.3,rotation_range=10,width_shift_range=0.2,height_shift_range=0.2, \n",
        "                             horizontal_flip=True,\n",
        "                             vertical_flip=False)"
      ],
      "execution_count": 0,
      "outputs": []
    },
    {
      "cell_type": "code",
      "metadata": {
        "id": "6LM7oLG9Y1MA",
        "colab_type": "code",
        "outputId": "610076aa-f028-4d3c-fe7b-d318daf13bc1",
        "colab": {
          "base_uri": "https://localhost:8080/",
          "height": 1000
        }
      },
      "source": [
        "# train the model\n",
        "start = time.time()\n",
        "# Train the model\n",
        "model_info = model.fit_generator(datagen.flow(train_features, train_labels, batch_size = 128),\n",
        "                                 samples_per_epoch = train_features.shape[0], initial_epoch = 50, nb_epoch = 60,\n",
        "                                 callbacks=[checkpoint,LearningRateScheduler(scheduler, verbose=1)],\n",
        "                                #  callbacks=[checkpoint, LearningRateScheduler(scheduler, verbose=1)], \n",
        "                                 validation_data = (test_features, test_labels), verbose=1)\n",
        "end = time.time()\n",
        "print (\"Model took %0.2f seconds to train\"%(end - start))\n",
        "# plot model history\n",
        "plot_model_history(model_info)\n",
        "# compute test accuracy\n",
        "print (\"Accuracy on test data is: %0.2f\"%accuracy(test_features, test_labels, model))"
      ],
      "execution_count": 0,
      "outputs": [
        {
          "output_type": "stream",
          "text": [
            "/usr/local/lib/python3.6/dist-packages/ipykernel_launcher.py:7: UserWarning: The semantics of the Keras 2 argument `steps_per_epoch` is not the same as the Keras 1 argument `samples_per_epoch`. `steps_per_epoch` is the number of batches to draw from the generator at each epoch. Basically steps_per_epoch = samples_per_epoch/batch_size. Similarly `nb_val_samples`->`validation_steps` and `val_samples`->`steps` arguments have changed. Update your method calls accordingly.\n",
            "  import sys\n",
            "/usr/local/lib/python3.6/dist-packages/ipykernel_launcher.py:7: UserWarning: Update your `fit_generator` call to the Keras 2 API: `fit_generator(<keras_pre..., initial_epoch=50, callbacks=[<keras.ca..., validation_data=(array([[[..., verbose=1, steps_per_epoch=390, epochs=60)`\n",
            "  import sys\n"
          ],
          "name": "stderr"
        },
        {
          "output_type": "stream",
          "text": [
            "Epoch 51/60\n",
            "\n",
            "Epoch 00051: LearningRateScheduler setting learning rate to 0.0002677824.\n",
            "390/390 [==============================] - 86s 220ms/step - loss: 0.6858 - acc: 0.7710 - val_loss: 0.5582 - val_acc: 0.8187\n",
            "\n",
            "Epoch 00051: val_acc did not improve from 0.82800\n",
            "Epoch 52/60\n",
            "\n",
            "Epoch 00052: LearningRateScheduler setting learning rate to 0.0002629633.\n",
            "390/390 [==============================] - 86s 219ms/step - loss: 0.6413 - acc: 0.7813 - val_loss: 0.6129 - val_acc: 0.8051\n",
            "\n",
            "Epoch 00052: val_acc did not improve from 0.82800\n",
            "Epoch 53/60\n",
            "\n",
            "Epoch 00053: LearningRateScheduler setting learning rate to 0.0002583145.\n",
            "390/390 [==============================] - 86s 220ms/step - loss: 0.6261 - acc: 0.7869 - val_loss: 0.5152 - val_acc: 0.8312\n",
            "\n",
            "Epoch 00053: val_acc improved from 0.82800 to 0.83120, saving model to weights_a3_4.best.hdf5\n",
            "Epoch 54/60\n",
            "\n",
            "Epoch 00054: LearningRateScheduler setting learning rate to 0.0002538272.\n",
            "390/390 [==============================] - 86s 219ms/step - loss: 0.6055 - acc: 0.7959 - val_loss: 0.5549 - val_acc: 0.8197\n",
            "\n",
            "Epoch 00054: val_acc did not improve from 0.83120\n",
            "Epoch 55/60\n",
            "\n",
            "Epoch 00055: LearningRateScheduler setting learning rate to 0.0002494932.\n",
            "390/390 [==============================] - 86s 220ms/step - loss: 0.5946 - acc: 0.7980 - val_loss: 0.5747 - val_acc: 0.8150\n",
            "\n",
            "Epoch 00055: val_acc did not improve from 0.83120\n",
            "Epoch 56/60\n",
            "\n",
            "Epoch 00056: LearningRateScheduler setting learning rate to 0.0002453047.\n",
            "390/390 [==============================] - 86s 219ms/step - loss: 0.5836 - acc: 0.8026 - val_loss: 0.5447 - val_acc: 0.8225\n",
            "\n",
            "Epoch 00056: val_acc did not improve from 0.83120\n",
            "Epoch 57/60\n",
            "\n",
            "Epoch 00057: LearningRateScheduler setting learning rate to 0.0002412545.\n",
            "390/390 [==============================] - 86s 220ms/step - loss: 0.5704 - acc: 0.8065 - val_loss: 0.5427 - val_acc: 0.8213\n",
            "\n",
            "Epoch 00057: val_acc did not improve from 0.83120\n",
            "Epoch 58/60\n",
            "\n",
            "Epoch 00058: LearningRateScheduler setting learning rate to 0.0002373359.\n",
            "390/390 [==============================] - 86s 222ms/step - loss: 0.5701 - acc: 0.8060 - val_loss: 0.5433 - val_acc: 0.8240\n",
            "\n",
            "Epoch 00058: val_acc did not improve from 0.83120\n",
            "Epoch 59/60\n",
            "\n",
            "Epoch 00059: LearningRateScheduler setting learning rate to 0.0002335425.\n",
            "390/390 [==============================] - 86s 222ms/step - loss: 0.5557 - acc: 0.8126 - val_loss: 0.5382 - val_acc: 0.8269\n",
            "\n",
            "Epoch 00059: val_acc did not improve from 0.83120\n",
            "Epoch 60/60\n",
            "\n",
            "Epoch 00060: LearningRateScheduler setting learning rate to 0.0002298685.\n",
            "390/390 [==============================] - 86s 220ms/step - loss: 0.5525 - acc: 0.8119 - val_loss: 0.5136 - val_acc: 0.8279\n",
            "\n",
            "Epoch 00060: val_acc did not improve from 0.83120\n",
            "Model took 858.45 seconds to train\n"
          ],
          "name": "stdout"
        },
        {
          "output_type": "display_data",
          "data": {
            "image/png": "[encoded data removed]",
            "text/plain": [
              "<Figure size 1080x360 with 2 Axes>"
            ]
          },
          "metadata": {
            "tags": []
          }
        },
        {
          "output_type": "stream",
          "text": [
            "Accuracy on test data is: 82.79\n"
          ],
          "name": "stdout"
        }
      ]
    },
    {
      "cell_type": "code",
      "metadata": {
        "id": "-2qZK07Wc8s-",
        "colab_type": "code",
        "outputId": "86910c47-6ea4-4a19-b822-a8935f3795f3",
        "colab": {
          "base_uri": "https://localhost:8080/",
          "height": 341
        }
      },
      "source": [
        "model.load_weights('weights_a3_4.best.hdf5')\n",
        "print (\"Accuracy on test data is: %0.2f\"%accuracy(test_features, test_labels, model))"
      ],
      "execution_count": 0,
      "outputs": [
        {
          "output_type": "error",
          "ename": "ValueError",
          "evalue": "ignored",
          "traceback": [
            "\u001b[0;31m---------------------------------------------------------------------------\u001b[0m",
            "\u001b[0;31mValueError\u001b[0m                                Traceback (most recent call last)",
            "\u001b[0;32m<ipython-input-150-9a59fb0c0db7>\u001b[0m in \u001b[0;36m<module>\u001b[0;34m()\u001b[0m\n\u001b[0;32m----> 1\u001b[0;31m \u001b[0mmodel\u001b[0m\u001b[0;34m.\u001b[0m\u001b[0mload_weights\u001b[0m\u001b[0;34m(\u001b[0m\u001b[0;34m'weights_a3_4.best.hdf5'\u001b[0m\u001b[0;34m)\u001b[0m\u001b[0;34m\u001b[0m\u001b[0;34m\u001b[0m\u001b[0m\n\u001b[0m\u001b[1;32m      2\u001b[0m \u001b[0mprint\u001b[0m \u001b[0;34m(\u001b[0m\u001b[0;34m\"Accuracy on test data is: %0.2f\"\u001b[0m\u001b[0;34m%\u001b[0m\u001b[0maccuracy\u001b[0m\u001b[0;34m(\u001b[0m\u001b[0mtest_features\u001b[0m\u001b[0;34m,\u001b[0m \u001b[0mtest_labels\u001b[0m\u001b[0;34m,\u001b[0m \u001b[0mmodel\u001b[0m\u001b[0;34m)\u001b[0m\u001b[0;34m)\u001b[0m\u001b[0;34m\u001b[0m\u001b[0;34m\u001b[0m\u001b[0m\n",
            "\u001b[0;32m/usr/local/lib/python3.6/dist-packages/keras/engine/saving.py\u001b[0m in \u001b[0;36mload_wrapper\u001b[0;34m(*args, **kwargs)\u001b[0m\n\u001b[1;32m    456\u001b[0m                 \u001b[0mos\u001b[0m\u001b[0;34m.\u001b[0m\u001b[0mremove\u001b[0m\u001b[0;34m(\u001b[0m\u001b[0mtmp_filepath\u001b[0m\u001b[0;34m)\u001b[0m\u001b[0;34m\u001b[0m\u001b[0;34m\u001b[0m\u001b[0m\n\u001b[1;32m    457\u001b[0m             \u001b[0;32mreturn\u001b[0m \u001b[0mres\u001b[0m\u001b[0;34m\u001b[0m\u001b[0;34m\u001b[0m\u001b[0m\n\u001b[0;32m--> 458\u001b[0;31m         \u001b[0;32mreturn\u001b[0m \u001b[0mload_function\u001b[0m\u001b[0;34m(\u001b[0m\u001b[0;34m*\u001b[0m\u001b[0margs\u001b[0m\u001b[0;34m,\u001b[0m \u001b[0;34m**\u001b[0m\u001b[0mkwargs\u001b[0m\u001b[0;34m)\u001b[0m\u001b[0;34m\u001b[0m\u001b[0;34m\u001b[0m\u001b[0m\n\u001b[0m\u001b[1;32m    459\u001b[0m \u001b[0;34m\u001b[0m\u001b[0m\n\u001b[1;32m    460\u001b[0m     \u001b[0;32mreturn\u001b[0m \u001b[0mload_wrapper\u001b[0m\u001b[0;34m\u001b[0m\u001b[0;34m\u001b[0m\u001b[0m\n",
            "\u001b[0;32m/usr/local/lib/python3.6/dist-packages/keras/engine/network.py\u001b[0m in \u001b[0;36mload_weights\u001b[0;34m(self, filepath, by_name, skip_mismatch, reshape)\u001b[0m\n\u001b[1;32m   1215\u001b[0m             \u001b[0;32melse\u001b[0m\u001b[0;34m:\u001b[0m\u001b[0;34m\u001b[0m\u001b[0;34m\u001b[0m\u001b[0m\n\u001b[1;32m   1216\u001b[0m                 saving.load_weights_from_hdf5_group(\n\u001b[0;32m-> 1217\u001b[0;31m                     f, self.layers, reshape=reshape)\n\u001b[0m\u001b[1;32m   1218\u001b[0m             \u001b[0;32mif\u001b[0m \u001b[0mhasattr\u001b[0m\u001b[0;34m(\u001b[0m\u001b[0mf\u001b[0m\u001b[0;34m,\u001b[0m \u001b[0;34m'close'\u001b[0m\u001b[0;34m)\u001b[0m\u001b[0;34m:\u001b[0m\u001b[0;34m\u001b[0m\u001b[0;34m\u001b[0m\u001b[0m\n\u001b[1;32m   1219\u001b[0m                 \u001b[0mf\u001b[0m\u001b[0;34m.\u001b[0m\u001b[0mclose\u001b[0m\u001b[0;34m(\u001b[0m\u001b[0;34m)\u001b[0m\u001b[0;34m\u001b[0m\u001b[0;34m\u001b[0m\u001b[0m\n",
            "\u001b[0;32m/usr/local/lib/python3.6/dist-packages/keras/engine/saving.py\u001b[0m in \u001b[0;36mload_weights_from_hdf5_group\u001b[0;34m(f, layers, reshape)\u001b[0m\n\u001b[1;32m   1169\u001b[0m                          \u001b[0;34m'containing '\u001b[0m \u001b[0;34m+\u001b[0m \u001b[0mstr\u001b[0m\u001b[0;34m(\u001b[0m\u001b[0mlen\u001b[0m\u001b[0;34m(\u001b[0m\u001b[0mlayer_names\u001b[0m\u001b[0;34m)\u001b[0m\u001b[0;34m)\u001b[0m \u001b[0;34m+\u001b[0m\u001b[0;34m\u001b[0m\u001b[0;34m\u001b[0m\u001b[0m\n\u001b[1;32m   1170\u001b[0m                          \u001b[0;34m' layers into a model with '\u001b[0m \u001b[0;34m+\u001b[0m\u001b[0;34m\u001b[0m\u001b[0;34m\u001b[0m\u001b[0m\n\u001b[0;32m-> 1171\u001b[0;31m                          str(len(filtered_layers)) + ' layers.')\n\u001b[0m\u001b[1;32m   1172\u001b[0m \u001b[0;34m\u001b[0m\u001b[0m\n\u001b[1;32m   1173\u001b[0m     \u001b[0;31m# We batch weight value assignments in a single backend call\u001b[0m\u001b[0;34m\u001b[0m\u001b[0;34m\u001b[0m\u001b[0;34m\u001b[0m\u001b[0m\n",
            "\u001b[0;31mValueError\u001b[0m: You are trying to load a weight file containing 18 layers into a model with 9 layers."
          ]
        }
      ]
    },
    {
      "cell_type": "code",
      "metadata": {
        "id": "r6ImMXYdp-Wn",
        "colab_type": "code",
        "colab": {}
      },
      "source": [
        ""
      ],
      "execution_count": 0,
      "outputs": []
    },
    {
      "cell_type": "markdown",
      "metadata": {
        "colab_type": "text",
        "id": "8raIm9uFp-rY"
      },
      "source": [
        "### Network Approach: 5"
      ]
    },
    {
      "cell_type": "markdown",
      "metadata": {
        "colab_type": "text",
        "id": "14svAkVcp-rf"
      },
      "source": [
        "**Further Finetune Strategy Used**:\n",
        "- Removed Flatten\n",
        "- Added a new depthwise separable convulution layer of 10 filter to reduce numbert of channel\n",
        "    model.add(SeparableConv2D(filters=10, kernel_size=(3, 3), dilation_rate=(2, 2),border_mode='same'))\n",
        "- Increased number of channels before last convolution layer to compensate dense layer\n",
        "    model.add(SeparableConv2D(filters=384*2*2, kernel_size=(3, 3), dilation_rate=(3, 3),border_mode='same'))\n",
        "- Have GlobalAveragePooling2D which will now output 10 channel\n"
      ]
    },
    {
      "cell_type": "code",
      "metadata": {
        "colab_type": "code",
        "outputId": "236e86e8-dc86-48b3-8bdb-5c72fdf6b23e",
        "id": "heLaWiKRp-rl",
        "colab": {
          "base_uri": "https://localhost:8080/",
          "height": 783
        }
      },
      "source": [
        "# Define the model\n",
        "model = Sequential()\n",
        "model.add(SeparableConv2D(filters=24*2*2, kernel_size=(3, 3), dilation_rate=(3, 3), input_shape=(32, 32, 3),border_mode='same'))\n",
        "model.add(BatchNormalization())\n",
        "model.add(Activation('relu'))\n",
        "## Output : (None, 32, 32, 96) \n",
        "## RF 7\n",
        "\n",
        "model.add(SeparableConv2D(filters=48*2*2, kernel_size=(3, 3),dilation_rate=(3, 3)))\n",
        "model.add(BatchNormalization())\n",
        "model.add(Activation('relu'))\n",
        "## Output : (None, 26, 26, 192) \n",
        "## RF 13\n",
        "\n",
        "# model.add(MaxPooling2D(pool_size=(2, 2)))\n",
        "# model.add(Dropout(0.25))\n",
        "\n",
        "model.add(SeparableConv2D(filters=96*2*2, kernel_size=(3, 3), dilation_rate=(2, 2),border_mode='valid'))\n",
        "model.add(BatchNormalization())\n",
        "model.add(Activation('relu'))\n",
        "## Output : (None, 22, 22, 384) \n",
        "## RF 19\n",
        "\n",
        "\n",
        "model.add(SeparableConv2D(filters=192*2*2, kernel_size=(3, 3),dilation_rate=(2, 2)))\n",
        "model.add(BatchNormalization())\n",
        "model.add(Activation('relu'))\n",
        "## Output :  (None, 18, 18, 768)\n",
        "## RF 23\n",
        "\n",
        "\n",
        "# model.add(MaxPooling2D(pool_size=(2, 2)))\n",
        "model.add(Dropout(0.25))\n",
        "\n",
        "model.add(SeparableConv2D(filters=384*2*2, kernel_size=(3, 3), dilation_rate=(2, 2),border_mode='valid'))\n",
        "model.add(BatchNormalization())\n",
        "model.add(Activation('relu'))\n",
        "## Output :  (None, 14, 14, 768)\n",
        "## RF 23\n",
        "\n",
        "model.add(MaxPooling2D(pool_size=(2, 2)))\n",
        "## Output :  (None, 7, 7, 768)\n",
        "## RF 46\n",
        "\n",
        "\n",
        "model.add(SeparableConv2D(filters=48*2*2, kernel_size=(3, 3), dilation_rate=(3, 3),border_mode='same'))\n",
        "model.add(BatchNormalization())\n",
        "model.add(Activation('relu'))\n",
        "model.add(Dropout(0.25))\n",
        "## Output :  (None, 7, 7, 768)\n",
        "## RF 54\n",
        "\n",
        "model.add(SeparableConv2D(filters=96*2*2, kernel_size=(3, 3), dilation_rate=(3, 3),border_mode='same'))\n",
        "model.add(BatchNormalization())\n",
        "model.add(Activation('relu'))\n",
        "## Output :  (None, 7, 7, 384)\n",
        "## RF 60\n",
        "\n",
        "model.add(SeparableConv2D(filters=192*2*2, kernel_size=(3, 3), dilation_rate=(3, 3),border_mode='same'))\n",
        "model.add(BatchNormalization())\n",
        "model.add(Activation('relu'))\n",
        "## Output :  (None, 7, 7, 768)\n",
        "## RF 66\n",
        "\n",
        "model.add(SeparableConv2D(filters=384*2*2, kernel_size=(3, 3), dilation_rate=(3, 3),border_mode='same'))\n",
        "model.add(BatchNormalization())\n",
        "## Output :  (None, 7, 7, 1692)\n",
        "## RF 72\n",
        "\n",
        "# model.add(MaxPooling2D(pool_size=(2, 2)))\n",
        "model.add(Dropout(0.35))\n",
        "\n",
        "model.add(SeparableConv2D(filters=10, kernel_size=(3, 3), dilation_rate=(2, 2),border_mode='same'))\n",
        "model.add(BatchNormalization())\n",
        "\n",
        "# model.add(SeparableConv2D(filters=96*2, kernel_size=(1, 1), dilation_rate=(2, 2),border_mode='same'))\n",
        "# model.add(BatchNormalization())\n",
        "\n",
        "# model.add(Flatten())\n",
        "\n",
        "model.add(GlobalAveragePooling2D())\n",
        "\n",
        "# model.add(Dense(512))\n",
        "# model.add(Activation('relu'))\n",
        "# model.add(Dropout(0.35))\n",
        "\n",
        "# model.add(Dense(128))\n",
        "# model.add(Activation('relu'))\n",
        "# model.add(Dropout(0.2))\n",
        "\n",
        "model.add(Dense(num_classes, activation='softmax'))\n",
        "# Compile the model\n",
        "model.compile(optimizer='adam',loss='categorical_crossentropy', metrics=['accuracy'])\n",
        "# Compile the model\n",
        "# model.compile(optimizer=Adam(lr=0.001,decay=0, beta_1=0.9, beta_2=0.999, epsilon=1e-08),loss='categorical_crossentropy', metrics=['accuracy'])\n"
      ],
      "execution_count": 0,
      "outputs": [
        {
          "output_type": "stream",
          "text": [
            "WARNING:tensorflow:From /usr/local/lib/python3.6/dist-packages/keras/backend/tensorflow_backend.py:66: The name tf.get_default_graph is deprecated. Please use tf.compat.v1.get_default_graph instead.\n",
            "\n",
            "WARNING:tensorflow:From /usr/local/lib/python3.6/dist-packages/keras/backend/tensorflow_backend.py:541: The name tf.placeholder is deprecated. Please use tf.compat.v1.placeholder instead.\n",
            "\n",
            "WARNING:tensorflow:From /usr/local/lib/python3.6/dist-packages/keras/backend/tensorflow_backend.py:4432: The name tf.random_uniform is deprecated. Please use tf.random.uniform instead.\n",
            "\n",
            "WARNING:tensorflow:From /usr/local/lib/python3.6/dist-packages/keras/backend/tensorflow_backend.py:190: The name tf.get_default_session is deprecated. Please use tf.compat.v1.get_default_session instead.\n",
            "\n",
            "WARNING:tensorflow:From /usr/local/lib/python3.6/dist-packages/keras/backend/tensorflow_backend.py:197: The name tf.ConfigProto is deprecated. Please use tf.compat.v1.ConfigProto instead.\n",
            "\n",
            "WARNING:tensorflow:From /usr/local/lib/python3.6/dist-packages/keras/backend/tensorflow_backend.py:203: The name tf.Session is deprecated. Please use tf.compat.v1.Session instead.\n",
            "\n"
          ],
          "name": "stdout"
        },
        {
          "output_type": "stream",
          "text": [
            "/usr/local/lib/python3.6/dist-packages/ipykernel_launcher.py:2: UserWarning: Update your `SeparableConv2D` call to the Keras 2 API: `SeparableConv2D(filters=96, kernel_size=(3, 3), dilation_rate=(3, 3), input_shape=(32, 32, 3..., padding=\"same\")`\n",
            "  \n"
          ],
          "name": "stderr"
        },
        {
          "output_type": "stream",
          "text": [
            "WARNING:tensorflow:From /usr/local/lib/python3.6/dist-packages/keras/backend/tensorflow_backend.py:207: The name tf.global_variables is deprecated. Please use tf.compat.v1.global_variables instead.\n",
            "\n",
            "WARNING:tensorflow:From /usr/local/lib/python3.6/dist-packages/keras/backend/tensorflow_backend.py:216: The name tf.is_variable_initialized is deprecated. Please use tf.compat.v1.is_variable_initialized instead.\n",
            "\n",
            "WARNING:tensorflow:From /usr/local/lib/python3.6/dist-packages/keras/backend/tensorflow_backend.py:223: The name tf.variables_initializer is deprecated. Please use tf.compat.v1.variables_initializer instead.\n",
            "\n",
            "WARNING:tensorflow:From /usr/local/lib/python3.6/dist-packages/keras/backend/tensorflow_backend.py:2041: The name tf.nn.fused_batch_norm is deprecated. Please use tf.compat.v1.nn.fused_batch_norm instead.\n",
            "\n",
            "WARNING:tensorflow:From /usr/local/lib/python3.6/dist-packages/keras/backend/tensorflow_backend.py:148: The name tf.placeholder_with_default is deprecated. Please use tf.compat.v1.placeholder_with_default instead.\n",
            "\n"
          ],
          "name": "stdout"
        },
        {
          "output_type": "stream",
          "text": [
            "/usr/local/lib/python3.6/dist-packages/ipykernel_launcher.py:13: UserWarning: Update your `SeparableConv2D` call to the Keras 2 API: `SeparableConv2D(filters=384, kernel_size=(3, 3), dilation_rate=(2, 2), padding=\"valid\")`\n",
            "  del sys.path[0]\n"
          ],
          "name": "stderr"
        },
        {
          "output_type": "stream",
          "text": [
            "WARNING:tensorflow:From /usr/local/lib/python3.6/dist-packages/keras/backend/tensorflow_backend.py:3733: calling dropout (from tensorflow.python.ops.nn_ops) with keep_prob is deprecated and will be removed in a future version.\n",
            "Instructions for updating:\n",
            "Please use `rate` instead of `keep_prob`. Rate should be set to `rate = 1 - keep_prob`.\n",
            "WARNING:tensorflow:From /usr/local/lib/python3.6/dist-packages/keras/backend/tensorflow_backend.py:4267: The name tf.nn.max_pool is deprecated. Please use tf.nn.max_pool2d instead.\n",
            "\n"
          ],
          "name": "stdout"
        },
        {
          "output_type": "stream",
          "text": [
            "/usr/local/lib/python3.6/dist-packages/ipykernel_launcher.py:24: UserWarning: Update your `SeparableConv2D` call to the Keras 2 API: `SeparableConv2D(filters=1536, kernel_size=(3, 3), dilation_rate=(2, 2), padding=\"valid\")`\n",
            "/usr/local/lib/python3.6/dist-packages/ipykernel_launcher.py:30: UserWarning: Update your `SeparableConv2D` call to the Keras 2 API: `SeparableConv2D(filters=192, kernel_size=(3, 3), dilation_rate=(3, 3), padding=\"same\")`\n",
            "/usr/local/lib/python3.6/dist-packages/ipykernel_launcher.py:36: UserWarning: Update your `SeparableConv2D` call to the Keras 2 API: `SeparableConv2D(filters=384, kernel_size=(3, 3), dilation_rate=(3, 3), padding=\"same\")`\n",
            "/usr/local/lib/python3.6/dist-packages/ipykernel_launcher.py:40: UserWarning: Update your `SeparableConv2D` call to the Keras 2 API: `SeparableConv2D(filters=768, kernel_size=(3, 3), dilation_rate=(3, 3), padding=\"same\")`\n",
            "/usr/local/lib/python3.6/dist-packages/ipykernel_launcher.py:44: UserWarning: Update your `SeparableConv2D` call to the Keras 2 API: `SeparableConv2D(filters=1536, kernel_size=(3, 3), dilation_rate=(3, 3), padding=\"same\")`\n",
            "/usr/local/lib/python3.6/dist-packages/ipykernel_launcher.py:50: UserWarning: Update your `SeparableConv2D` call to the Keras 2 API: `SeparableConv2D(filters=10, kernel_size=(3, 3), dilation_rate=(2, 2), padding=\"same\")`\n"
          ],
          "name": "stderr"
        },
        {
          "output_type": "stream",
          "text": [
            "WARNING:tensorflow:From /usr/local/lib/python3.6/dist-packages/keras/optimizers.py:793: The name tf.train.Optimizer is deprecated. Please use tf.compat.v1.train.Optimizer instead.\n",
            "\n",
            "WARNING:tensorflow:From /usr/local/lib/python3.6/dist-packages/keras/backend/tensorflow_backend.py:3576: The name tf.log is deprecated. Please use tf.math.log instead.\n",
            "\n"
          ],
          "name": "stdout"
        }
      ]
    },
    {
      "cell_type": "code",
      "metadata": {
        "colab_type": "code",
        "outputId": "29458b57-9556-4a97-e537-f8cda9818421",
        "id": "jDbv3hP3p-r7",
        "colab": {
          "base_uri": "https://localhost:8080/",
          "height": 126
        }
      },
      "source": [
        "model.optimizer.get_config()"
      ],
      "execution_count": 0,
      "outputs": [
        {
          "output_type": "execute_result",
          "data": {
            "text/plain": [
              "{'amsgrad': False,\n",
              " 'beta_1': 0.8999999761581421,\n",
              " 'beta_2': 0.9990000128746033,\n",
              " 'decay': 0.0,\n",
              " 'epsilon': 1e-07,\n",
              " 'lr': 0.0010000000474974513}"
            ]
          },
          "metadata": {
            "tags": []
          },
          "execution_count": 88
        }
      ]
    },
    {
      "cell_type": "code",
      "metadata": {
        "colab_type": "code",
        "outputId": "4243d8f9-5a92-41f2-c920-722ffcd9836d",
        "id": "UPI4W_CUp-sI",
        "colab": {
          "base_uri": "https://localhost:8080/",
          "height": 1000
        }
      },
      "source": [
        "model.summary()"
      ],
      "execution_count": 0,
      "outputs": [
        {
          "output_type": "stream",
          "text": [
            "Model: \"sequential_1\"\n",
            "_________________________________________________________________\n",
            "Layer (type)                 Output Shape              Param #   \n",
            "=================================================================\n",
            "separable_conv2d_1 (Separabl (None, 32, 32, 96)        411       \n",
            "_________________________________________________________________\n",
            "batch_normalization_1 (Batch (None, 32, 32, 96)        384       \n",
            "_________________________________________________________________\n",
            "activation_1 (Activation)    (None, 32, 32, 96)        0         \n",
            "_________________________________________________________________\n",
            "separable_conv2d_2 (Separabl (None, 26, 26, 192)       19488     \n",
            "_________________________________________________________________\n",
            "batch_normalization_2 (Batch (None, 26, 26, 192)       768       \n",
            "_________________________________________________________________\n",
            "activation_2 (Activation)    (None, 26, 26, 192)       0         \n",
            "_________________________________________________________________\n",
            "separable_conv2d_3 (Separabl (None, 22, 22, 384)       75840     \n",
            "_________________________________________________________________\n",
            "batch_normalization_3 (Batch (None, 22, 22, 384)       1536      \n",
            "_________________________________________________________________\n",
            "activation_3 (Activation)    (None, 22, 22, 384)       0         \n",
            "_________________________________________________________________\n",
            "separable_conv2d_4 (Separabl (None, 18, 18, 768)       299136    \n",
            "_________________________________________________________________\n",
            "batch_normalization_4 (Batch (None, 18, 18, 768)       3072      \n",
            "_________________________________________________________________\n",
            "activation_4 (Activation)    (None, 18, 18, 768)       0         \n",
            "_________________________________________________________________\n",
            "dropout_1 (Dropout)          (None, 18, 18, 768)       0         \n",
            "_________________________________________________________________\n",
            "separable_conv2d_5 (Separabl (None, 14, 14, 1536)      1188096   \n",
            "_________________________________________________________________\n",
            "batch_normalization_5 (Batch (None, 14, 14, 1536)      6144      \n",
            "_________________________________________________________________\n",
            "activation_5 (Activation)    (None, 14, 14, 1536)      0         \n",
            "_________________________________________________________________\n",
            "max_pooling2d_1 (MaxPooling2 (None, 7, 7, 1536)        0         \n",
            "_________________________________________________________________\n",
            "separable_conv2d_6 (Separabl (None, 7, 7, 192)         308928    \n",
            "_________________________________________________________________\n",
            "batch_normalization_6 (Batch (None, 7, 7, 192)         768       \n",
            "_________________________________________________________________\n",
            "activation_6 (Activation)    (None, 7, 7, 192)         0         \n",
            "_________________________________________________________________\n",
            "dropout_2 (Dropout)          (None, 7, 7, 192)         0         \n",
            "_________________________________________________________________\n",
            "separable_conv2d_7 (Separabl (None, 7, 7, 384)         75840     \n",
            "_________________________________________________________________\n",
            "batch_normalization_7 (Batch (None, 7, 7, 384)         1536      \n",
            "_________________________________________________________________\n",
            "activation_7 (Activation)    (None, 7, 7, 384)         0         \n",
            "_________________________________________________________________\n",
            "separable_conv2d_8 (Separabl (None, 7, 7, 768)         299136    \n",
            "_________________________________________________________________\n",
            "batch_normalization_8 (Batch (None, 7, 7, 768)         3072      \n",
            "_________________________________________________________________\n",
            "activation_8 (Activation)    (None, 7, 7, 768)         0         \n",
            "_________________________________________________________________\n",
            "separable_conv2d_9 (Separabl (None, 7, 7, 1536)        1188096   \n",
            "_________________________________________________________________\n",
            "batch_normalization_9 (Batch (None, 7, 7, 1536)        6144      \n",
            "_________________________________________________________________\n",
            "dropout_3 (Dropout)          (None, 7, 7, 1536)        0         \n",
            "_________________________________________________________________\n",
            "separable_conv2d_10 (Separab (None, 7, 7, 10)          29194     \n",
            "_________________________________________________________________\n",
            "batch_normalization_10 (Batc (None, 7, 7, 10)          40        \n",
            "_________________________________________________________________\n",
            "global_average_pooling2d_1 ( (None, 10)                0         \n",
            "_________________________________________________________________\n",
            "dense_1 (Dense)              (None, 10)                110       \n",
            "=================================================================\n",
            "Total params: 3,507,739\n",
            "Trainable params: 3,496,007\n",
            "Non-trainable params: 11,732\n",
            "_________________________________________________________________\n"
          ],
          "name": "stdout"
        }
      ]
    },
    {
      "cell_type": "code",
      "metadata": {
        "colab_type": "code",
        "id": "qaiwttKqp-sZ",
        "colab": {}
      },
      "source": [
        "from keras.callbacks import LearningRateScheduler\n",
        "from keras.callbacks import ModelCheckpoint\n",
        "from keras.callbacks import ReduceLROnPlateau\n",
        "\n",
        "def scheduler(epoch, lr):\n",
        "  return round(0.0032 * 1/(1 + 0.219 * epoch), 10)\n",
        "\n",
        "# keras.callbacks.callbacks.ReduceLROnPlateau(monitor='val_loss', factor=0.1, patience=10, verbose=0, mode='auto', min_delta=0.0001, cooldown=0, min_lr=0)\n",
        "reduce_lr = ReduceLROnPlateau(monitor='val_loss', factor=0.005,\n",
        "                              patience=1, cooldown =1, min_lr=0.0001)\n",
        "## Adam(lr=0.001,decay=0, beta_1=0.9, beta_2=0.999, epsilon=1e-08)\n",
        "filepath=\"weights_a3_4.best.hdf5\"\n",
        "checkpoint = ModelCheckpoint(filepath, monitor='val_acc', verbose=1, save_best_only=True, mode='max')\n",
        "# callbacks_list = [checkpoint]\n"
      ],
      "execution_count": 0,
      "outputs": []
    },
    {
      "cell_type": "code",
      "metadata": {
        "colab_type": "code",
        "id": "tcAYLMD5p-so",
        "colab": {}
      },
      "source": [
        "from keras.preprocessing.image import ImageDataGenerator\n",
        "\n",
        "# datagen = ImageDataGenerator(zoom_range=0.0,rotation_range=15, width_shift_range=0.1,height_shift_range=0.1,\n",
        "#                              horizontal_flip=True,\n",
        "#                              vertical_flip=False)\n",
        "\n",
        "datagen = ImageDataGenerator(zoom_range=0.25,rotation_range=0, \n",
        "                             horizontal_flip=False,\n",
        "                             vertical_flip=False)"
      ],
      "execution_count": 0,
      "outputs": []
    },
    {
      "cell_type": "code",
      "metadata": {
        "colab_type": "code",
        "outputId": "983603c1-5e2a-444a-b6e1-5fddcf07a216",
        "id": "zFrDGGuXp-sy",
        "colab": {
          "base_uri": "https://localhost:8080/",
          "height": 268
        }
      },
      "source": [
        "## see example augmentation images\n",
        "for X_batch, y_batch in datagen.flow(train_features, train_labels, batch_size=9):\n",
        "    for i in range(0, 9):\n",
        "        plt.subplot(330 + 1 + i)\n",
        "        plt.imshow(X_batch[i].astype(np.uint8))\n",
        "    plt.show()\n",
        "    break"
      ],
      "execution_count": 0,
      "outputs": [
        {
          "output_type": "display_data",
          "data": {
            "image/png": "[encoded data removed]",
            "text/plain": [
              "<Figure size 432x288 with 9 Axes>"
            ]
          },
          "metadata": {
            "tags": []
          }
        }
      ]
    },
    {
      "cell_type": "code",
      "metadata": {
        "colab_type": "code",
        "outputId": "aeb28f51-8777-4d74-d8d0-1ec266c236a9",
        "id": "GE5q1D5Jp-s7",
        "colab": {
          "base_uri": "https://localhost:8080/",
          "height": 1000
        }
      },
      "source": [
        "# train the model\n",
        "start = time.time()\n",
        "# Train the model\n",
        "model_info = model.fit_generator(datagen.flow(train_features, train_labels, batch_size = 128),\n",
        "                                 samples_per_epoch = train_features.shape[0], nb_epoch = 20,\n",
        "                                 callbacks=[checkpoint,LearningRateScheduler(scheduler, verbose=1)],\n",
        "                                #  callbacks=[checkpoint, LearningRateScheduler(scheduler, verbose=1)], \n",
        "                                 validation_data = (test_features, test_labels), verbose=1)\n",
        "end = time.time()\n",
        "print (\"Model took %0.2f seconds to train\"%(end - start))\n",
        "# plot model history\n",
        "plot_model_history(model_info)\n",
        "# compute test accuracy\n",
        "print (\"Accuracy on test data is: %0.2f\"%accuracy(test_features, test_labels, model))"
      ],
      "execution_count": 0,
      "outputs": [
        {
          "output_type": "stream",
          "text": [
            "WARNING:tensorflow:From /usr/local/lib/python3.6/dist-packages/tensorflow_core/python/ops/math_grad.py:1424: where (from tensorflow.python.ops.array_ops) is deprecated and will be removed in a future version.\n",
            "Instructions for updating:\n",
            "Use tf.where in 2.0, which has the same broadcast rule as np.where\n"
          ],
          "name": "stdout"
        },
        {
          "output_type": "stream",
          "text": [
            "/usr/local/lib/python3.6/dist-packages/ipykernel_launcher.py:7: UserWarning: The semantics of the Keras 2 argument `steps_per_epoch` is not the same as the Keras 1 argument `samples_per_epoch`. `steps_per_epoch` is the number of batches to draw from the generator at each epoch. Basically steps_per_epoch = samples_per_epoch/batch_size. Similarly `nb_val_samples`->`validation_steps` and `val_samples`->`steps` arguments have changed. Update your method calls accordingly.\n",
            "  import sys\n",
            "/usr/local/lib/python3.6/dist-packages/ipykernel_launcher.py:7: UserWarning: Update your `fit_generator` call to the Keras 2 API: `fit_generator(<keras_pre..., callbacks=[<keras.ca..., validation_data=(array([[[..., verbose=1, steps_per_epoch=390, epochs=20)`\n",
            "  import sys\n"
          ],
          "name": "stderr"
        },
        {
          "output_type": "stream",
          "text": [
            "WARNING:tensorflow:From /usr/local/lib/python3.6/dist-packages/keras/backend/tensorflow_backend.py:1033: The name tf.assign_add is deprecated. Please use tf.compat.v1.assign_add instead.\n",
            "\n",
            "WARNING:tensorflow:From /usr/local/lib/python3.6/dist-packages/keras/backend/tensorflow_backend.py:1020: The name tf.assign is deprecated. Please use tf.compat.v1.assign instead.\n",
            "\n",
            "Epoch 1/20\n",
            "\n",
            "Epoch 00001: LearningRateScheduler setting learning rate to 0.0032.\n",
            "390/390 [==============================] - 111s 285ms/step - loss: 1.6049 - acc: 0.4108 - val_loss: 4.7465 - val_acc: 0.3747\n",
            "\n",
            "Epoch 00001: val_acc improved from -inf to 0.37470, saving model to weights_a3_4.best.hdf5\n",
            "Epoch 2/20\n",
            "\n",
            "Epoch 00002: LearningRateScheduler setting learning rate to 0.0026251025.\n",
            "390/390 [==============================] - 102s 262ms/step - loss: 1.2234 - acc: 0.5629 - val_loss: 2.0710 - val_acc: 0.4759\n",
            "\n",
            "Epoch 00002: val_acc improved from 0.37470 to 0.47590, saving model to weights_a3_4.best.hdf5\n",
            "Epoch 3/20\n",
            "\n",
            "Epoch 00003: LearningRateScheduler setting learning rate to 0.0022253129.\n",
            "390/390 [==============================] - 102s 262ms/step - loss: 1.0382 - acc: 0.6325 - val_loss: 1.1438 - val_acc: 0.6210\n",
            "\n",
            "Epoch 00003: val_acc improved from 0.47590 to 0.62100, saving model to weights_a3_4.best.hdf5\n",
            "Epoch 4/20\n",
            "\n",
            "Epoch 00004: LearningRateScheduler setting learning rate to 0.001931201.\n",
            "390/390 [==============================] - 102s 262ms/step - loss: 0.9122 - acc: 0.6775 - val_loss: 1.0304 - val_acc: 0.6533\n",
            "\n",
            "Epoch 00004: val_acc improved from 0.62100 to 0.65330, saving model to weights_a3_4.best.hdf5\n",
            "Epoch 5/20\n",
            "\n",
            "Epoch 00005: LearningRateScheduler setting learning rate to 0.0017057569.\n",
            "390/390 [==============================] - 102s 261ms/step - loss: 0.8152 - acc: 0.7136 - val_loss: 0.9086 - val_acc: 0.6916\n",
            "\n",
            "Epoch 00005: val_acc improved from 0.65330 to 0.69160, saving model to weights_a3_4.best.hdf5\n",
            "Epoch 6/20\n",
            "\n",
            "Epoch 00006: LearningRateScheduler setting learning rate to 0.0015274463.\n",
            "390/390 [==============================] - 103s 263ms/step - loss: 0.7279 - acc: 0.7450 - val_loss: 0.9011 - val_acc: 0.7047\n",
            "\n",
            "Epoch 00006: val_acc improved from 0.69160 to 0.70470, saving model to weights_a3_4.best.hdf5\n",
            "Epoch 7/20\n",
            "\n",
            "Epoch 00007: LearningRateScheduler setting learning rate to 0.0013828868.\n",
            "390/390 [==============================] - 102s 263ms/step - loss: 0.6590 - acc: 0.7700 - val_loss: 0.7598 - val_acc: 0.7450\n",
            "\n",
            "Epoch 00007: val_acc improved from 0.70470 to 0.74500, saving model to weights_a3_4.best.hdf5\n",
            "Epoch 8/20\n",
            "\n",
            "Epoch 00008: LearningRateScheduler setting learning rate to 0.0012633241.\n",
            "390/390 [==============================] - 103s 263ms/step - loss: 0.5934 - acc: 0.7933 - val_loss: 0.8893 - val_acc: 0.7187\n",
            "\n",
            "Epoch 00008: val_acc did not improve from 0.74500\n",
            "Epoch 9/20\n",
            "\n",
            "Epoch 00009: LearningRateScheduler setting learning rate to 0.0011627907.\n",
            "390/390 [==============================] - 102s 262ms/step - loss: 0.5351 - acc: 0.8132 - val_loss: 0.7769 - val_acc: 0.7512\n",
            "\n",
            "Epoch 00009: val_acc improved from 0.74500 to 0.75120, saving model to weights_a3_4.best.hdf5\n",
            "Epoch 10/20\n",
            "\n",
            "Epoch 00010: LearningRateScheduler setting learning rate to 0.0010770784.\n",
            "390/390 [==============================] - 102s 263ms/step - loss: 0.4832 - acc: 0.8302 - val_loss: 0.7408 - val_acc: 0.7624\n",
            "\n",
            "Epoch 00010: val_acc improved from 0.75120 to 0.76240, saving model to weights_a3_4.best.hdf5\n",
            "Epoch 11/20\n",
            "\n",
            "Epoch 00011: LearningRateScheduler setting learning rate to 0.0010031348.\n",
            "390/390 [==============================] - 102s 262ms/step - loss: 0.4312 - acc: 0.8484 - val_loss: 0.7396 - val_acc: 0.7659\n",
            "\n",
            "Epoch 00011: val_acc improved from 0.76240 to 0.76590, saving model to weights_a3_4.best.hdf5\n",
            "Epoch 12/20\n",
            "\n",
            "Epoch 00012: LearningRateScheduler setting learning rate to 0.0009386917.\n",
            "390/390 [==============================] - 102s 262ms/step - loss: 0.3882 - acc: 0.8638 - val_loss: 0.8206 - val_acc: 0.7523\n",
            "\n",
            "Epoch 00012: val_acc did not improve from 0.76590\n",
            "Epoch 13/20\n",
            "\n",
            "Epoch 00013: LearningRateScheduler setting learning rate to 0.0008820287.\n",
            "390/390 [==============================] - 102s 262ms/step - loss: 0.3428 - acc: 0.8815 - val_loss: 0.7346 - val_acc: 0.7806\n",
            "\n",
            "Epoch 00013: val_acc improved from 0.76590 to 0.78060, saving model to weights_a3_4.best.hdf5\n",
            "Epoch 14/20\n",
            "\n",
            "Epoch 00014: LearningRateScheduler setting learning rate to 0.000831817.\n",
            "390/390 [==============================] - 102s 263ms/step - loss: 0.3025 - acc: 0.8945 - val_loss: 0.7836 - val_acc: 0.7745\n",
            "\n",
            "Epoch 00014: val_acc did not improve from 0.78060\n",
            "Epoch 15/20\n",
            "\n",
            "Epoch 00015: LearningRateScheduler setting learning rate to 0.0007870143.\n",
            "390/390 [==============================] - 103s 263ms/step - loss: 0.2726 - acc: 0.9044 - val_loss: 0.7406 - val_acc: 0.7842\n",
            "\n",
            "Epoch 00015: val_acc improved from 0.78060 to 0.78420, saving model to weights_a3_4.best.hdf5\n",
            "Epoch 16/20\n",
            "\n",
            "Epoch 00016: LearningRateScheduler setting learning rate to 0.0007467911.\n",
            "390/390 [==============================] - 102s 263ms/step - loss: 0.2420 - acc: 0.9161 - val_loss: 0.7832 - val_acc: 0.7851\n",
            "\n",
            "Epoch 00016: val_acc improved from 0.78420 to 0.78510, saving model to weights_a3_4.best.hdf5\n",
            "Epoch 17/20\n",
            "\n",
            "Epoch 00017: LearningRateScheduler setting learning rate to 0.0007104796.\n",
            "390/390 [==============================] - 102s 263ms/step - loss: 0.2150 - acc: 0.9255 - val_loss: 0.8009 - val_acc: 0.7873\n",
            "\n",
            "Epoch 00017: val_acc improved from 0.78510 to 0.78730, saving model to weights_a3_4.best.hdf5\n",
            "Epoch 18/20\n",
            "\n",
            "Epoch 00018: LearningRateScheduler setting learning rate to 0.0006775355.\n",
            "390/390 [==============================] - 103s 263ms/step - loss: 0.1985 - acc: 0.9306 - val_loss: 0.8029 - val_acc: 0.7818\n",
            "\n",
            "Epoch 00018: val_acc did not improve from 0.78730\n",
            "Epoch 19/20\n",
            "\n",
            "Epoch 00019: LearningRateScheduler setting learning rate to 0.0006475111.\n",
            "390/390 [==============================] - 103s 264ms/step - loss: 0.1730 - acc: 0.9405 - val_loss: 0.8708 - val_acc: 0.7780\n",
            "\n",
            "Epoch 00019: val_acc did not improve from 0.78730\n",
            "Epoch 20/20\n",
            "\n",
            "Epoch 00020: LearningRateScheduler setting learning rate to 0.0006200349.\n",
            "390/390 [==============================] - 103s 263ms/step - loss: 0.1641 - acc: 0.9430 - val_loss: 0.8317 - val_acc: 0.7884\n",
            "\n",
            "Epoch 00020: val_acc improved from 0.78730 to 0.78840, saving model to weights_a3_4.best.hdf5\n",
            "Model took 2063.85 seconds to train\n"
          ],
          "name": "stdout"
        },
        {
          "output_type": "display_data",
          "data": {
            "image/png": "[encoded data removed]",
            "text/plain": [
              "<Figure size 1080x360 with 2 Axes>"
            ]
          },
          "metadata": {
            "tags": []
          }
        },
        {
          "output_type": "stream",
          "text": [
            "Accuracy on test data is: 78.84\n"
          ],
          "name": "stdout"
        }
      ]
    },
    {
      "cell_type": "code",
      "metadata": {
        "colab_type": "code",
        "outputId": "dd357259-cce8-48cc-bdfa-ce21f785b06c",
        "id": "mJ1Uzwrip-tK",
        "colab": {
          "base_uri": "https://localhost:8080/",
          "height": 35
        }
      },
      "source": [
        "model.load_weights('weights_a3_4.best.hdf5')\n",
        "print (\"Accuracy on test data is: %0.2f\"%accuracy(test_features, test_labels, model))"
      ],
      "execution_count": 0,
      "outputs": [
        {
          "output_type": "stream",
          "text": [
            "Accuracy on test data is: 78.84\n"
          ],
          "name": "stdout"
        }
      ]
    },
    {
      "cell_type": "code",
      "metadata": {
        "colab_type": "code",
        "id": "0PcfXiCCp-tW",
        "colab": {}
      },
      "source": [
        "from keras.preprocessing.image import ImageDataGenerator\n",
        "\n",
        "# datagen = ImageDataGenerator(zoom_range=0.0,rotation_range=15, width_shift_range=0.1,height_shift_range=0.1,\n",
        "#                              horizontal_flip=True,\n",
        "#                              vertical_flip=False)\n",
        "\n",
        "datagen = ImageDataGenerator(zoom_range=0.25,rotation_range=5,width_shift_range=0.1,height_shift_range=0.1, \n",
        "                             horizontal_flip=False,\n",
        "                             vertical_flip=False)"
      ],
      "execution_count": 0,
      "outputs": []
    },
    {
      "cell_type": "code",
      "metadata": {
        "colab_type": "code",
        "outputId": "b4ead9d1-fd5b-418b-836c-f428b4f3dba8",
        "id": "Pu4TGlylp-th",
        "colab": {
          "base_uri": "https://localhost:8080/",
          "height": 1000
        }
      },
      "source": [
        "# train the model\n",
        "start = time.time()\n",
        "# Train the model\n",
        "model_info = model.fit_generator(datagen.flow(train_features, train_labels, batch_size = 128),\n",
        "                                 samples_per_epoch = train_features.shape[0], initial_epoch = 20, nb_epoch = 50,\n",
        "                                 callbacks=[checkpoint,LearningRateScheduler(scheduler, verbose=1)],\n",
        "                                #  callbacks=[checkpoint, LearningRateScheduler(scheduler, verbose=1)], \n",
        "                                 validation_data = (test_features, test_labels), verbose=1)\n",
        "end = time.time()\n",
        "print (\"Model took %0.2f seconds to train\"%(end - start))\n",
        "# plot model history\n",
        "plot_model_history(model_info)\n",
        "# compute test accuracy\n",
        "print (\"Accuracy on test data is: %0.2f\"%accuracy(test_features, test_labels, model))"
      ],
      "execution_count": 0,
      "outputs": [
        {
          "output_type": "stream",
          "text": [
            "/usr/local/lib/python3.6/dist-packages/ipykernel_launcher.py:7: UserWarning: The semantics of the Keras 2 argument `steps_per_epoch` is not the same as the Keras 1 argument `samples_per_epoch`. `steps_per_epoch` is the number of batches to draw from the generator at each epoch. Basically steps_per_epoch = samples_per_epoch/batch_size. Similarly `nb_val_samples`->`validation_steps` and `val_samples`->`steps` arguments have changed. Update your method calls accordingly.\n",
            "  import sys\n",
            "/usr/local/lib/python3.6/dist-packages/ipykernel_launcher.py:7: UserWarning: Update your `fit_generator` call to the Keras 2 API: `fit_generator(<keras_pre..., initial_epoch=20, callbacks=[<keras.ca..., validation_data=(array([[[..., verbose=1, steps_per_epoch=390, epochs=50)`\n",
            "  import sys\n"
          ],
          "name": "stderr"
        },
        {
          "output_type": "stream",
          "text": [
            "Epoch 21/50\n",
            "\n",
            "Epoch 00021: LearningRateScheduler setting learning rate to 0.0005947955.\n",
            "390/390 [==============================] - 102s 262ms/step - loss: 0.4051 - acc: 0.8633 - val_loss: 0.7637 - val_acc: 0.7936\n",
            "\n",
            "Epoch 00021: val_acc improved from 0.78840 to 0.79360, saving model to weights_a3_4.best.hdf5\n",
            "Epoch 22/50\n",
            "\n",
            "Epoch 00022: LearningRateScheduler setting learning rate to 0.0005715306.\n",
            "390/390 [==============================] - 102s 262ms/step - loss: 0.3522 - acc: 0.8777 - val_loss: 0.7676 - val_acc: 0.7882\n",
            "\n",
            "Epoch 00022: val_acc did not improve from 0.79360\n",
            "Epoch 23/50\n",
            "\n",
            "Epoch 00023: LearningRateScheduler setting learning rate to 0.0005500172.\n",
            "390/390 [==============================] - 102s 262ms/step - loss: 0.3266 - acc: 0.8861 - val_loss: 0.7874 - val_acc: 0.7878\n",
            "\n",
            "Epoch 00023: val_acc did not improve from 0.79360\n",
            "Epoch 24/50\n",
            "\n",
            "Epoch 00024: LearningRateScheduler setting learning rate to 0.0005300646.\n",
            "390/390 [==============================] - 102s 262ms/step - loss: 0.3110 - acc: 0.8923 - val_loss: 0.6724 - val_acc: 0.8075\n",
            "\n",
            "Epoch 00024: val_acc improved from 0.79360 to 0.80750, saving model to weights_a3_4.best.hdf5\n",
            "Epoch 25/50\n",
            "\n",
            "Epoch 00025: LearningRateScheduler setting learning rate to 0.000511509.\n",
            "390/390 [==============================] - 102s 262ms/step - loss: 0.2938 - acc: 0.8974 - val_loss: 0.7151 - val_acc: 0.7952\n",
            "\n",
            "Epoch 00025: val_acc did not improve from 0.80750\n",
            "Epoch 26/50\n",
            "\n",
            "Epoch 00026: LearningRateScheduler setting learning rate to 0.0004942085.\n",
            "390/390 [==============================] - 102s 262ms/step - loss: 0.2814 - acc: 0.9035 - val_loss: 0.6806 - val_acc: 0.8072\n",
            "\n",
            "Epoch 00026: val_acc did not improve from 0.80750\n",
            "Epoch 27/50\n",
            "\n",
            "Epoch 00027: LearningRateScheduler setting learning rate to 0.00047804.\n",
            "390/390 [==============================] - 102s 262ms/step - loss: 0.2700 - acc: 0.9064 - val_loss: 0.7183 - val_acc: 0.7991\n",
            "\n",
            "Epoch 00027: val_acc did not improve from 0.80750\n",
            "Epoch 28/50\n",
            "\n",
            "Epoch 00028: LearningRateScheduler setting learning rate to 0.000462896.\n",
            "390/390 [==============================] - 102s 262ms/step - loss: 0.2601 - acc: 0.9086 - val_loss: 0.7371 - val_acc: 0.8003\n",
            "\n",
            "Epoch 00028: val_acc did not improve from 0.80750\n",
            "Epoch 29/50\n",
            "\n",
            "Epoch 00029: LearningRateScheduler setting learning rate to 0.000448682.\n",
            "390/390 [==============================] - 102s 262ms/step - loss: 0.2490 - acc: 0.9143 - val_loss: 0.6983 - val_acc: 0.8068\n",
            "\n",
            "Epoch 00029: val_acc did not improve from 0.80750\n",
            "Epoch 30/50\n",
            "\n",
            "Epoch 00030: LearningRateScheduler setting learning rate to 0.0004353149.\n",
            "390/390 [==============================] - 102s 262ms/step - loss: 0.2305 - acc: 0.9195 - val_loss: 0.6857 - val_acc: 0.8128\n",
            "\n",
            "Epoch 00030: val_acc improved from 0.80750 to 0.81280, saving model to weights_a3_4.best.hdf5\n",
            "Epoch 31/50\n",
            "\n",
            "Epoch 00031: LearningRateScheduler setting learning rate to 0.0004227213.\n",
            "390/390 [==============================] - 103s 263ms/step - loss: 0.2262 - acc: 0.9221 - val_loss: 0.7222 - val_acc: 0.8054\n",
            "\n",
            "Epoch 00031: val_acc did not improve from 0.81280\n",
            "Epoch 32/50\n",
            "\n",
            "Epoch 00032: LearningRateScheduler setting learning rate to 0.0004108358.\n",
            "390/390 [==============================] - 102s 262ms/step - loss: 0.2215 - acc: 0.9228 - val_loss: 0.7071 - val_acc: 0.8088\n",
            "\n",
            "Epoch 00032: val_acc did not improve from 0.81280\n",
            "Epoch 33/50\n",
            "\n",
            "Epoch 00033: LearningRateScheduler setting learning rate to 0.0003996004.\n",
            "390/390 [==============================] - 102s 262ms/step - loss: 0.2150 - acc: 0.9257 - val_loss: 0.7215 - val_acc: 0.8096\n",
            "\n",
            "Epoch 00033: val_acc did not improve from 0.81280\n",
            "Epoch 34/50\n",
            "\n",
            "Epoch 00034: LearningRateScheduler setting learning rate to 0.0003889632.\n",
            "390/390 [==============================] - 102s 262ms/step - loss: 0.2039 - acc: 0.9289 - val_loss: 0.7857 - val_acc: 0.8020\n",
            "\n",
            "Epoch 00034: val_acc did not improve from 0.81280\n",
            "Epoch 35/50\n",
            "\n",
            "Epoch 00035: LearningRateScheduler setting learning rate to 0.0003788776.\n",
            "390/390 [==============================] - 103s 263ms/step - loss: 0.1966 - acc: 0.9335 - val_loss: 0.8018 - val_acc: 0.7965\n",
            "\n",
            "Epoch 00035: val_acc did not improve from 0.81280\n",
            "Epoch 36/50\n",
            "\n",
            "Epoch 00036: LearningRateScheduler setting learning rate to 0.0003693018.\n",
            "390/390 [==============================] - 103s 263ms/step - loss: 0.1911 - acc: 0.9340 - val_loss: 0.7107 - val_acc: 0.8128\n",
            "\n",
            "Epoch 00036: val_acc did not improve from 0.81280\n",
            "Epoch 37/50\n",
            "\n",
            "Epoch 00037: LearningRateScheduler setting learning rate to 0.0003601981.\n",
            "390/390 [==============================] - 102s 262ms/step - loss: 0.1832 - acc: 0.9361 - val_loss: 0.7295 - val_acc: 0.8097\n",
            "\n",
            "Epoch 00037: val_acc did not improve from 0.81280\n",
            "Epoch 38/50\n",
            "\n",
            "Epoch 00038: LearningRateScheduler setting learning rate to 0.0003515325.\n",
            "390/390 [==============================] - 103s 264ms/step - loss: 0.1826 - acc: 0.9370 - val_loss: 0.7495 - val_acc: 0.8115\n",
            "\n",
            "Epoch 00038: val_acc did not improve from 0.81280\n",
            "Epoch 39/50\n",
            "\n",
            "Epoch 00039: LearningRateScheduler setting learning rate to 0.000343274.\n",
            "390/390 [==============================] - 103s 263ms/step - loss: 0.1667 - acc: 0.9434 - val_loss: 0.7764 - val_acc: 0.8072\n",
            "\n",
            "Epoch 00039: val_acc did not improve from 0.81280\n",
            "Epoch 40/50\n",
            "\n",
            "Epoch 00040: LearningRateScheduler setting learning rate to 0.0003353946.\n",
            "390/390 [==============================] - 103s 264ms/step - loss: 0.1712 - acc: 0.9408 - val_loss: 0.7743 - val_acc: 0.8056\n",
            "\n",
            "Epoch 00040: val_acc did not improve from 0.81280\n",
            "Epoch 41/50\n",
            "\n",
            "Epoch 00041: LearningRateScheduler setting learning rate to 0.0003278689.\n",
            "390/390 [==============================] - 103s 264ms/step - loss: 0.1595 - acc: 0.9446 - val_loss: 0.7489 - val_acc: 0.8174\n",
            "\n",
            "Epoch 00041: val_acc improved from 0.81280 to 0.81740, saving model to weights_a3_4.best.hdf5\n",
            "Epoch 42/50\n",
            "\n",
            "Epoch 00042: LearningRateScheduler setting learning rate to 0.0003206734.\n",
            "390/390 [==============================] - 103s 264ms/step - loss: 0.1596 - acc: 0.9454 - val_loss: 0.7595 - val_acc: 0.8106\n",
            "\n",
            "Epoch 00042: val_acc did not improve from 0.81740\n",
            "Epoch 43/50\n",
            "\n",
            "Epoch 00043: LearningRateScheduler setting learning rate to 0.000313787.\n",
            "390/390 [==============================] - 103s 264ms/step - loss: 0.1539 - acc: 0.9476 - val_loss: 0.7641 - val_acc: 0.8115\n",
            "\n",
            "Epoch 00043: val_acc did not improve from 0.81740\n",
            "Epoch 44/50\n",
            "\n",
            "Epoch 00044: LearningRateScheduler setting learning rate to 0.0003071902.\n",
            "390/390 [==============================] - 103s 264ms/step - loss: 0.1521 - acc: 0.9480 - val_loss: 0.7467 - val_acc: 0.8163\n",
            "\n",
            "Epoch 00044: val_acc did not improve from 0.81740\n",
            "Epoch 45/50\n",
            "\n",
            "Epoch 00045: LearningRateScheduler setting learning rate to 0.000300865.\n",
            "390/390 [==============================] - 103s 264ms/step - loss: 0.1455 - acc: 0.9503 - val_loss: 0.8146 - val_acc: 0.8068\n",
            "\n",
            "Epoch 00045: val_acc did not improve from 0.81740\n",
            "Epoch 46/50\n",
            "\n",
            "Epoch 00046: LearningRateScheduler setting learning rate to 0.000294795.\n",
            "390/390 [==============================] - 103s 264ms/step - loss: 0.1419 - acc: 0.9510 - val_loss: 0.7866 - val_acc: 0.8097\n",
            "\n",
            "Epoch 00046: val_acc did not improve from 0.81740\n",
            "Epoch 47/50\n",
            "\n",
            "Epoch 00047: LearningRateScheduler setting learning rate to 0.0002889651.\n",
            "390/390 [==============================] - 103s 264ms/step - loss: 0.1415 - acc: 0.9516 - val_loss: 0.7951 - val_acc: 0.8073\n",
            "\n",
            "Epoch 00047: val_acc did not improve from 0.81740\n",
            "Epoch 48/50\n",
            "\n",
            "Epoch 00048: LearningRateScheduler setting learning rate to 0.0002833614.\n",
            "390/390 [==============================] - 103s 264ms/step - loss: 0.1379 - acc: 0.9535 - val_loss: 0.7561 - val_acc: 0.8201\n",
            "\n",
            "Epoch 00048: val_acc improved from 0.81740 to 0.82010, saving model to weights_a3_4.best.hdf5\n",
            "Epoch 49/50\n",
            "\n",
            "Epoch 00049: LearningRateScheduler setting learning rate to 0.0002779708.\n",
            "390/390 [==============================] - 103s 264ms/step - loss: 0.1302 - acc: 0.9554 - val_loss: 0.7628 - val_acc: 0.8175\n",
            "\n",
            "Epoch 00049: val_acc did not improve from 0.82010\n",
            "Epoch 50/50\n",
            "\n",
            "Epoch 00050: LearningRateScheduler setting learning rate to 0.0002727815.\n",
            "390/390 [==============================] - 103s 263ms/step - loss: 0.1297 - acc: 0.9555 - val_loss: 0.7644 - val_acc: 0.8180\n",
            "\n",
            "Epoch 00050: val_acc did not improve from 0.82010\n",
            "Model took 3077.63 seconds to train\n"
          ],
          "name": "stdout"
        },
        {
          "output_type": "display_data",
          "data": {
            "image/png": "[encoded data removed]",
            "text/plain": [
              "<Figure size 1080x360 with 2 Axes>"
            ]
          },
          "metadata": {
            "tags": []
          }
        },
        {
          "output_type": "stream",
          "text": [
            "Accuracy on test data is: 81.80\n"
          ],
          "name": "stdout"
        }
      ]
    },
    {
      "cell_type": "code",
      "metadata": {
        "colab_type": "code",
        "outputId": "a8fa4df1-b08e-40fa-da5d-8c788ca167fe",
        "id": "zSkS3M-ap-tq",
        "colab": {
          "base_uri": "https://localhost:8080/",
          "height": 35
        }
      },
      "source": [
        "model.load_weights('weights_a3_4.best.hdf5')\n",
        "print (\"Accuracy on test data is: %0.2f\"%accuracy(test_features, test_labels, model))"
      ],
      "execution_count": 0,
      "outputs": [
        {
          "output_type": "stream",
          "text": [
            "Accuracy on test data is: 82.01\n"
          ],
          "name": "stdout"
        }
      ]
    },
    {
      "cell_type": "code",
      "metadata": {
        "colab_type": "code",
        "id": "gzOVMvEip-t2",
        "colab": {}
      },
      "source": [
        "from keras.preprocessing.image import ImageDataGenerator\n",
        "\n",
        "# datagen = ImageDataGenerator(zoom_range=0.0,rotation_range=15, width_shift_range=0.1,height_shift_range=0.1,\n",
        "#                              horizontal_flip=True,\n",
        "#                              vertical_flip=False)\n",
        "\n",
        "datagen = ImageDataGenerator(zoom_range=0.3,rotation_range=10,width_shift_range=0.2,height_shift_range=0.2, \n",
        "                             horizontal_flip=True,\n",
        "                             vertical_flip=False)"
      ],
      "execution_count": 0,
      "outputs": []
    },
    {
      "cell_type": "code",
      "metadata": {
        "colab_type": "code",
        "outputId": "610076aa-f028-4d3c-fe7b-d318daf13bc1",
        "id": "zGQ1Uw1fp-t9",
        "colab": {
          "base_uri": "https://localhost:8080/",
          "height": 1000
        }
      },
      "source": [
        "# train the model\n",
        "start = time.time()\n",
        "# Train the model\n",
        "model_info = model.fit_generator(datagen.flow(train_features, train_labels, batch_size = 128),\n",
        "                                 samples_per_epoch = train_features.shape[0], initial_epoch = 50, nb_epoch = 60,\n",
        "                                 callbacks=[checkpoint,LearningRateScheduler(scheduler, verbose=1)],\n",
        "                                #  callbacks=[checkpoint, LearningRateScheduler(scheduler, verbose=1)], \n",
        "                                 validation_data = (test_features, test_labels), verbose=1)\n",
        "end = time.time()\n",
        "print (\"Model took %0.2f seconds to train\"%(end - start))\n",
        "# plot model history\n",
        "plot_model_history(model_info)\n",
        "# compute test accuracy\n",
        "print (\"Accuracy on test data is: %0.2f\"%accuracy(test_features, test_labels, model))"
      ],
      "execution_count": 0,
      "outputs": [
        {
          "output_type": "stream",
          "text": [
            "/usr/local/lib/python3.6/dist-packages/ipykernel_launcher.py:7: UserWarning: The semantics of the Keras 2 argument `steps_per_epoch` is not the same as the Keras 1 argument `samples_per_epoch`. `steps_per_epoch` is the number of batches to draw from the generator at each epoch. Basically steps_per_epoch = samples_per_epoch/batch_size. Similarly `nb_val_samples`->`validation_steps` and `val_samples`->`steps` arguments have changed. Update your method calls accordingly.\n",
            "  import sys\n",
            "/usr/local/lib/python3.6/dist-packages/ipykernel_launcher.py:7: UserWarning: Update your `fit_generator` call to the Keras 2 API: `fit_generator(<keras_pre..., initial_epoch=50, callbacks=[<keras.ca..., validation_data=(array([[[..., verbose=1, steps_per_epoch=390, epochs=60)`\n",
            "  import sys\n"
          ],
          "name": "stderr"
        },
        {
          "output_type": "stream",
          "text": [
            "Epoch 51/60\n",
            "\n",
            "Epoch 00051: LearningRateScheduler setting learning rate to 0.0002677824.\n",
            "390/390 [==============================] - 86s 220ms/step - loss: 0.6858 - acc: 0.7710 - val_loss: 0.5582 - val_acc: 0.8187\n",
            "\n",
            "Epoch 00051: val_acc did not improve from 0.82800\n",
            "Epoch 52/60\n",
            "\n",
            "Epoch 00052: LearningRateScheduler setting learning rate to 0.0002629633.\n",
            "390/390 [==============================] - 86s 219ms/step - loss: 0.6413 - acc: 0.7813 - val_loss: 0.6129 - val_acc: 0.8051\n",
            "\n",
            "Epoch 00052: val_acc did not improve from 0.82800\n",
            "Epoch 53/60\n",
            "\n",
            "Epoch 00053: LearningRateScheduler setting learning rate to 0.0002583145.\n",
            "390/390 [==============================] - 86s 220ms/step - loss: 0.6261 - acc: 0.7869 - val_loss: 0.5152 - val_acc: 0.8312\n",
            "\n",
            "Epoch 00053: val_acc improved from 0.82800 to 0.83120, saving model to weights_a3_4.best.hdf5\n",
            "Epoch 54/60\n",
            "\n",
            "Epoch 00054: LearningRateScheduler setting learning rate to 0.0002538272.\n",
            "390/390 [==============================] - 86s 219ms/step - loss: 0.6055 - acc: 0.7959 - val_loss: 0.5549 - val_acc: 0.8197\n",
            "\n",
            "Epoch 00054: val_acc did not improve from 0.83120\n",
            "Epoch 55/60\n",
            "\n",
            "Epoch 00055: LearningRateScheduler setting learning rate to 0.0002494932.\n",
            "390/390 [==============================] - 86s 220ms/step - loss: 0.5946 - acc: 0.7980 - val_loss: 0.5747 - val_acc: 0.8150\n",
            "\n",
            "Epoch 00055: val_acc did not improve from 0.83120\n",
            "Epoch 56/60\n",
            "\n",
            "Epoch 00056: LearningRateScheduler setting learning rate to 0.0002453047.\n",
            "390/390 [==============================] - 86s 219ms/step - loss: 0.5836 - acc: 0.8026 - val_loss: 0.5447 - val_acc: 0.8225\n",
            "\n",
            "Epoch 00056: val_acc did not improve from 0.83120\n",
            "Epoch 57/60\n",
            "\n",
            "Epoch 00057: LearningRateScheduler setting learning rate to 0.0002412545.\n",
            "390/390 [==============================] - 86s 220ms/step - loss: 0.5704 - acc: 0.8065 - val_loss: 0.5427 - val_acc: 0.8213\n",
            "\n",
            "Epoch 00057: val_acc did not improve from 0.83120\n",
            "Epoch 58/60\n",
            "\n",
            "Epoch 00058: LearningRateScheduler setting learning rate to 0.0002373359.\n",
            "390/390 [==============================] - 86s 222ms/step - loss: 0.5701 - acc: 0.8060 - val_loss: 0.5433 - val_acc: 0.8240\n",
            "\n",
            "Epoch 00058: val_acc did not improve from 0.83120\n",
            "Epoch 59/60\n",
            "\n",
            "Epoch 00059: LearningRateScheduler setting learning rate to 0.0002335425.\n",
            "390/390 [==============================] - 86s 222ms/step - loss: 0.5557 - acc: 0.8126 - val_loss: 0.5382 - val_acc: 0.8269\n",
            "\n",
            "Epoch 00059: val_acc did not improve from 0.83120\n",
            "Epoch 60/60\n",
            "\n",
            "Epoch 00060: LearningRateScheduler setting learning rate to 0.0002298685.\n",
            "390/390 [==============================] - 86s 220ms/step - loss: 0.5525 - acc: 0.8119 - val_loss: 0.5136 - val_acc: 0.8279\n",
            "\n",
            "Epoch 00060: val_acc did not improve from 0.83120\n",
            "Model took 858.45 seconds to train\n"
          ],
          "name": "stdout"
        },
        {
          "output_type": "display_data",
          "data": {
            "image/png": "[encoded data removed]",
            "text/plain": [
              "<Figure size 1080x360 with 2 Axes>"
            ]
          },
          "metadata": {
            "tags": []
          }
        },
        {
          "output_type": "stream",
          "text": [
            "Accuracy on test data is: 82.79\n"
          ],
          "name": "stdout"
        }
      ]
    },
    {
      "cell_type": "code",
      "metadata": {
        "colab_type": "code",
        "outputId": "86910c47-6ea4-4a19-b822-a8935f3795f3",
        "id": "4iechOlvp-uH",
        "colab": {
          "base_uri": "https://localhost:8080/",
          "height": 341
        }
      },
      "source": [
        "model.load_weights('weights_a3_4.best.hdf5')\n",
        "print (\"Accuracy on test data is: %0.2f\"%accuracy(test_features, test_labels, model))"
      ],
      "execution_count": 0,
      "outputs": [
        {
          "output_type": "error",
          "ename": "ValueError",
          "evalue": "ignored",
          "traceback": [
            "\u001b[0;31m---------------------------------------------------------------------------\u001b[0m",
            "\u001b[0;31mValueError\u001b[0m                                Traceback (most recent call last)",
            "\u001b[0;32m<ipython-input-150-9a59fb0c0db7>\u001b[0m in \u001b[0;36m<module>\u001b[0;34m()\u001b[0m\n\u001b[0;32m----> 1\u001b[0;31m \u001b[0mmodel\u001b[0m\u001b[0;34m.\u001b[0m\u001b[0mload_weights\u001b[0m\u001b[0;34m(\u001b[0m\u001b[0;34m'weights_a3_4.best.hdf5'\u001b[0m\u001b[0;34m)\u001b[0m\u001b[0;34m\u001b[0m\u001b[0;34m\u001b[0m\u001b[0m\n\u001b[0m\u001b[1;32m      2\u001b[0m \u001b[0mprint\u001b[0m \u001b[0;34m(\u001b[0m\u001b[0;34m\"Accuracy on test data is: %0.2f\"\u001b[0m\u001b[0;34m%\u001b[0m\u001b[0maccuracy\u001b[0m\u001b[0;34m(\u001b[0m\u001b[0mtest_features\u001b[0m\u001b[0;34m,\u001b[0m \u001b[0mtest_labels\u001b[0m\u001b[0;34m,\u001b[0m \u001b[0mmodel\u001b[0m\u001b[0;34m)\u001b[0m\u001b[0;34m)\u001b[0m\u001b[0;34m\u001b[0m\u001b[0;34m\u001b[0m\u001b[0m\n",
            "\u001b[0;32m/usr/local/lib/python3.6/dist-packages/keras/engine/saving.py\u001b[0m in \u001b[0;36mload_wrapper\u001b[0;34m(*args, **kwargs)\u001b[0m\n\u001b[1;32m    456\u001b[0m                 \u001b[0mos\u001b[0m\u001b[0;34m.\u001b[0m\u001b[0mremove\u001b[0m\u001b[0;34m(\u001b[0m\u001b[0mtmp_filepath\u001b[0m\u001b[0;34m)\u001b[0m\u001b[0;34m\u001b[0m\u001b[0;34m\u001b[0m\u001b[0m\n\u001b[1;32m    457\u001b[0m             \u001b[0;32mreturn\u001b[0m \u001b[0mres\u001b[0m\u001b[0;34m\u001b[0m\u001b[0;34m\u001b[0m\u001b[0m\n\u001b[0;32m--> 458\u001b[0;31m         \u001b[0;32mreturn\u001b[0m \u001b[0mload_function\u001b[0m\u001b[0;34m(\u001b[0m\u001b[0;34m*\u001b[0m\u001b[0margs\u001b[0m\u001b[0;34m,\u001b[0m \u001b[0;34m**\u001b[0m\u001b[0mkwargs\u001b[0m\u001b[0;34m)\u001b[0m\u001b[0;34m\u001b[0m\u001b[0;34m\u001b[0m\u001b[0m\n\u001b[0m\u001b[1;32m    459\u001b[0m \u001b[0;34m\u001b[0m\u001b[0m\n\u001b[1;32m    460\u001b[0m     \u001b[0;32mreturn\u001b[0m \u001b[0mload_wrapper\u001b[0m\u001b[0;34m\u001b[0m\u001b[0;34m\u001b[0m\u001b[0m\n",
            "\u001b[0;32m/usr/local/lib/python3.6/dist-packages/keras/engine/network.py\u001b[0m in \u001b[0;36mload_weights\u001b[0;34m(self, filepath, by_name, skip_mismatch, reshape)\u001b[0m\n\u001b[1;32m   1215\u001b[0m             \u001b[0;32melse\u001b[0m\u001b[0;34m:\u001b[0m\u001b[0;34m\u001b[0m\u001b[0;34m\u001b[0m\u001b[0m\n\u001b[1;32m   1216\u001b[0m                 saving.load_weights_from_hdf5_group(\n\u001b[0;32m-> 1217\u001b[0;31m                     f, self.layers, reshape=reshape)\n\u001b[0m\u001b[1;32m   1218\u001b[0m             \u001b[0;32mif\u001b[0m \u001b[0mhasattr\u001b[0m\u001b[0;34m(\u001b[0m\u001b[0mf\u001b[0m\u001b[0;34m,\u001b[0m \u001b[0;34m'close'\u001b[0m\u001b[0;34m)\u001b[0m\u001b[0;34m:\u001b[0m\u001b[0;34m\u001b[0m\u001b[0;34m\u001b[0m\u001b[0m\n\u001b[1;32m   1219\u001b[0m                 \u001b[0mf\u001b[0m\u001b[0;34m.\u001b[0m\u001b[0mclose\u001b[0m\u001b[0;34m(\u001b[0m\u001b[0;34m)\u001b[0m\u001b[0;34m\u001b[0m\u001b[0;34m\u001b[0m\u001b[0m\n",
            "\u001b[0;32m/usr/local/lib/python3.6/dist-packages/keras/engine/saving.py\u001b[0m in \u001b[0;36mload_weights_from_hdf5_group\u001b[0;34m(f, layers, reshape)\u001b[0m\n\u001b[1;32m   1169\u001b[0m                          \u001b[0;34m'containing '\u001b[0m \u001b[0;34m+\u001b[0m \u001b[0mstr\u001b[0m\u001b[0;34m(\u001b[0m\u001b[0mlen\u001b[0m\u001b[0;34m(\u001b[0m\u001b[0mlayer_names\u001b[0m\u001b[0;34m)\u001b[0m\u001b[0;34m)\u001b[0m \u001b[0;34m+\u001b[0m\u001b[0;34m\u001b[0m\u001b[0;34m\u001b[0m\u001b[0m\n\u001b[1;32m   1170\u001b[0m                          \u001b[0;34m' layers into a model with '\u001b[0m \u001b[0;34m+\u001b[0m\u001b[0;34m\u001b[0m\u001b[0;34m\u001b[0m\u001b[0m\n\u001b[0;32m-> 1171\u001b[0;31m                          str(len(filtered_layers)) + ' layers.')\n\u001b[0m\u001b[1;32m   1172\u001b[0m \u001b[0;34m\u001b[0m\u001b[0m\n\u001b[1;32m   1173\u001b[0m     \u001b[0;31m# We batch weight value assignments in a single backend call\u001b[0m\u001b[0;34m\u001b[0m\u001b[0;34m\u001b[0m\u001b[0;34m\u001b[0m\u001b[0m\n",
            "\u001b[0;31mValueError\u001b[0m: You are trying to load a weight file containing 18 layers into a model with 9 layers."
          ]
        }
      ]
    },
    {
      "cell_type": "markdown",
      "metadata": {
        "id": "h9cSQEeVE9wE",
        "colab_type": "text"
      },
      "source": [
        ""
      ]
    },
    {
      "cell_type": "markdown",
      "metadata": {
        "colab_type": "text",
        "id": "BNy28cd8E-Ht"
      },
      "source": [
        "### Network Approach: 5B (Final and Finetuned Network)"
      ]
    },
    {
      "cell_type": "markdown",
      "metadata": {
        "colab_type": "text",
        "id": "1qElyv4bE-II"
      },
      "source": [
        "**Further Finetune Strategy Used**:\n",
        "- Used the baseline network and converted all convolution to depthwise separable convolution\n",
        "- Have removed the first Max Pooling with Depthwise separable convolution and dilated rate of3\n",
        "- Removed Dense Network and replaced GAP\n"
      ]
    },
    {
      "cell_type": "code",
      "metadata": {
        "colab_type": "code",
        "outputId": "b0624b55-8796-401f-ca86-0a9ecc22f175",
        "id": "g_3Q1EWCE-Ic",
        "colab": {
          "base_uri": "https://localhost:8080/",
          "height": 237
        }
      },
      "source": [
        "# Define the model\n",
        "## Output : (None, 32, 32, 96) \n",
        "## RF 7\n",
        "# Define the model\n",
        "model = Sequential()\n",
        "model.add(SeparableConv2D(48, 3, 3, border_mode='same', input_shape=(32, 32, 3)))\n",
        "model.add(BatchNormalization())\n",
        "model.add(Activation('relu'))\n",
        "## OP: (None, 32, 32, 48)\n",
        "## RF: 3\n",
        "\n",
        "model.add(SeparableConv2D(48, 3, 3))\n",
        "model.add(BatchNormalization())\n",
        "model.add(Activation('relu'))\n",
        "## Output : (None, 30, 30, 48) \n",
        "## RF: 5\n",
        "\n",
        "# model.add(MaxPooling2D(pool_size=(2, 2)))\n",
        "# model.add(SeparableConv2D(48, 3, 3),dilation_rate=(3, 3)))\n",
        "model.add(SeparableConv2D(filters=48, kernel_size=(3, 3), dilation_rate=(2, 2),border_mode='valid'))\n",
        "model.add(BatchNormalization())\n",
        "model.add(Activation('relu'))\n",
        "## Output: (None, 26, 26, 48)\n",
        "## RF: 9\n",
        "\n",
        "model.add(Dropout(0.25))\n",
        "\n",
        "model.add(SeparableConv2D(96, 3, 3, border_mode='same'))\n",
        "model.add(BatchNormalization())\n",
        "model.add(Activation('relu'))\n",
        "## Output: (None, 26, 26, 96)\n",
        "## RF: 11\n",
        "\n",
        "model.add(SeparableConv2D(96, 3, 3))\n",
        "model.add(BatchNormalization())\n",
        "model.add(Activation('relu'))\n",
        "## Output (None, 24, 24, 96)\n",
        "## RF: 13\n",
        "\n",
        "model.add(MaxPooling2D(pool_size=(2, 2)))\n",
        "model.add(BatchNormalization())\n",
        "model.add(Dropout(0.25))\n",
        "## Output (None, 12, 12, 96)\n",
        "## RF: 15\n",
        "\n",
        "model.add(SeparableConv2D(192, 3, 3, border_mode='same'))\n",
        "model.add(BatchNormalization())\n",
        "model.add(Activation('relu'))\n",
        "## Output : (None, 12, 12, 192)\n",
        "## RF: 17\n",
        "\n",
        "model.add(SeparableConv2D(192, 3, 3))\n",
        "model.add(BatchNormalization())\n",
        "model.add(Activation('relu'))\n",
        "## Output (None, 10, 10, 192)\n",
        "## RF: 19\n",
        "\n",
        "model.add(MaxPooling2D(pool_size=(2, 2)))\n",
        "## output (None, 5, 5, 192)\n",
        "## RF: 38\n",
        "\n",
        "model.add(Dropout(0.25))\n",
        "\n",
        "model.add(SeparableConv2D(filters=10, kernel_size=(3, 3), dilation_rate=(2, 2),border_mode='same'))\n",
        "model.add(BatchNormalization())\n",
        "## output (None, 5, 5, 10)\n",
        "## RF: 42\n",
        "\n",
        "model.add(GlobalAveragePooling2D())\n",
        "\n",
        "model.add(Dense(num_classes, activation='softmax'))\n",
        "# Compile the model\n",
        "model.compile(optimizer='adam', loss='categorical_crossentropy', metrics=['accuracy'])\n"
      ],
      "execution_count": 33,
      "outputs": [
        {
          "output_type": "stream",
          "text": [
            "/usr/local/lib/python3.6/dist-packages/ipykernel_launcher.py:2: UserWarning: Update your `SeparableConv2D` call to the Keras 2 API: `SeparableConv2D(48, (3, 3), input_shape=(32, 32, 3..., padding=\"same\")`\n",
            "  \n",
            "/usr/local/lib/python3.6/dist-packages/ipykernel_launcher.py:6: UserWarning: Update your `SeparableConv2D` call to the Keras 2 API: `SeparableConv2D(48, (3, 3))`\n",
            "  \n",
            "/usr/local/lib/python3.6/dist-packages/ipykernel_launcher.py:12: UserWarning: Update your `SeparableConv2D` call to the Keras 2 API: `SeparableConv2D(filters=48, kernel_size=(3, 3), dilation_rate=(2, 2), padding=\"valid\")`\n",
            "  if sys.path[0] == '':\n",
            "/usr/local/lib/python3.6/dist-packages/ipykernel_launcher.py:19: UserWarning: Update your `SeparableConv2D` call to the Keras 2 API: `SeparableConv2D(96, (3, 3), padding=\"same\")`\n",
            "/usr/local/lib/python3.6/dist-packages/ipykernel_launcher.py:23: UserWarning: Update your `SeparableConv2D` call to the Keras 2 API: `SeparableConv2D(96, (3, 3))`\n",
            "/usr/local/lib/python3.6/dist-packages/ipykernel_launcher.py:31: UserWarning: Update your `SeparableConv2D` call to the Keras 2 API: `SeparableConv2D(192, (3, 3), padding=\"same\")`\n",
            "/usr/local/lib/python3.6/dist-packages/ipykernel_launcher.py:35: UserWarning: Update your `SeparableConv2D` call to the Keras 2 API: `SeparableConv2D(192, (3, 3))`\n",
            "/usr/local/lib/python3.6/dist-packages/ipykernel_launcher.py:43: UserWarning: Update your `SeparableConv2D` call to the Keras 2 API: `SeparableConv2D(filters=10, kernel_size=(3, 3), dilation_rate=(2, 2), padding=\"same\")`\n"
          ],
          "name": "stderr"
        }
      ]
    },
    {
      "cell_type": "code",
      "metadata": {
        "id": "4E4AGe__G5W8",
        "colab_type": "code",
        "colab": {
          "base_uri": "https://localhost:8080/",
          "height": 1000
        },
        "outputId": "fa34e903-d31e-4a0e-92f3-e6d0afc0ffb0"
      },
      "source": [
        "model.summary()"
      ],
      "execution_count": 34,
      "outputs": [
        {
          "output_type": "stream",
          "text": [
            "Model: \"sequential_4\"\n",
            "_________________________________________________________________\n",
            "Layer (type)                 Output Shape              Param #   \n",
            "=================================================================\n",
            "separable_conv2d_22 (Separab (None, 32, 32, 48)        219       \n",
            "_________________________________________________________________\n",
            "batch_normalization_16 (Batc (None, 32, 32, 48)        192       \n",
            "_________________________________________________________________\n",
            "activation_19 (Activation)   (None, 32, 32, 48)        0         \n",
            "_________________________________________________________________\n",
            "separable_conv2d_23 (Separab (None, 30, 30, 48)        2784      \n",
            "_________________________________________________________________\n",
            "batch_normalization_17 (Batc (None, 30, 30, 48)        192       \n",
            "_________________________________________________________________\n",
            "activation_20 (Activation)   (None, 30, 30, 48)        0         \n",
            "_________________________________________________________________\n",
            "separable_conv2d_24 (Separab (None, 26, 26, 48)        2784      \n",
            "_________________________________________________________________\n",
            "batch_normalization_18 (Batc (None, 26, 26, 48)        192       \n",
            "_________________________________________________________________\n",
            "activation_21 (Activation)   (None, 26, 26, 48)        0         \n",
            "_________________________________________________________________\n",
            "dropout_9 (Dropout)          (None, 26, 26, 48)        0         \n",
            "_________________________________________________________________\n",
            "separable_conv2d_25 (Separab (None, 26, 26, 96)        5136      \n",
            "_________________________________________________________________\n",
            "batch_normalization_19 (Batc (None, 26, 26, 96)        384       \n",
            "_________________________________________________________________\n",
            "activation_22 (Activation)   (None, 26, 26, 96)        0         \n",
            "_________________________________________________________________\n",
            "separable_conv2d_26 (Separab (None, 24, 24, 96)        10176     \n",
            "_________________________________________________________________\n",
            "batch_normalization_20 (Batc (None, 24, 24, 96)        384       \n",
            "_________________________________________________________________\n",
            "activation_23 (Activation)   (None, 24, 24, 96)        0         \n",
            "_________________________________________________________________\n",
            "max_pooling2d_6 (MaxPooling2 (None, 12, 12, 96)        0         \n",
            "_________________________________________________________________\n",
            "batch_normalization_21 (Batc (None, 12, 12, 96)        384       \n",
            "_________________________________________________________________\n",
            "dropout_10 (Dropout)         (None, 12, 12, 96)        0         \n",
            "_________________________________________________________________\n",
            "separable_conv2d_27 (Separab (None, 12, 12, 192)       19488     \n",
            "_________________________________________________________________\n",
            "batch_normalization_22 (Batc (None, 12, 12, 192)       768       \n",
            "_________________________________________________________________\n",
            "activation_24 (Activation)   (None, 12, 12, 192)       0         \n",
            "_________________________________________________________________\n",
            "separable_conv2d_28 (Separab (None, 10, 10, 192)       38784     \n",
            "_________________________________________________________________\n",
            "batch_normalization_23 (Batc (None, 10, 10, 192)       768       \n",
            "_________________________________________________________________\n",
            "activation_25 (Activation)   (None, 10, 10, 192)       0         \n",
            "_________________________________________________________________\n",
            "max_pooling2d_7 (MaxPooling2 (None, 5, 5, 192)         0         \n",
            "_________________________________________________________________\n",
            "dropout_11 (Dropout)         (None, 5, 5, 192)         0         \n",
            "_________________________________________________________________\n",
            "separable_conv2d_29 (Separab (None, 5, 5, 10)          3658      \n",
            "_________________________________________________________________\n",
            "batch_normalization_24 (Batc (None, 5, 5, 10)          40        \n",
            "_________________________________________________________________\n",
            "global_average_pooling2d_4 ( (None, 10)                0         \n",
            "_________________________________________________________________\n",
            "dense_4 (Dense)              (None, 10)                110       \n",
            "=================================================================\n",
            "Total params: 86,443\n",
            "Trainable params: 84,791\n",
            "Non-trainable params: 1,652\n",
            "_________________________________________________________________\n"
          ],
          "name": "stdout"
        }
      ]
    },
    {
      "cell_type": "code",
      "metadata": {
        "id": "in_iyRJCGVvu",
        "colab_type": "code",
        "colab": {}
      },
      "source": [
        "from keras.callbacks import LearningRateScheduler\n",
        "from keras.callbacks import ModelCheckpoint\n",
        "from keras.callbacks import ReduceLROnPlateau\n",
        "\n",
        "def scheduler(epoch, lr):\n",
        "  return round(0.032 * 1/(1 + 0.219 * epoch), 10)\n",
        "\n",
        "# keras.callbacks.callbacks.ReduceLROnPlateau(monitor='val_loss', factor=0.1, patience=10, verbose=0, mode='auto', min_delta=0.0001, cooldown=0, min_lr=0)\n",
        "# reduce_lr = ReduceLROnPlateau(monitor='val_loss', factor=0.005,\n",
        "#                               patience=1, cooldown =1, min_lr=0.0001)\n",
        "## Adam(lr=0.001,decay=0, beta_1=0.9, beta_2=0.999, epsilon=1e-08)\n",
        "filepath=\"weights_a3_5B.best.hdf5\"\n",
        "checkpoint = ModelCheckpoint(filepath, monitor='val_acc', verbose=1, save_best_only=True, mode='max')\n",
        "# callbacks_list = [checkpoint]"
      ],
      "execution_count": 0,
      "outputs": []
    },
    {
      "cell_type": "code",
      "metadata": {
        "id": "RHBEQL9DGabJ",
        "colab_type": "code",
        "colab": {}
      },
      "source": [
        "from keras.preprocessing.image import ImageDataGenerator\n",
        "\n",
        "datagen = ImageDataGenerator(zoom_range=0.25,rotation_range=0, \n",
        "                             horizontal_flip=False,\n",
        "                             vertical_flip=False)\n",
        "\n",
        "datagen = ImageDataGenerator()\n",
        "# datagen = ImageDataGenerator(preprocessing_function=images_aug)"
      ],
      "execution_count": 0,
      "outputs": []
    },
    {
      "cell_type": "code",
      "metadata": {
        "id": "drIM75C7GfrE",
        "colab_type": "code",
        "colab": {
          "base_uri": "https://localhost:8080/",
          "height": 1000
        },
        "outputId": "8165c8be-35bd-428c-8c59-16a036a92257"
      },
      "source": [
        "# train the model\n",
        "start = time.time()\n",
        "# Train the model\n",
        "model_info = model.fit_generator(datagen.flow(train_features, train_labels, batch_size = 128),\n",
        "                                 samples_per_epoch = train_features.shape[0], nb_epoch = 20,\n",
        "                                 callbacks=[checkpoint,LearningRateScheduler(scheduler, verbose=1)],\n",
        "                                #  callbacks=[checkpoint, LearningRateScheduler(scheduler, verbose=1)], \n",
        "                                 validation_data = (test_features, test_labels), verbose=1)\n",
        "end = time.time()\n",
        "print (\"Model took %0.2f seconds to train\"%(end - start))\n",
        "# plot model history\n",
        "plot_model_history(model_info)\n",
        "# compute test accuracy\n",
        "print (\"Accuracy on test data is: %0.2f\"%accuracy(test_features, test_labels, model))"
      ],
      "execution_count": 37,
      "outputs": [
        {
          "output_type": "stream",
          "text": [
            "/usr/local/lib/python3.6/dist-packages/ipykernel_launcher.py:7: UserWarning: The semantics of the Keras 2 argument `steps_per_epoch` is not the same as the Keras 1 argument `samples_per_epoch`. `steps_per_epoch` is the number of batches to draw from the generator at each epoch. Basically steps_per_epoch = samples_per_epoch/batch_size. Similarly `nb_val_samples`->`validation_steps` and `val_samples`->`steps` arguments have changed. Update your method calls accordingly.\n",
            "  import sys\n",
            "/usr/local/lib/python3.6/dist-packages/ipykernel_launcher.py:7: UserWarning: Update your `fit_generator` call to the Keras 2 API: `fit_generator(<keras_pre..., callbacks=[<keras.ca..., validation_data=(array([[[..., verbose=1, steps_per_epoch=390, epochs=20)`\n",
            "  import sys\n"
          ],
          "name": "stderr"
        },
        {
          "output_type": "stream",
          "text": [
            "Epoch 1/20\n",
            "\n",
            "Epoch 00001: LearningRateScheduler setting learning rate to 0.032.\n",
            "390/390 [==============================] - 61s 157ms/step - loss: 1.5698 - acc: 0.4127 - val_loss: 4.3453 - val_acc: 0.3043\n",
            "\n",
            "Epoch 00001: val_acc improved from -inf to 0.30430, saving model to weights_a3_5B.best.hdf5\n",
            "Epoch 2/20\n",
            "\n",
            "Epoch 00002: LearningRateScheduler setting learning rate to 0.0262510254.\n",
            "390/390 [==============================] - 56s 143ms/step - loss: 1.1465 - acc: 0.5868 - val_loss: 1.9577 - val_acc: 0.5078\n",
            "\n",
            "Epoch 00002: val_acc improved from 0.30430 to 0.50780, saving model to weights_a3_5B.best.hdf5\n",
            "Epoch 3/20\n",
            "\n",
            "Epoch 00003: LearningRateScheduler setting learning rate to 0.0222531293.\n",
            "390/390 [==============================] - 56s 142ms/step - loss: 0.9530 - acc: 0.6603 - val_loss: 1.5015 - val_acc: 0.5322\n",
            "\n",
            "Epoch 00003: val_acc improved from 0.50780 to 0.53220, saving model to weights_a3_5B.best.hdf5\n",
            "Epoch 4/20\n",
            "\n",
            "Epoch 00004: LearningRateScheduler setting learning rate to 0.0193120097.\n",
            "390/390 [==============================] - 56s 143ms/step - loss: 0.8410 - acc: 0.7034 - val_loss: 1.4065 - val_acc: 0.5736\n",
            "\n",
            "Epoch 00004: val_acc improved from 0.53220 to 0.57360, saving model to weights_a3_5B.best.hdf5\n",
            "Epoch 5/20\n",
            "\n",
            "Epoch 00005: LearningRateScheduler setting learning rate to 0.0170575693.\n",
            "390/390 [==============================] - 56s 142ms/step - loss: 0.7583 - acc: 0.7338 - val_loss: 1.0983 - val_acc: 0.6529\n",
            "\n",
            "Epoch 00005: val_acc improved from 0.57360 to 0.65290, saving model to weights_a3_5B.best.hdf5\n",
            "Epoch 6/20\n",
            "\n",
            "Epoch 00006: LearningRateScheduler setting learning rate to 0.015274463.\n",
            "390/390 [==============================] - 56s 143ms/step - loss: 0.7001 - acc: 0.7539 - val_loss: 0.8787 - val_acc: 0.7027\n",
            "\n",
            "Epoch 00006: val_acc improved from 0.65290 to 0.70270, saving model to weights_a3_5B.best.hdf5\n",
            "Epoch 7/20\n",
            "\n",
            "Epoch 00007: LearningRateScheduler setting learning rate to 0.0138288678.\n",
            "390/390 [==============================] - 56s 143ms/step - loss: 0.6389 - acc: 0.7765 - val_loss: 1.0562 - val_acc: 0.6628\n",
            "\n",
            "Epoch 00007: val_acc did not improve from 0.70270\n",
            "Epoch 8/20\n",
            "\n",
            "Epoch 00008: LearningRateScheduler setting learning rate to 0.0126332412.\n",
            "390/390 [==============================] - 56s 143ms/step - loss: 0.6003 - acc: 0.7893 - val_loss: 0.7048 - val_acc: 0.7646\n",
            "\n",
            "Epoch 00008: val_acc improved from 0.70270 to 0.76460, saving model to weights_a3_5B.best.hdf5\n",
            "Epoch 9/20\n",
            "\n",
            "Epoch 00009: LearningRateScheduler setting learning rate to 0.011627907.\n",
            "390/390 [==============================] - 56s 143ms/step - loss: 0.5604 - acc: 0.8039 - val_loss: 0.6630 - val_acc: 0.7721\n",
            "\n",
            "Epoch 00009: val_acc improved from 0.76460 to 0.77210, saving model to weights_a3_5B.best.hdf5\n",
            "Epoch 10/20\n",
            "\n",
            "Epoch 00010: LearningRateScheduler setting learning rate to 0.0107707842.\n",
            "390/390 [==============================] - 55s 142ms/step - loss: 0.5298 - acc: 0.8139 - val_loss: 0.6971 - val_acc: 0.7606\n",
            "\n",
            "Epoch 00010: val_acc did not improve from 0.77210\n",
            "Epoch 11/20\n",
            "\n",
            "Epoch 00011: LearningRateScheduler setting learning rate to 0.010031348.\n",
            "390/390 [==============================] - 56s 143ms/step - loss: 0.5024 - acc: 0.8260 - val_loss: 0.7219 - val_acc: 0.7597\n",
            "\n",
            "Epoch 00011: val_acc did not improve from 0.77210\n",
            "Epoch 12/20\n",
            "\n",
            "Epoch 00012: LearningRateScheduler setting learning rate to 0.009386917.\n",
            "390/390 [==============================] - 56s 143ms/step - loss: 0.4742 - acc: 0.8353 - val_loss: 0.5881 - val_acc: 0.7996\n",
            "\n",
            "Epoch 00012: val_acc improved from 0.77210 to 0.79960, saving model to weights_a3_5B.best.hdf5\n",
            "Epoch 13/20\n",
            "\n",
            "Epoch 00013: LearningRateScheduler setting learning rate to 0.0088202867.\n",
            "390/390 [==============================] - 56s 142ms/step - loss: 0.4482 - acc: 0.8434 - val_loss: 0.6737 - val_acc: 0.7844\n",
            "\n",
            "Epoch 00013: val_acc did not improve from 0.79960\n",
            "Epoch 14/20\n",
            "\n",
            "Epoch 00014: LearningRateScheduler setting learning rate to 0.00831817.\n",
            "390/390 [==============================] - 56s 142ms/step - loss: 0.4374 - acc: 0.8482 - val_loss: 0.6564 - val_acc: 0.7826\n",
            "\n",
            "Epoch 00014: val_acc did not improve from 0.79960\n",
            "Epoch 15/20\n",
            "\n",
            "Epoch 00015: LearningRateScheduler setting learning rate to 0.0078701426.\n",
            "390/390 [==============================] - 56s 142ms/step - loss: 0.4158 - acc: 0.8540 - val_loss: 0.6355 - val_acc: 0.7886\n",
            "\n",
            "Epoch 00015: val_acc did not improve from 0.79960\n",
            "Epoch 16/20\n",
            "\n",
            "Epoch 00016: LearningRateScheduler setting learning rate to 0.0074679113.\n",
            "390/390 [==============================] - 56s 143ms/step - loss: 0.3971 - acc: 0.8612 - val_loss: 0.5953 - val_acc: 0.8089\n",
            "\n",
            "Epoch 00016: val_acc improved from 0.79960 to 0.80890, saving model to weights_a3_5B.best.hdf5\n",
            "Epoch 17/20\n",
            "\n",
            "Epoch 00017: LearningRateScheduler setting learning rate to 0.0071047957.\n",
            "390/390 [==============================] - 55s 142ms/step - loss: 0.3798 - acc: 0.8644 - val_loss: 0.5967 - val_acc: 0.8051\n",
            "\n",
            "Epoch 00017: val_acc did not improve from 0.80890\n",
            "Epoch 18/20\n",
            "\n",
            "Epoch 00018: LearningRateScheduler setting learning rate to 0.0067753546.\n",
            "390/390 [==============================] - 56s 143ms/step - loss: 0.3686 - acc: 0.8692 - val_loss: 0.5987 - val_acc: 0.8055\n",
            "\n",
            "Epoch 00018: val_acc did not improve from 0.80890\n",
            "Epoch 19/20\n",
            "\n",
            "Epoch 00019: LearningRateScheduler setting learning rate to 0.0064751113.\n",
            "390/390 [==============================] - 56s 142ms/step - loss: 0.3549 - acc: 0.8750 - val_loss: 0.5544 - val_acc: 0.8187\n",
            "\n",
            "Epoch 00019: val_acc improved from 0.80890 to 0.81870, saving model to weights_a3_5B.best.hdf5\n",
            "Epoch 20/20\n",
            "\n",
            "Epoch 00020: LearningRateScheduler setting learning rate to 0.0062003488.\n",
            "390/390 [==============================] - 56s 143ms/step - loss: 0.3433 - acc: 0.8776 - val_loss: 0.5646 - val_acc: 0.8170\n",
            "\n",
            "Epoch 00020: val_acc did not improve from 0.81870\n",
            "Model took 1125.46 seconds to train\n"
          ],
          "name": "stdout"
        },
        {
          "output_type": "display_data",
          "data": {
            "image/png": "[encoded data removed]",
            "text/plain": [
              "<Figure size 1080x360 with 2 Axes>"
            ]
          },
          "metadata": {
            "tags": []
          }
        },
        {
          "output_type": "stream",
          "text": [
            "Accuracy on test data is: 81.70\n"
          ],
          "name": "stdout"
        }
      ]
    },
    {
      "cell_type": "code",
      "metadata": {
        "id": "mJtfntcEPqUD",
        "colab_type": "code",
        "colab": {
          "base_uri": "https://localhost:8080/",
          "height": 35
        },
        "outputId": "068bd318-2487-4a0f-abec-564b6a436bff"
      },
      "source": [
        "model.load_weights('weights_a3_5B.best.hdf5')\n",
        "print (\"Accuracy on test data is: %0.2f\"%accuracy(test_features, test_labels, model))"
      ],
      "execution_count": 38,
      "outputs": [
        {
          "output_type": "stream",
          "text": [
            "Accuracy on test data is: 81.87\n"
          ],
          "name": "stdout"
        }
      ]
    },
    {
      "cell_type": "code",
      "metadata": {
        "id": "10Ncs8oqP6CA",
        "colab_type": "code",
        "colab": {}
      },
      "source": [
        "from keras.preprocessing.image import ImageDataGenerator\n",
        "\n",
        "datagen = ImageDataGenerator(zoom_range=0.25,rotation_range=0, \n",
        "                             horizontal_flip=False,\n",
        "                             vertical_flip=False)\n",
        "\n",
        "datagen = ImageDataGenerator()"
      ],
      "execution_count": 0,
      "outputs": []
    },
    {
      "cell_type": "code",
      "metadata": {
        "id": "EDSSAnIgP0-j",
        "colab_type": "code",
        "colab": {
          "base_uri": "https://localhost:8080/",
          "height": 1000
        },
        "outputId": "458f3080-3a68-4eda-b47d-45f08ffbec44"
      },
      "source": [
        "start = time.time()\n",
        "# Train the model\n",
        "model_info = model.fit_generator(datagen.flow(train_features, train_labels, batch_size = 128),\n",
        "                                 samples_per_epoch = train_features.shape[0], initial_epoch = 20, nb_epoch = 50,\n",
        "                                 callbacks=[checkpoint,LearningRateScheduler(scheduler, verbose=1)],\n",
        "                                #  callbacks=[checkpoint,LearningRateScheduler(scheduler, verbose=1)],\n",
        "                                #  callbacks=[checkpoint, LearningRateScheduler(scheduler, verbose=1)], \n",
        "                                 validation_data = (test_features, test_labels), verbose=1)\n",
        "end = time.time()\n",
        "print (\"Model took %0.2f seconds to train\"%(end - start))\n",
        "# plot model history\n",
        "plot_model_history(model_info)\n",
        "# compute test accuracy\n",
        "print (\"Accuracy on test data is: %0.2f\"%accuracy(test_features, test_labels, model))"
      ],
      "execution_count": 39,
      "outputs": [
        {
          "output_type": "stream",
          "text": [
            "Epoch 21/50\n",
            "\n",
            "Epoch 00021: LearningRateScheduler setting learning rate to 0.0059479554.\n",
            "\r  1/390 [..............................] - ETA: 57s - loss: 0.3023 - acc: 0.8984"
          ],
          "name": "stdout"
        },
        {
          "output_type": "stream",
          "text": [
            "/usr/local/lib/python3.6/dist-packages/ipykernel_launcher.py:8: UserWarning: The semantics of the Keras 2 argument `steps_per_epoch` is not the same as the Keras 1 argument `samples_per_epoch`. `steps_per_epoch` is the number of batches to draw from the generator at each epoch. Basically steps_per_epoch = samples_per_epoch/batch_size. Similarly `nb_val_samples`->`validation_steps` and `val_samples`->`steps` arguments have changed. Update your method calls accordingly.\n",
            "  \n",
            "/usr/local/lib/python3.6/dist-packages/ipykernel_launcher.py:8: UserWarning: Update your `fit_generator` call to the Keras 2 API: `fit_generator(<keras_pre..., initial_epoch=20, callbacks=[<keras.ca..., validation_data=(array([[[..., verbose=1, steps_per_epoch=390, epochs=50)`\n",
            "  \n"
          ],
          "name": "stderr"
        },
        {
          "output_type": "stream",
          "text": [
            "390/390 [==============================] - 56s 143ms/step - loss: 0.3355 - acc: 0.8818 - val_loss: 0.6353 - val_acc: 0.7969\n",
            "\n",
            "Epoch 00021: val_acc did not improve from 0.81870\n",
            "Epoch 22/50\n",
            "\n",
            "Epoch 00022: LearningRateScheduler setting learning rate to 0.0057153063.\n",
            "390/390 [==============================] - 56s 144ms/step - loss: 0.3251 - acc: 0.8846 - val_loss: 0.5332 - val_acc: 0.8282\n",
            "\n",
            "Epoch 00022: val_acc improved from 0.81870 to 0.82820, saving model to weights_a3_5B.best.hdf5\n",
            "Epoch 23/50\n",
            "\n",
            "Epoch 00023: LearningRateScheduler setting learning rate to 0.0055001719.\n",
            "390/390 [==============================] - 56s 144ms/step - loss: 0.3193 - acc: 0.8878 - val_loss: 0.5699 - val_acc: 0.8216\n",
            "\n",
            "Epoch 00023: val_acc did not improve from 0.82820\n",
            "Epoch 24/50\n",
            "\n",
            "Epoch 00024: LearningRateScheduler setting learning rate to 0.005300646.\n",
            "390/390 [==============================] - 56s 144ms/step - loss: 0.3106 - acc: 0.8898 - val_loss: 0.5604 - val_acc: 0.8254\n",
            "\n",
            "Epoch 00024: val_acc did not improve from 0.82820\n",
            "Epoch 25/50\n",
            "\n",
            "Epoch 00025: LearningRateScheduler setting learning rate to 0.0051150895.\n",
            "390/390 [==============================] - 56s 143ms/step - loss: 0.2941 - acc: 0.8962 - val_loss: 0.5487 - val_acc: 0.8294\n",
            "\n",
            "Epoch 00025: val_acc improved from 0.82820 to 0.82940, saving model to weights_a3_5B.best.hdf5\n",
            "Epoch 26/50\n",
            "\n",
            "Epoch 00026: LearningRateScheduler setting learning rate to 0.0049420849.\n",
            "390/390 [==============================] - 56s 143ms/step - loss: 0.2953 - acc: 0.8953 - val_loss: 0.5772 - val_acc: 0.8232\n",
            "\n",
            "Epoch 00026: val_acc did not improve from 0.82940\n",
            "Epoch 27/50\n",
            "\n",
            "Epoch 00027: LearningRateScheduler setting learning rate to 0.0047804004.\n",
            "390/390 [==============================] - 56s 144ms/step - loss: 0.2850 - acc: 0.8980 - val_loss: 0.5617 - val_acc: 0.8276\n",
            "\n",
            "Epoch 00027: val_acc did not improve from 0.82940\n",
            "Epoch 28/50\n",
            "\n",
            "Epoch 00028: LearningRateScheduler setting learning rate to 0.0046289599.\n",
            "390/390 [==============================] - 56s 143ms/step - loss: 0.2721 - acc: 0.9030 - val_loss: 0.5595 - val_acc: 0.8297\n",
            "\n",
            "Epoch 00028: val_acc improved from 0.82940 to 0.82970, saving model to weights_a3_5B.best.hdf5\n",
            "Epoch 29/50\n",
            "\n",
            "Epoch 00029: LearningRateScheduler setting learning rate to 0.00448682.\n",
            "390/390 [==============================] - 56s 143ms/step - loss: 0.2703 - acc: 0.9022 - val_loss: 0.5962 - val_acc: 0.8205\n",
            "\n",
            "Epoch 00029: val_acc did not improve from 0.82970\n",
            "Epoch 30/50\n",
            "\n",
            "Epoch 00030: LearningRateScheduler setting learning rate to 0.0043531492.\n",
            "390/390 [==============================] - 56s 144ms/step - loss: 0.2633 - acc: 0.9049 - val_loss: 0.5870 - val_acc: 0.8227\n",
            "\n",
            "Epoch 00030: val_acc did not improve from 0.82970\n",
            "Epoch 31/50\n",
            "\n",
            "Epoch 00031: LearningRateScheduler setting learning rate to 0.0042272127.\n",
            "390/390 [==============================] - 56s 144ms/step - loss: 0.2559 - acc: 0.9083 - val_loss: 0.5390 - val_acc: 0.8363\n",
            "\n",
            "Epoch 00031: val_acc improved from 0.82970 to 0.83630, saving model to weights_a3_5B.best.hdf5\n",
            "Epoch 32/50\n",
            "\n",
            "Epoch 00032: LearningRateScheduler setting learning rate to 0.0041083579.\n",
            "390/390 [==============================] - 56s 144ms/step - loss: 0.2572 - acc: 0.9068 - val_loss: 0.5662 - val_acc: 0.8303\n",
            "\n",
            "Epoch 00032: val_acc did not improve from 0.83630\n",
            "Epoch 33/50\n",
            "\n",
            "Epoch 00033: LearningRateScheduler setting learning rate to 0.003996004.\n",
            "390/390 [==============================] - 56s 143ms/step - loss: 0.2425 - acc: 0.9128 - val_loss: 0.5647 - val_acc: 0.8363\n",
            "\n",
            "Epoch 00033: val_acc did not improve from 0.83630\n",
            "Epoch 34/50\n",
            "\n",
            "Epoch 00034: LearningRateScheduler setting learning rate to 0.0038896317.\n",
            "390/390 [==============================] - 56s 143ms/step - loss: 0.2400 - acc: 0.9123 - val_loss: 0.5550 - val_acc: 0.8368\n",
            "\n",
            "Epoch 00034: val_acc improved from 0.83630 to 0.83680, saving model to weights_a3_5B.best.hdf5\n",
            "Epoch 35/50\n",
            "\n",
            "Epoch 00035: LearningRateScheduler setting learning rate to 0.0037887758.\n",
            "390/390 [==============================] - 56s 144ms/step - loss: 0.2343 - acc: 0.9153 - val_loss: 0.5542 - val_acc: 0.8347\n",
            "\n",
            "Epoch 00035: val_acc did not improve from 0.83680\n",
            "Epoch 36/50\n",
            "\n",
            "Epoch 00036: LearningRateScheduler setting learning rate to 0.0036930179.\n",
            "390/390 [==============================] - 56s 143ms/step - loss: 0.2295 - acc: 0.9169 - val_loss: 0.5598 - val_acc: 0.8349\n",
            "\n",
            "Epoch 00036: val_acc did not improve from 0.83680\n",
            "Epoch 37/50\n",
            "\n",
            "Epoch 00037: LearningRateScheduler setting learning rate to 0.0036019811.\n",
            "390/390 [==============================] - 56s 143ms/step - loss: 0.2302 - acc: 0.9164 - val_loss: 0.5897 - val_acc: 0.8306\n",
            "\n",
            "Epoch 00037: val_acc did not improve from 0.83680\n",
            "Epoch 38/50\n",
            "\n",
            "Epoch 00038: LearningRateScheduler setting learning rate to 0.0035153246.\n",
            "390/390 [==============================] - 56s 144ms/step - loss: 0.2237 - acc: 0.9197 - val_loss: 0.5889 - val_acc: 0.8250\n",
            "\n",
            "Epoch 00038: val_acc did not improve from 0.83680\n",
            "Epoch 39/50\n",
            "\n",
            "Epoch 00039: LearningRateScheduler setting learning rate to 0.0034327398.\n",
            "390/390 [==============================] - 56s 144ms/step - loss: 0.2165 - acc: 0.9226 - val_loss: 0.5821 - val_acc: 0.8311\n",
            "\n",
            "Epoch 00039: val_acc did not improve from 0.83680\n",
            "Epoch 40/50\n",
            "\n",
            "Epoch 00040: LearningRateScheduler setting learning rate to 0.0033539461.\n",
            "390/390 [==============================] - 56s 144ms/step - loss: 0.2121 - acc: 0.9230 - val_loss: 0.5998 - val_acc: 0.8305\n",
            "\n",
            "Epoch 00040: val_acc did not improve from 0.83680\n",
            "Epoch 41/50\n",
            "\n",
            "Epoch 00041: LearningRateScheduler setting learning rate to 0.0032786885.\n",
            "390/390 [==============================] - 56s 144ms/step - loss: 0.2080 - acc: 0.9255 - val_loss: 0.5972 - val_acc: 0.8311\n",
            "\n",
            "Epoch 00041: val_acc did not improve from 0.83680\n",
            "Epoch 42/50\n",
            "\n",
            "Epoch 00042: LearningRateScheduler setting learning rate to 0.0032067341.\n",
            "390/390 [==============================] - 56s 144ms/step - loss: 0.2054 - acc: 0.9261 - val_loss: 0.5794 - val_acc: 0.8365\n",
            "\n",
            "Epoch 00042: val_acc did not improve from 0.83680\n",
            "Epoch 43/50\n",
            "\n",
            "Epoch 00043: LearningRateScheduler setting learning rate to 0.0031378702.\n",
            "390/390 [==============================] - 56s 144ms/step - loss: 0.2016 - acc: 0.9264 - val_loss: 0.6021 - val_acc: 0.8333\n",
            "\n",
            "Epoch 00043: val_acc did not improve from 0.83680\n",
            "Epoch 44/50\n",
            "\n",
            "Epoch 00044: LearningRateScheduler setting learning rate to 0.0030719017.\n",
            "390/390 [==============================] - 56s 144ms/step - loss: 0.1985 - acc: 0.9284 - val_loss: 0.6226 - val_acc: 0.8287\n",
            "\n",
            "Epoch 00044: val_acc did not improve from 0.83680\n",
            "Epoch 45/50\n",
            "\n",
            "Epoch 00045: LearningRateScheduler setting learning rate to 0.0030086499.\n",
            "390/390 [==============================] - 56s 144ms/step - loss: 0.2006 - acc: 0.9269 - val_loss: 0.5808 - val_acc: 0.8377\n",
            "\n",
            "Epoch 00045: val_acc improved from 0.83680 to 0.83770, saving model to weights_a3_5B.best.hdf5\n",
            "Epoch 46/50\n",
            "\n",
            "Epoch 00046: LearningRateScheduler setting learning rate to 0.0029479503.\n",
            "390/390 [==============================] - 56s 143ms/step - loss: 0.1900 - acc: 0.9305 - val_loss: 0.5941 - val_acc: 0.8363\n",
            "\n",
            "Epoch 00046: val_acc did not improve from 0.83770\n",
            "Epoch 47/50\n",
            "\n",
            "Epoch 00047: LearningRateScheduler setting learning rate to 0.0028896514.\n",
            "390/390 [==============================] - 56s 144ms/step - loss: 0.1937 - acc: 0.9296 - val_loss: 0.5738 - val_acc: 0.8407\n",
            "\n",
            "Epoch 00047: val_acc improved from 0.83770 to 0.84070, saving model to weights_a3_5B.best.hdf5\n",
            "Epoch 48/50\n",
            "\n",
            "Epoch 00048: LearningRateScheduler setting learning rate to 0.0028336137.\n",
            "390/390 [==============================] - 56s 144ms/step - loss: 0.1877 - acc: 0.9315 - val_loss: 0.5761 - val_acc: 0.8385\n",
            "\n",
            "Epoch 00048: val_acc did not improve from 0.84070\n",
            "Epoch 49/50\n",
            "\n",
            "Epoch 00049: LearningRateScheduler setting learning rate to 0.0027797081.\n",
            "390/390 [==============================] - 56s 144ms/step - loss: 0.1907 - acc: 0.9298 - val_loss: 0.5961 - val_acc: 0.8364\n",
            "\n",
            "Epoch 00049: val_acc did not improve from 0.84070\n",
            "Epoch 50/50\n",
            "\n",
            "Epoch 00050: LearningRateScheduler setting learning rate to 0.0027278152.\n",
            "390/390 [==============================] - 56s 144ms/step - loss: 0.1842 - acc: 0.9321 - val_loss: 0.5972 - val_acc: 0.8353\n",
            "\n",
            "Epoch 00050: val_acc did not improve from 0.84070\n",
            "Model took 1681.35 seconds to train\n"
          ],
          "name": "stdout"
        },
        {
          "output_type": "display_data",
          "data": {
            "image/png": "[encoded data removed]",
            "text/plain": [
              "<Figure size 1080x360 with 2 Axes>"
            ]
          },
          "metadata": {
            "tags": []
          }
        },
        {
          "output_type": "stream",
          "text": [
            "Accuracy on test data is: 83.53\n"
          ],
          "name": "stdout"
        }
      ]
    },
    {
      "cell_type": "code",
      "metadata": {
        "id": "MduEDobGWUbE",
        "colab_type": "code",
        "colab": {
          "base_uri": "https://localhost:8080/",
          "height": 35
        },
        "outputId": "0508f719-675b-4eeb-9e44-1348dee33a07"
      },
      "source": [
        "model.load_weights('weights_a3_5B.best.hdf5')\n",
        "print (\"Accuracy on test data is: %0.2f\"%accuracy(test_features, test_labels, model))"
      ],
      "execution_count": 40,
      "outputs": [
        {
          "output_type": "stream",
          "text": [
            "Accuracy on test data is: 84.07\n"
          ],
          "name": "stdout"
        }
      ]
    }
  ]
}